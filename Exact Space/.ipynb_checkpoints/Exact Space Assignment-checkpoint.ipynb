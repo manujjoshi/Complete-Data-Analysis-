{
 "cells": [
  {
   "cell_type": "markdown",
   "id": "244993c1",
   "metadata": {},
   "source": [
    "# `Anomaly Detection in Time Series Data`"
   ]
  },
  {
   "cell_type": "code",
   "execution_count": 88,
   "id": "39cb0159",
   "metadata": {},
   "outputs": [],
   "source": [
    "import pandas as pd\n",
    "import numpy as np"
   ]
  },
  {
   "cell_type": "code",
   "execution_count": 89,
   "id": "28cc042d",
   "metadata": {},
   "outputs": [
    {
     "data": {
      "text/html": [
       "<div>\n",
       "<style scoped>\n",
       "    .dataframe tbody tr th:only-of-type {\n",
       "        vertical-align: middle;\n",
       "    }\n",
       "\n",
       "    .dataframe tbody tr th {\n",
       "        vertical-align: top;\n",
       "    }\n",
       "\n",
       "    .dataframe thead th {\n",
       "        text-align: right;\n",
       "    }\n",
       "</style>\n",
       "<table border=\"1\" class=\"dataframe\">\n",
       "  <thead>\n",
       "    <tr style=\"text-align: right;\">\n",
       "      <th></th>\n",
       "      <th>time</th>\n",
       "      <th>Cyclone_Inlet_Gas_Temp</th>\n",
       "      <th>Cyclone_Material_Temp</th>\n",
       "      <th>Cyclone_Outlet_Gas_draft</th>\n",
       "      <th>Cyclone_cone_draft</th>\n",
       "      <th>Cyclone_Gas_Outlet_Temp</th>\n",
       "      <th>Cyclone_Inlet_Draft</th>\n",
       "    </tr>\n",
       "  </thead>\n",
       "  <tbody>\n",
       "    <tr>\n",
       "      <th>0</th>\n",
       "      <td>1/1/2017 0:00</td>\n",
       "      <td>867.63</td>\n",
       "      <td>910.42</td>\n",
       "      <td>-189.54</td>\n",
       "      <td>-186.04</td>\n",
       "      <td>852.13</td>\n",
       "      <td>-145.9</td>\n",
       "    </tr>\n",
       "    <tr>\n",
       "      <th>1</th>\n",
       "      <td>1/1/2017 0:05</td>\n",
       "      <td>879.23</td>\n",
       "      <td>918.14</td>\n",
       "      <td>-184.33</td>\n",
       "      <td>-182.1</td>\n",
       "      <td>862.53</td>\n",
       "      <td>-149.76</td>\n",
       "    </tr>\n",
       "    <tr>\n",
       "      <th>2</th>\n",
       "      <td>1/1/2017 0:10</td>\n",
       "      <td>875.67</td>\n",
       "      <td>924.18</td>\n",
       "      <td>-181.26</td>\n",
       "      <td>-166.47</td>\n",
       "      <td>866.06</td>\n",
       "      <td>-145.01</td>\n",
       "    </tr>\n",
       "    <tr>\n",
       "      <th>3</th>\n",
       "      <td>1/1/2017 0:15</td>\n",
       "      <td>875.28</td>\n",
       "      <td>923.15</td>\n",
       "      <td>-179.15</td>\n",
       "      <td>-174.83</td>\n",
       "      <td>865.85</td>\n",
       "      <td>-142.82</td>\n",
       "    </tr>\n",
       "    <tr>\n",
       "      <th>4</th>\n",
       "      <td>1/1/2017 0:20</td>\n",
       "      <td>891.66</td>\n",
       "      <td>934.26</td>\n",
       "      <td>-178.32</td>\n",
       "      <td>-173.72</td>\n",
       "      <td>876.06</td>\n",
       "      <td>-143.39</td>\n",
       "    </tr>\n",
       "  </tbody>\n",
       "</table>\n",
       "</div>"
      ],
      "text/plain": [
       "            time Cyclone_Inlet_Gas_Temp Cyclone_Material_Temp  \\\n",
       "0  1/1/2017 0:00                 867.63                910.42   \n",
       "1  1/1/2017 0:05                 879.23                918.14   \n",
       "2  1/1/2017 0:10                 875.67                924.18   \n",
       "3  1/1/2017 0:15                 875.28                923.15   \n",
       "4  1/1/2017 0:20                 891.66                934.26   \n",
       "\n",
       "  Cyclone_Outlet_Gas_draft Cyclone_cone_draft Cyclone_Gas_Outlet_Temp  \\\n",
       "0                  -189.54            -186.04                  852.13   \n",
       "1                  -184.33             -182.1                  862.53   \n",
       "2                  -181.26            -166.47                  866.06   \n",
       "3                  -179.15            -174.83                  865.85   \n",
       "4                  -178.32            -173.72                  876.06   \n",
       "\n",
       "  Cyclone_Inlet_Draft  \n",
       "0              -145.9  \n",
       "1             -149.76  \n",
       "2             -145.01  \n",
       "3             -142.82  \n",
       "4             -143.39  "
      ]
     },
     "execution_count": 89,
     "metadata": {},
     "output_type": "execute_result"
    }
   ],
   "source": [
    "data = pd.read_csv('data.csv')\n",
    "data.head()"
   ]
  },
  {
   "cell_type": "code",
   "execution_count": 90,
   "id": "80edbfe7",
   "metadata": {},
   "outputs": [
    {
     "data": {
      "text/plain": [
       "(377719, 7)"
      ]
     },
     "execution_count": 90,
     "metadata": {},
     "output_type": "execute_result"
    }
   ],
   "source": [
    "data.shape"
   ]
  },
  {
   "cell_type": "code",
   "execution_count": 91,
   "id": "79076b07",
   "metadata": {},
   "outputs": [
    {
     "data": {
      "text/html": [
       "<div>\n",
       "<style scoped>\n",
       "    .dataframe tbody tr th:only-of-type {\n",
       "        vertical-align: middle;\n",
       "    }\n",
       "\n",
       "    .dataframe tbody tr th {\n",
       "        vertical-align: top;\n",
       "    }\n",
       "\n",
       "    .dataframe thead th {\n",
       "        text-align: right;\n",
       "    }\n",
       "</style>\n",
       "<table border=\"1\" class=\"dataframe\">\n",
       "  <thead>\n",
       "    <tr style=\"text-align: right;\">\n",
       "      <th></th>\n",
       "      <th>time</th>\n",
       "      <th>Cyclone_Inlet_Gas_Temp</th>\n",
       "      <th>Cyclone_Material_Temp</th>\n",
       "      <th>Cyclone_Outlet_Gas_draft</th>\n",
       "      <th>Cyclone_cone_draft</th>\n",
       "      <th>Cyclone_Gas_Outlet_Temp</th>\n",
       "      <th>Cyclone_Inlet_Draft</th>\n",
       "    </tr>\n",
       "  </thead>\n",
       "  <tbody>\n",
       "    <tr>\n",
       "      <th>count</th>\n",
       "      <td>377719</td>\n",
       "      <td>377719</td>\n",
       "      <td>377719</td>\n",
       "      <td>377719</td>\n",
       "      <td>377719</td>\n",
       "      <td>377719</td>\n",
       "      <td>377719</td>\n",
       "    </tr>\n",
       "    <tr>\n",
       "      <th>unique</th>\n",
       "      <td>377719</td>\n",
       "      <td>39736</td>\n",
       "      <td>39662</td>\n",
       "      <td>27669</td>\n",
       "      <td>26487</td>\n",
       "      <td>48044</td>\n",
       "      <td>24010</td>\n",
       "    </tr>\n",
       "    <tr>\n",
       "      <th>top</th>\n",
       "      <td>1/1/2017 0:00</td>\n",
       "      <td>Not Connect</td>\n",
       "      <td>0</td>\n",
       "      <td>Not Connect</td>\n",
       "      <td>Not Connect</td>\n",
       "      <td>28.88</td>\n",
       "      <td>Not Connect</td>\n",
       "    </tr>\n",
       "    <tr>\n",
       "      <th>freq</th>\n",
       "      <td>1</td>\n",
       "      <td>723</td>\n",
       "      <td>14226</td>\n",
       "      <td>723</td>\n",
       "      <td>723</td>\n",
       "      <td>2036</td>\n",
       "      <td>723</td>\n",
       "    </tr>\n",
       "  </tbody>\n",
       "</table>\n",
       "</div>"
      ],
      "text/plain": [
       "                 time Cyclone_Inlet_Gas_Temp Cyclone_Material_Temp  \\\n",
       "count          377719                 377719                377719   \n",
       "unique         377719                  39736                 39662   \n",
       "top     1/1/2017 0:00            Not Connect                     0   \n",
       "freq                1                    723                 14226   \n",
       "\n",
       "       Cyclone_Outlet_Gas_draft Cyclone_cone_draft Cyclone_Gas_Outlet_Temp  \\\n",
       "count                    377719             377719                  377719   \n",
       "unique                    27669              26487                   48044   \n",
       "top                 Not Connect        Not Connect                   28.88   \n",
       "freq                        723                723                    2036   \n",
       "\n",
       "       Cyclone_Inlet_Draft  \n",
       "count               377719  \n",
       "unique               24010  \n",
       "top            Not Connect  \n",
       "freq                   723  "
      ]
     },
     "execution_count": 91,
     "metadata": {},
     "output_type": "execute_result"
    }
   ],
   "source": [
    "data.describe()"
   ]
  },
  {
   "cell_type": "code",
   "execution_count": 92,
   "id": "dc8e6361",
   "metadata": {},
   "outputs": [
    {
     "name": "stdout",
     "output_type": "stream",
     "text": [
      "<class 'pandas.core.frame.DataFrame'>\n",
      "RangeIndex: 377719 entries, 0 to 377718\n",
      "Data columns (total 7 columns):\n",
      " #   Column                    Non-Null Count   Dtype \n",
      "---  ------                    --------------   ----- \n",
      " 0   time                      377719 non-null  object\n",
      " 1   Cyclone_Inlet_Gas_Temp    377719 non-null  object\n",
      " 2   Cyclone_Material_Temp     377719 non-null  object\n",
      " 3   Cyclone_Outlet_Gas_draft  377719 non-null  object\n",
      " 4   Cyclone_cone_draft        377719 non-null  object\n",
      " 5   Cyclone_Gas_Outlet_Temp   377719 non-null  object\n",
      " 6   Cyclone_Inlet_Draft       377719 non-null  object\n",
      "dtypes: object(7)\n",
      "memory usage: 20.2+ MB\n"
     ]
    }
   ],
   "source": [
    "data.info()"
   ]
  },
  {
   "cell_type": "code",
   "execution_count": 93,
   "id": "d0c57f1a",
   "metadata": {},
   "outputs": [
    {
     "data": {
      "text/html": [
       "<div>\n",
       "<style scoped>\n",
       "    .dataframe tbody tr th:only-of-type {\n",
       "        vertical-align: middle;\n",
       "    }\n",
       "\n",
       "    .dataframe tbody tr th {\n",
       "        vertical-align: top;\n",
       "    }\n",
       "\n",
       "    .dataframe thead th {\n",
       "        text-align: right;\n",
       "    }\n",
       "</style>\n",
       "<table border=\"1\" class=\"dataframe\">\n",
       "  <thead>\n",
       "    <tr style=\"text-align: right;\">\n",
       "      <th></th>\n",
       "      <th>column_name</th>\n",
       "      <th>data_type</th>\n",
       "      <th>missing</th>\n",
       "      <th>missing%</th>\n",
       "      <th>uniques</th>\n",
       "      <th>unique%</th>\n",
       "      <th>count</th>\n",
       "    </tr>\n",
       "  </thead>\n",
       "  <tbody>\n",
       "    <tr>\n",
       "      <th>0</th>\n",
       "      <td>time</td>\n",
       "      <td>object</td>\n",
       "      <td>0</td>\n",
       "      <td>0.0</td>\n",
       "      <td>377719</td>\n",
       "      <td>100.000000</td>\n",
       "      <td>377719</td>\n",
       "    </tr>\n",
       "    <tr>\n",
       "      <th>1</th>\n",
       "      <td>Cyclone_Inlet_Gas_Temp</td>\n",
       "      <td>object</td>\n",
       "      <td>0</td>\n",
       "      <td>0.0</td>\n",
       "      <td>39736</td>\n",
       "      <td>10.519990</td>\n",
       "      <td>377719</td>\n",
       "    </tr>\n",
       "    <tr>\n",
       "      <th>2</th>\n",
       "      <td>Cyclone_Material_Temp</td>\n",
       "      <td>object</td>\n",
       "      <td>0</td>\n",
       "      <td>0.0</td>\n",
       "      <td>39662</td>\n",
       "      <td>10.500398</td>\n",
       "      <td>377719</td>\n",
       "    </tr>\n",
       "    <tr>\n",
       "      <th>3</th>\n",
       "      <td>Cyclone_Outlet_Gas_draft</td>\n",
       "      <td>object</td>\n",
       "      <td>0</td>\n",
       "      <td>0.0</td>\n",
       "      <td>27669</td>\n",
       "      <td>7.325287</td>\n",
       "      <td>377719</td>\n",
       "    </tr>\n",
       "    <tr>\n",
       "      <th>4</th>\n",
       "      <td>Cyclone_cone_draft</td>\n",
       "      <td>object</td>\n",
       "      <td>0</td>\n",
       "      <td>0.0</td>\n",
       "      <td>26487</td>\n",
       "      <td>7.012356</td>\n",
       "      <td>377719</td>\n",
       "    </tr>\n",
       "    <tr>\n",
       "      <th>5</th>\n",
       "      <td>Cyclone_Gas_Outlet_Temp</td>\n",
       "      <td>object</td>\n",
       "      <td>0</td>\n",
       "      <td>0.0</td>\n",
       "      <td>48044</td>\n",
       "      <td>12.719508</td>\n",
       "      <td>377719</td>\n",
       "    </tr>\n",
       "    <tr>\n",
       "      <th>6</th>\n",
       "      <td>Cyclone_Inlet_Draft</td>\n",
       "      <td>object</td>\n",
       "      <td>0</td>\n",
       "      <td>0.0</td>\n",
       "      <td>24010</td>\n",
       "      <td>6.356577</td>\n",
       "      <td>377719</td>\n",
       "    </tr>\n",
       "  </tbody>\n",
       "</table>\n",
       "</div>"
      ],
      "text/plain": [
       "                column_name data_type  missing  missing%  uniques     unique%  \\\n",
       "0                      time    object        0       0.0   377719  100.000000   \n",
       "1    Cyclone_Inlet_Gas_Temp    object        0       0.0    39736   10.519990   \n",
       "2     Cyclone_Material_Temp    object        0       0.0    39662   10.500398   \n",
       "3  Cyclone_Outlet_Gas_draft    object        0       0.0    27669    7.325287   \n",
       "4        Cyclone_cone_draft    object        0       0.0    26487    7.012356   \n",
       "5   Cyclone_Gas_Outlet_Temp    object        0       0.0    48044   12.719508   \n",
       "6       Cyclone_Inlet_Draft    object        0       0.0    24010    6.356577   \n",
       "\n",
       "    count  \n",
       "0  377719  \n",
       "1  377719  \n",
       "2  377719  \n",
       "3  377719  \n",
       "4  377719  \n",
       "5  377719  \n",
       "6  377719  "
      ]
     },
     "execution_count": 93,
     "metadata": {},
     "output_type": "execute_result"
    }
   ],
   "source": [
    "import general_overview as summary   # my function\n",
    "summary.summary_report_general(data)"
   ]
  },
  {
   "cell_type": "markdown",
   "id": "97cf023c",
   "metadata": {},
   "source": [
    "## `Choosed 0 as it is the obvious anomaly of no reading`"
   ]
  },
  {
   "cell_type": "code",
   "execution_count": 94,
   "id": "f2e4087c",
   "metadata": {},
   "outputs": [
    {
     "data": {
      "text/html": [
       "<div>\n",
       "<style scoped>\n",
       "    .dataframe tbody tr th:only-of-type {\n",
       "        vertical-align: middle;\n",
       "    }\n",
       "\n",
       "    .dataframe tbody tr th {\n",
       "        vertical-align: top;\n",
       "    }\n",
       "\n",
       "    .dataframe thead th {\n",
       "        text-align: right;\n",
       "    }\n",
       "</style>\n",
       "<table border=\"1\" class=\"dataframe\">\n",
       "  <thead>\n",
       "    <tr style=\"text-align: right;\">\n",
       "      <th></th>\n",
       "      <th>time</th>\n",
       "      <th>Cyclone_Inlet_Gas_Temp</th>\n",
       "      <th>Cyclone_Material_Temp</th>\n",
       "      <th>Cyclone_Outlet_Gas_draft</th>\n",
       "      <th>Cyclone_cone_draft</th>\n",
       "      <th>Cyclone_Gas_Outlet_Temp</th>\n",
       "      <th>Cyclone_Inlet_Draft</th>\n",
       "    </tr>\n",
       "  </thead>\n",
       "  <tbody>\n",
       "    <tr>\n",
       "      <th>count</th>\n",
       "      <td>377719</td>\n",
       "      <td>377719</td>\n",
       "      <td>377719</td>\n",
       "      <td>377719</td>\n",
       "      <td>377719</td>\n",
       "      <td>377719</td>\n",
       "      <td>377719</td>\n",
       "    </tr>\n",
       "    <tr>\n",
       "      <th>unique</th>\n",
       "      <td>377719</td>\n",
       "      <td>39736</td>\n",
       "      <td>39662</td>\n",
       "      <td>27669</td>\n",
       "      <td>26487</td>\n",
       "      <td>48044</td>\n",
       "      <td>24010</td>\n",
       "    </tr>\n",
       "    <tr>\n",
       "      <th>top</th>\n",
       "      <td>1/1/2017 0:00</td>\n",
       "      <td>Not Connect</td>\n",
       "      <td>0</td>\n",
       "      <td>Not Connect</td>\n",
       "      <td>Not Connect</td>\n",
       "      <td>28.88</td>\n",
       "      <td>Not Connect</td>\n",
       "    </tr>\n",
       "    <tr>\n",
       "      <th>freq</th>\n",
       "      <td>1</td>\n",
       "      <td>723</td>\n",
       "      <td>14226</td>\n",
       "      <td>723</td>\n",
       "      <td>723</td>\n",
       "      <td>2036</td>\n",
       "      <td>723</td>\n",
       "    </tr>\n",
       "  </tbody>\n",
       "</table>\n",
       "</div>"
      ],
      "text/plain": [
       "                 time Cyclone_Inlet_Gas_Temp Cyclone_Material_Temp  \\\n",
       "count          377719                 377719                377719   \n",
       "unique         377719                  39736                 39662   \n",
       "top     1/1/2017 0:00            Not Connect                     0   \n",
       "freq                1                    723                 14226   \n",
       "\n",
       "       Cyclone_Outlet_Gas_draft Cyclone_cone_draft Cyclone_Gas_Outlet_Temp  \\\n",
       "count                    377719             377719                  377719   \n",
       "unique                    27669              26487                   48044   \n",
       "top                 Not Connect        Not Connect                   28.88   \n",
       "freq                        723                723                    2036   \n",
       "\n",
       "       Cyclone_Inlet_Draft  \n",
       "count               377719  \n",
       "unique               24010  \n",
       "top            Not Connect  \n",
       "freq                   723  "
      ]
     },
     "execution_count": 94,
     "metadata": {},
     "output_type": "execute_result"
    }
   ],
   "source": [
    "data.describe()"
   ]
  },
  {
   "cell_type": "code",
   "execution_count": 95,
   "id": "17bc8913",
   "metadata": {},
   "outputs": [],
   "source": [
    "# data.replace(['Not Connect','I/O Timeout','Scan Timeout','Configure','Comm Fail','Unit Down'],0,inplace=True)"
   ]
  },
  {
   "cell_type": "code",
   "execution_count": 96,
   "id": "97e639ab",
   "metadata": {},
   "outputs": [],
   "source": [
    "original_length = data.shape[0]"
   ]
  },
  {
   "cell_type": "code",
   "execution_count": 97,
   "id": "c51cf068",
   "metadata": {},
   "outputs": [],
   "source": [
    "# data.columns"
   ]
  },
  {
   "cell_type": "code",
   "execution_count": 98,
   "id": "f4620e7f",
   "metadata": {},
   "outputs": [],
   "source": [
    "data = data[data['Cyclone_Inlet_Draft']!='Not Connect']\n",
    "data = data[data['Cyclone_Inlet_Draft']!='I/O Timeout']\n",
    "data = data[data['Cyclone_Inlet_Draft']!='Scan Timeout']\n",
    "data = data[data['Cyclone_Inlet_Draft']!='Configure']\n",
    "data = data[data['Cyclone_Inlet_Draft']!='Comm Fail']\n",
    "data = data[data['Cyclone_Gas_Outlet_Temp']!='Unit Down']\n",
    "data = data[data['Cyclone_Inlet_Draft']!='Unit Down']\n",
    "data = data[data['Cyclone_Material_Temp']!='Unit Down']\n",
    "data = data[data['Cyclone_Outlet_Gas_draft']!='Unit Down']"
   ]
  },
  {
   "cell_type": "code",
   "execution_count": 99,
   "id": "9a49fbe8",
   "metadata": {},
   "outputs": [
    {
     "data": {
      "text/plain": [
       "Index(['time', 'Cyclone_Inlet_Gas_Temp', 'Cyclone_Material_Temp',\n",
       "       'Cyclone_Outlet_Gas_draft', 'Cyclone_cone_draft',\n",
       "       'Cyclone_Gas_Outlet_Temp', 'Cyclone_Inlet_Draft'],\n",
       "      dtype='object')"
      ]
     },
     "execution_count": 99,
     "metadata": {},
     "output_type": "execute_result"
    }
   ],
   "source": [
    "data.columns"
   ]
  },
  {
   "cell_type": "code",
   "execution_count": 100,
   "id": "e7582712",
   "metadata": {},
   "outputs": [
    {
     "data": {
      "text/plain": [
       "23.53     309\n",
       "900.12    161\n",
       "879.55    159\n",
       "852.95    146\n",
       "820       116\n",
       "         ... \n",
       "219.51      1\n",
       "219.99      1\n",
       "219.6       1\n",
       "218.6       1\n",
       "986.66      1\n",
       "Name: Cyclone_Inlet_Gas_Temp, Length: 39718, dtype: int64"
      ]
     },
     "execution_count": 100,
     "metadata": {},
     "output_type": "execute_result"
    }
   ],
   "source": [
    "data.Cyclone_Inlet_Gas_Temp.value_counts()"
   ]
  },
  {
   "cell_type": "code",
   "execution_count": 102,
   "id": "582d9650",
   "metadata": {},
   "outputs": [
    {
     "data": {
      "text/html": [
       "<div>\n",
       "<style scoped>\n",
       "    .dataframe tbody tr th:only-of-type {\n",
       "        vertical-align: middle;\n",
       "    }\n",
       "\n",
       "    .dataframe tbody tr th {\n",
       "        vertical-align: top;\n",
       "    }\n",
       "\n",
       "    .dataframe thead th {\n",
       "        text-align: right;\n",
       "    }\n",
       "</style>\n",
       "<table border=\"1\" class=\"dataframe\">\n",
       "  <thead>\n",
       "    <tr style=\"text-align: right;\">\n",
       "      <th></th>\n",
       "      <th>time</th>\n",
       "      <th>Cyclone_Inlet_Gas_Temp</th>\n",
       "      <th>Cyclone_Material_Temp</th>\n",
       "      <th>Cyclone_Outlet_Gas_draft</th>\n",
       "      <th>Cyclone_cone_draft</th>\n",
       "      <th>Cyclone_Gas_Outlet_Temp</th>\n",
       "      <th>Cyclone_Inlet_Draft</th>\n",
       "    </tr>\n",
       "  </thead>\n",
       "  <tbody>\n",
       "    <tr>\n",
       "      <th>count</th>\n",
       "      <td>376124</td>\n",
       "      <td>376124</td>\n",
       "      <td>376124</td>\n",
       "      <td>376124</td>\n",
       "      <td>376124</td>\n",
       "      <td>376124</td>\n",
       "      <td>376124</td>\n",
       "    </tr>\n",
       "    <tr>\n",
       "      <th>unique</th>\n",
       "      <td>376124</td>\n",
       "      <td>39718</td>\n",
       "      <td>39656</td>\n",
       "      <td>27660</td>\n",
       "      <td>26479</td>\n",
       "      <td>48023</td>\n",
       "      <td>24002</td>\n",
       "    </tr>\n",
       "    <tr>\n",
       "      <th>top</th>\n",
       "      <td>1/1/2017 0:00</td>\n",
       "      <td>23.53</td>\n",
       "      <td>0</td>\n",
       "      <td>1.33</td>\n",
       "      <td>-0.57</td>\n",
       "      <td>28.88</td>\n",
       "      <td>-1.49</td>\n",
       "    </tr>\n",
       "    <tr>\n",
       "      <th>freq</th>\n",
       "      <td>1</td>\n",
       "      <td>309</td>\n",
       "      <td>14226</td>\n",
       "      <td>224</td>\n",
       "      <td>329</td>\n",
       "      <td>2036</td>\n",
       "      <td>279</td>\n",
       "    </tr>\n",
       "  </tbody>\n",
       "</table>\n",
       "</div>"
      ],
      "text/plain": [
       "                 time Cyclone_Inlet_Gas_Temp Cyclone_Material_Temp  \\\n",
       "count          376124                 376124                376124   \n",
       "unique         376124                  39718                 39656   \n",
       "top     1/1/2017 0:00                  23.53                     0   \n",
       "freq                1                    309                 14226   \n",
       "\n",
       "       Cyclone_Outlet_Gas_draft Cyclone_cone_draft Cyclone_Gas_Outlet_Temp  \\\n",
       "count                    376124             376124                  376124   \n",
       "unique                    27660              26479                   48023   \n",
       "top                        1.33              -0.57                   28.88   \n",
       "freq                        224                329                    2036   \n",
       "\n",
       "       Cyclone_Inlet_Draft  \n",
       "count               376124  \n",
       "unique               24002  \n",
       "top                  -1.49  \n",
       "freq                   279  "
      ]
     },
     "execution_count": 102,
     "metadata": {},
     "output_type": "execute_result"
    }
   ],
   "source": [
    "data.describe()"
   ]
  },
  {
   "cell_type": "code",
   "execution_count": 103,
   "id": "98200a45",
   "metadata": {},
   "outputs": [],
   "source": [
    "data.Cyclone_cone_draft = data.Cyclone_cone_draft.astype(float)\n",
    "data.Cyclone_Gas_Outlet_Temp = data.Cyclone_Gas_Outlet_Temp.astype(float)\n",
    "data.Cyclone_Inlet_Draft = data.Cyclone_Inlet_Draft.astype(float)\n",
    "data.Cyclone_Inlet_Gas_Temp = data.Cyclone_Inlet_Gas_Temp.astype(float)\n",
    "data.Cyclone_Material_Temp = data.Cyclone_Material_Temp.astype(float)\n",
    "data.Cyclone_Outlet_Gas_draft = data.Cyclone_Outlet_Gas_draft.astype(float)"
   ]
  },
  {
   "cell_type": "code",
   "execution_count": 104,
   "id": "2d061c3d",
   "metadata": {},
   "outputs": [],
   "source": [
    "# data[['Cyclone_Inlet_Gas_Temp', 'Cyclone_Material_Temp',\n",
    "#        'Cyclone_Outlet_Gas_draft', 'Cyclone_cone_draft',\n",
    "#        'Cyclone_Gas_Outlet_Temp', 'Cyclone_Inlet_Draft']] = data[['Cyclone_Inlet_Gas_Temp', 'Cyclone_Material_Temp',\n",
    "#        'Cyclone_Outlet_Gas_draft', 'Cyclone_cone_draft',\n",
    "#        'Cyclone_Gas_Outlet_Temp', 'Cyclone_Inlet_Draft']].astype(float)"
   ]
  },
  {
   "cell_type": "code",
   "execution_count": 105,
   "id": "40b5dad1",
   "metadata": {},
   "outputs": [
    {
     "data": {
      "text/plain": [
       "time                         object\n",
       "Cyclone_Inlet_Gas_Temp      float64\n",
       "Cyclone_Material_Temp       float64\n",
       "Cyclone_Outlet_Gas_draft    float64\n",
       "Cyclone_cone_draft          float64\n",
       "Cyclone_Gas_Outlet_Temp     float64\n",
       "Cyclone_Inlet_Draft         float64\n",
       "dtype: object"
      ]
     },
     "execution_count": 105,
     "metadata": {},
     "output_type": "execute_result"
    }
   ],
   "source": [
    "data.dtypes"
   ]
  },
  {
   "cell_type": "code",
   "execution_count": 106,
   "id": "85200500",
   "metadata": {},
   "outputs": [],
   "source": [
    "# cat = []\n",
    "# num = []\n",
    "# for i in data.columns:\n",
    "#     if data[i].dtype == 'object':\n",
    "#         cat.append(i)\n",
    "#     else:\n",
    "#         num.append(i)"
   ]
  },
  {
   "cell_type": "code",
   "execution_count": 107,
   "id": "765ccd1b",
   "metadata": {},
   "outputs": [],
   "source": [
    "# import seaborn as sns\n",
    "# import matplotlib.pyplot as plt\n",
    "# import warnings\n",
    "# warnings.filterwarnings('ignore')\n",
    "# for i in num:\n",
    "#     plt.title(i,fontsize=20)\n",
    "#     sns.distplot(data[i])\n",
    "#     plt.show()"
   ]
  },
  {
   "cell_type": "code",
   "execution_count": 108,
   "id": "fc048a48",
   "metadata": {},
   "outputs": [],
   "source": [
    "# sns.pairplot(data[num])"
   ]
  },
  {
   "cell_type": "code",
   "execution_count": 109,
   "id": "e4260099",
   "metadata": {},
   "outputs": [],
   "source": [
    "data['timestamp'] = pd.to_datetime(data['time'])\n",
    "data.drop('time',axis=1,inplace=True)"
   ]
  },
  {
   "cell_type": "code",
   "execution_count": 110,
   "id": "133f3c2d",
   "metadata": {},
   "outputs": [
    {
     "data": {
      "text/plain": [
       "Cyclone_Inlet_Gas_Temp             float64\n",
       "Cyclone_Material_Temp              float64\n",
       "Cyclone_Outlet_Gas_draft           float64\n",
       "Cyclone_cone_draft                 float64\n",
       "Cyclone_Gas_Outlet_Temp            float64\n",
       "Cyclone_Inlet_Draft                float64\n",
       "timestamp                   datetime64[ns]\n",
       "dtype: object"
      ]
     },
     "execution_count": 110,
     "metadata": {},
     "output_type": "execute_result"
    }
   ],
   "source": [
    "data.dtypes"
   ]
  },
  {
   "cell_type": "code",
   "execution_count": 111,
   "id": "e944156d",
   "metadata": {},
   "outputs": [],
   "source": [
    "adjusted_length = data.shape[0]"
   ]
  },
  {
   "cell_type": "code",
   "execution_count": 113,
   "id": "02aec583",
   "metadata": {},
   "outputs": [
    {
     "data": {
      "text/plain": [
       "0.42"
      ]
     },
     "execution_count": 113,
     "metadata": {},
     "output_type": "execute_result"
    }
   ],
   "source": [
    "data_lost = ((original_length - adjusted_length)/data.shape[0])*100\n",
    "np.round(data_lost,2)"
   ]
  },
  {
   "cell_type": "markdown",
   "id": "f3347cfc",
   "metadata": {},
   "source": [
    "### `0.42% data Lost`"
   ]
  },
  {
   "cell_type": "markdown",
   "id": "5f107f8f",
   "metadata": {},
   "source": [
    "## `Data is ready for further analysis`"
   ]
  },
  {
   "cell_type": "code",
   "execution_count": null,
   "id": "da9d629d",
   "metadata": {},
   "outputs": [],
   "source": []
  }
 ],
 "metadata": {
  "kernelspec": {
   "display_name": "Python 3 (ipykernel)",
   "language": "python",
   "name": "python3"
  },
  "language_info": {
   "codemirror_mode": {
    "name": "ipython",
    "version": 3
   },
   "file_extension": ".py",
   "mimetype": "text/x-python",
   "name": "python",
   "nbconvert_exporter": "python",
   "pygments_lexer": "ipython3",
   "version": "3.9.7"
  }
 },
 "nbformat": 4,
 "nbformat_minor": 5
}
