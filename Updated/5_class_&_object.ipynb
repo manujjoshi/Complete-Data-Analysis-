{
 "cells": [
  {
   "cell_type": "markdown",
   "metadata": {},
   "source": [
    "# Python and OOPS\n",
    "\n",
    "Python is a multi-paradigm programming language. Meaning, it supports different programming approaches: Procedure-oriented programming and Object-oriented programming (OOP)\n",
    "\n",
    "One of the popular approaches to solve a programming problem is by creating objects. This is known as OOP.\n",
    "\n",
    "The concept of OOP in Python focuses on creating reusable code. This concept is also known as DRY (Don't Repeat Yourself).\n",
    "\n",
    "Python is an object oriented programming language. Unlike procedure oriented programming, where the main emphasis is on functions, object oriented programming stress on objects.\n",
    "\n",
    "Object is simply a collection of data (variables) and methods (functions) that act on those data. And, class is a blueprint for the object.\n",
    "\n",
    "We can think of class as a sketch (prototype) of a house. It contains all the details about the floors, doors, windows etc. Based on these descriptions we build the house. House is the object.\n",
    "\n",
    "As, many houses can be made from a description, we can create many objects from a class. An object is also called an instance of a class and the process of creating this object is called instantiation."
   ]
  },
  {
   "cell_type": "markdown",
   "metadata": {},
   "source": [
    "# Classes and Objects\n",
    "\n",
    "\n",
    "Object-oriented programming (OOP) involves the use of objects to create programs. An object represents an entity in the real world that can be distinctly identified. For example, a student, a desk, a circle, a button, and even a loan can all be viewed as objects. An object has a unique identity, state, and behavior.\n",
    "\n",
    "- An object’s identity is like a person’s Social Security number. Python automatically assigns each object a unique id for identifying the object at runtime.\n",
    "- An object’s state (also known as its properties or attributes) is represented by variables, called data fields. A circle object, for example, has a data field radius, which is a property that characterizes a circle. A rectangle object has the data fields width and height, which are properties that characterize a rectangle.\n",
    "- Python uses methods to define an object’s behavior (also known as its actions). Recall that methods are defined as functions. You make an object perform an action by invoking a method on that object. For example, you can define methods named getArea() and getPerimeter() for circle objects. A circle object can then invoke the getArea() method to return its area and the getPerimeter() method to return its perimeter.\n",
    "\n",
    "Objects of the same kind are defined by using a common class. The relationship between classes and objects is analogous to that between an apple-pie recipe and apple pies. You can make as many apple pies (objects) as you want from a single recipe (class).\n",
    "\n",
    "A Python class uses variables to store data fields and defines methods to perform actions. A class is a contract—also sometimes called a template or blueprint—that defines what an object’s data fields and methods will be.\n",
    "\n",
    "An object is an instance of a class, and you can create many instances of a class. Creating an instance of a class is referred to as instantiation. The terms object and instance are often used interchangeably. An object is an instance and an instance is an object.\n",
    "\n",
    "\n",
    "### In simple terms\n",
    " - Classes provide a means of bundling data and functionality together. Creating a new class creates a new type of object, allowing new instances of that type to be made. \n",
    "\n",
    " - Let's see if we can make a better encapsulated \n",
    "\n",
    "\n",
    "\n"
   ]
  },
  {
   "cell_type": "markdown",
   "metadata": {},
   "source": [
    "![](https://dizitall.com/wp-content/uploads/2017/02/oopcar.png)"
   ]
  },
  {
   "cell_type": "markdown",
   "metadata": {},
   "source": [
    "![](https://upload.wikimedia.org/wikipedia/commons/thumb/6/62/CPT-OOP-objects_and_classes.svg/220px-CPT-OOP-objects_and_classes.svg.png)"
   ]
  },
  {
   "cell_type": "code",
   "execution_count": 16,
   "metadata": {},
   "outputs": [],
   "source": [
    "class School:\n",
    "    \n",
    "    def add_school_name(self,name):\n",
    "        self.name = name\n",
    "        self.list_student = []\n",
    "    \n",
    "    def add_student(self,student_name):\n",
    "        self.list_student.append(student_name)\n",
    "        \n",
    "    def remove_student(self,name):\n",
    "        self.list_student.remove(name)\n",
    "        \n",
    "    def get_number_of_student_in_school(self):\n",
    "        print(f\"Number of in a school {self.name} is {len(self.list_student)}\")"
   ]
  },
  {
   "cell_type": "code",
   "execution_count": 25,
   "metadata": {},
   "outputs": [
    {
     "name": "stdout",
     "output_type": "stream",
     "text": [
      "139935517486608\n"
     ]
    }
   ],
   "source": [
    "abc = School() # defining a object\n",
    "print(id(abc))"
   ]
  },
  {
   "cell_type": "code",
   "execution_count": 34,
   "metadata": {},
   "outputs": [],
   "source": [
    "abc.add_school_name(\"abc school\")"
   ]
  },
  {
   "cell_type": "code",
   "execution_count": 35,
   "metadata": {},
   "outputs": [],
   "source": [
    "abc.add_student(\"Priyal\") # classing a methods\n",
    "abc.add_student(\"Balakrishna\")\n",
    "abc.add_student(\"Mahender\")"
   ]
  },
  {
   "cell_type": "code",
   "execution_count": 36,
   "metadata": {},
   "outputs": [
    {
     "name": "stdout",
     "output_type": "stream",
     "text": [
      "Number of in a school abc school is 3\n"
     ]
    }
   ],
   "source": [
    "abc.get_number_of_student_in_school()"
   ]
  },
  {
   "cell_type": "code",
   "execution_count": 37,
   "metadata": {},
   "outputs": [],
   "source": [
    "abc.remove_student(\"Mahender\")"
   ]
  },
  {
   "cell_type": "code",
   "execution_count": 38,
   "metadata": {},
   "outputs": [
    {
     "name": "stdout",
     "output_type": "stream",
     "text": [
      "Number of in a school abc school is 2\n"
     ]
    }
   ],
   "source": [
    "abc.get_number_of_student_in_school()"
   ]
  },
  {
   "cell_type": "code",
   "execution_count": 39,
   "metadata": {},
   "outputs": [
    {
     "name": "stdout",
     "output_type": "stream",
     "text": [
      "139935517096784\n"
     ]
    }
   ],
   "source": [
    "xyz = School()\n",
    "print(id(xyz))\n",
    "xyz.add_school_name(\"xyz school\")\n",
    "xyz.add_student(\"Sara\")\n",
    "xyz.add_student(\"Bala\")\n",
    "xyz.add_student(\"Sara_2\")\n",
    "xyz.add_student(\"Bala_3\")"
   ]
  },
  {
   "cell_type": "code",
   "execution_count": 40,
   "metadata": {},
   "outputs": [
    {
     "name": "stdout",
     "output_type": "stream",
     "text": [
      "Number of in a school abc school is 2\n",
      "Number of in a school xyz school is 4\n"
     ]
    }
   ],
   "source": [
    "abc.get_number_of_student_in_school()\n",
    "xyz.get_number_of_student_in_school()"
   ]
  },
  {
   "cell_type": "markdown",
   "metadata": {},
   "source": [
    "# User definded constructor"
   ]
  },
  {
   "cell_type": "code",
   "execution_count": 48,
   "metadata": {},
   "outputs": [],
   "source": [
    "class School:\n",
    "    \n",
    "    def __init__(self, name): # sonstructor -> using this method u can pass certain value to object at creation time\n",
    "        print(\"Constructor is invoked\")\n",
    "        print(f\"School create with name {name}\")\n",
    "        self.name = name\n",
    "        self.list_student = []\n",
    "    \n",
    "    def add_student(self,student_name):\n",
    "        self.list_student.append(student_name)\n",
    "        \n",
    "    def remove_student(self,name):\n",
    "        self.list_student.remove(name)\n",
    "        \n",
    "    def get_number_of_student_in_school(self):\n",
    "        print(f\"Number of in a school {self.name} is {len(self.list_student)}\")\n",
    "    \n",
    "    def get_student_list(self):\n",
    "        for student in self.list_student:\n",
    "            print(student)"
   ]
  },
  {
   "cell_type": "code",
   "execution_count": 49,
   "metadata": {},
   "outputs": [
    {
     "name": "stdout",
     "output_type": "stream",
     "text": [
      "Constructor is invoked\n",
      "School create with name ABC school\n"
     ]
    }
   ],
   "source": [
    "abc = School(\"ABC school\")"
   ]
  },
  {
   "cell_type": "code",
   "execution_count": 50,
   "metadata": {},
   "outputs": [],
   "source": [
    "abc.add_student(\"Priyal\") # classing a methods\n",
    "abc.add_student(\"Balakrishna\")\n",
    "abc.add_student(\"Mahender\")"
   ]
  },
  {
   "cell_type": "code",
   "execution_count": 51,
   "metadata": {},
   "outputs": [
    {
     "name": "stdout",
     "output_type": "stream",
     "text": [
      "Priyal\n",
      "Balakrishna\n",
      "Mahender\n"
     ]
    }
   ],
   "source": [
    "abc.get_student_list()"
   ]
  },
  {
   "cell_type": "code",
   "execution_count": 52,
   "metadata": {},
   "outputs": [
    {
     "name": "stdout",
     "output_type": "stream",
     "text": [
      "Constructor is invoked\n",
      "School create with name xyz school\n"
     ]
    }
   ],
   "source": [
    "xyz = School(\"xyz school\")\n",
    "xyz.add_student(\"Sara\")\n",
    "xyz.add_student(\"Bala\")\n",
    "xyz.add_student(\"Sara_2\")\n",
    "xyz.add_student(\"Bala_3\")"
   ]
  },
  {
   "cell_type": "code",
   "execution_count": 53,
   "metadata": {},
   "outputs": [
    {
     "name": "stdout",
     "output_type": "stream",
     "text": [
      "Sara\n",
      "Bala\n",
      "Sara_2\n",
      "Bala_3\n"
     ]
    }
   ],
   "source": [
    "xyz.get_student_list()"
   ]
  },
  {
   "cell_type": "markdown",
   "metadata": {},
   "source": [
    "# User defined destructor"
   ]
  },
  {
   "cell_type": "code",
   "execution_count": 54,
   "metadata": {},
   "outputs": [],
   "source": [
    "del xyz"
   ]
  },
  {
   "cell_type": "code",
   "execution_count": 55,
   "metadata": {},
   "outputs": [
    {
     "ename": "NameError",
     "evalue": "name 'xyz' is not defined",
     "output_type": "error",
     "traceback": [
      "\u001b[0;31m---------------------------------------------------------------------------\u001b[0m",
      "\u001b[0;31mNameError\u001b[0m                                 Traceback (most recent call last)",
      "\u001b[0;32m<ipython-input-55-e687f03c2b60>\u001b[0m in \u001b[0;36m<module>\u001b[0;34m\u001b[0m\n\u001b[0;32m----> 1\u001b[0;31m \u001b[0mxyz\u001b[0m\u001b[0;34m.\u001b[0m\u001b[0mget_student_list\u001b[0m\u001b[0;34m(\u001b[0m\u001b[0;34m)\u001b[0m\u001b[0;34m\u001b[0m\u001b[0;34m\u001b[0m\u001b[0m\n\u001b[0m",
      "\u001b[0;31mNameError\u001b[0m: name 'xyz' is not defined"
     ]
    }
   ],
   "source": [
    "xyz.get_student_list()"
   ]
  },
  {
   "cell_type": "code",
   "execution_count": 61,
   "metadata": {},
   "outputs": [
    {
     "name": "stdout",
     "output_type": "stream",
     "text": [
      "All 4 student are transfer to new schools\n"
     ]
    }
   ],
   "source": [
    "class School:\n",
    "    \n",
    "    def __init__(self, name): # sonstructor -> using this method u can pass certain value to object at creation time\n",
    "        print(\"Constructor is invoked\")\n",
    "        print(f\"School create with name {name}\")\n",
    "        self.name = name\n",
    "        self.list_student = []\n",
    "    \n",
    "    def add_student(self,student_name):\n",
    "        self.list_student.append(student_name)\n",
    "        \n",
    "    def remove_student(self,name):\n",
    "        self.list_student.remove(name)\n",
    "        \n",
    "    def get_number_of_student_in_school(self):\n",
    "        print(f\"Number of in a school {self.name} is {len(self.list_student)}\")\n",
    "    \n",
    "    def get_student_list(self):\n",
    "        for student in self.list_student:\n",
    "            print(student)\n",
    "            \n",
    "    def __del__(self):\n",
    "        print(f\"All {len(self.list_student)} student are transfer to new schools\")"
   ]
  },
  {
   "cell_type": "code",
   "execution_count": 62,
   "metadata": {},
   "outputs": [
    {
     "name": "stdout",
     "output_type": "stream",
     "text": [
      "Constructor is invoked\n",
      "School create with name xyz school\n"
     ]
    }
   ],
   "source": [
    "xyz = School(\"xyz school\")\n",
    "xyz.add_student(\"Sara\")\n",
    "xyz.add_student(\"Bala\")\n",
    "xyz.add_student(\"Sara_2\")\n",
    "xyz.add_student(\"Bala_3\")"
   ]
  },
  {
   "cell_type": "code",
   "execution_count": 63,
   "metadata": {},
   "outputs": [
    {
     "name": "stdout",
     "output_type": "stream",
     "text": [
      "Sara\n",
      "Bala\n",
      "Sara_2\n",
      "Bala_3\n"
     ]
    }
   ],
   "source": [
    "xyz.get_student_list()"
   ]
  },
  {
   "cell_type": "code",
   "execution_count": 64,
   "metadata": {},
   "outputs": [
    {
     "name": "stdout",
     "output_type": "stream",
     "text": [
      "Number of in a school xyz school is 4\n"
     ]
    }
   ],
   "source": [
    "xyz.get_number_of_student_in_school()"
   ]
  },
  {
   "cell_type": "code",
   "execution_count": 65,
   "metadata": {},
   "outputs": [
    {
     "name": "stdout",
     "output_type": "stream",
     "text": [
      "All 4 student are transfer to new schools\n"
     ]
    }
   ],
   "source": [
    "del xyz"
   ]
  },
  {
   "cell_type": "code",
   "execution_count": null,
   "metadata": {},
   "outputs": [],
   "source": []
  }
 ],
 "metadata": {
  "kernelspec": {
   "display_name": "Python 3",
   "language": "python",
   "name": "python3"
  },
  "language_info": {
   "codemirror_mode": {
    "name": "ipython",
    "version": 3
   },
   "file_extension": ".py",
   "mimetype": "text/x-python",
   "name": "python",
   "nbconvert_exporter": "python",
   "pygments_lexer": "ipython3",
   "version": "3.7.6"
  }
 },
 "nbformat": 4,
 "nbformat_minor": 4
}
