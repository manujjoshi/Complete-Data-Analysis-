{
 "cells": [
  {
   "cell_type": "markdown",
   "metadata": {},
   "source": [
    "# In Python, a file operation takes place in the following order:\n",
    "\n",
    ">- Open a file\n",
    ">- Read or Write\n",
    ">- Close the file\n",
    "\n",
    "\n",
    "\n",
    ">* The key function to work with files in Python is **open()** function.\n",
    ">* open() function takes filepath as parameter. Another parameter, mode is optional, but has additional options.\n",
    ">* Syntax of open() -\n",
    " - fileobject = open(filepath, mode = 'r')"
   ]
  },
  {
   "cell_type": "markdown",
   "metadata": {},
   "source": [
    "##### Different options with mode\n",
    "- r - Opens a file for reading only. (need not to specify explicityly, because this is the default option). If the file is not available, throws 'FileNotFoundError'.\n",
    "- w - Opens a file for writing the data. If a files does not exists, then it will create the file. If available then it clears the content of the file.\n",
    "- x - Creates the file, throws an error if the file already exists.\n",
    "- a - Opens a file appending the data at the end of the file without truncating the existing data. If a files does not exists, then it will create the file.\n",
    "\n",
    ">* **In addition to the above, we can specify the below options:** \n",
    ">* t - Opens the file in the text mode. (Default)\n",
    ">* b - Opens the file in binary mode. (used for non-text files like images)."
   ]
  },
  {
   "cell_type": "markdown",
   "metadata": {},
   "source": [
    "## Example 1"
   ]
  },
  {
   "cell_type": "code",
   "execution_count": 9,
   "metadata": {},
   "outputs": [],
   "source": [
    "path = \"/home/milan/Documents/Innomatic_training/data/student_marks.txt\"\n",
    "file = open(path,mode=\"r\")"
   ]
  },
  {
   "cell_type": "code",
   "execution_count": 10,
   "metadata": {},
   "outputs": [],
   "source": [
    "data = file.read()"
   ]
  },
  {
   "cell_type": "code",
   "execution_count": 11,
   "metadata": {},
   "outputs": [
    {
     "name": "stdout",
     "output_type": "stream",
     "text": [
      "100\n",
      "85\n",
      "78\n",
      "98\n",
      "54\n",
      "12\n",
      "45\n",
      "78\n",
      "78\n",
      "78\n"
     ]
    }
   ],
   "source": [
    "print(data)"
   ]
  },
  {
   "cell_type": "code",
   "execution_count": 18,
   "metadata": {},
   "outputs": [],
   "source": [
    "file.close() # important to close the file"
   ]
  },
  {
   "cell_type": "code",
   "execution_count": 13,
   "metadata": {},
   "outputs": [
    {
     "data": {
      "text/plain": [
       "[100, 85, 78, 98, 54, 12, 45, 78, 78, 78]"
      ]
     },
     "execution_count": 13,
     "metadata": {},
     "output_type": "execute_result"
    }
   ],
   "source": [
    "data = list(map(int,data.split(\"\\n\")))\n",
    "data"
   ]
  },
  {
   "cell_type": "code",
   "execution_count": 15,
   "metadata": {},
   "outputs": [
    {
     "name": "stdout",
     "output_type": "stream",
     "text": [
      "[(100, 'pass'), (85, 'pass'), (78, 'pass'), (98, 'pass'), (54, 'pass'), (12, 'fail'), (45, 'fail'), (78, 'pass'), (78, 'pass'), (78, 'pass')]\n"
     ]
    }
   ],
   "source": [
    "grade = []\n",
    "for marks in data:\n",
    "    if marks >=50:\n",
    "        grade.append(\"pass\")\n",
    "    else:\n",
    "        grade.append(\"fail\")\n",
    "print(list(zip(data,grade)))"
   ]
  },
  {
   "cell_type": "markdown",
   "metadata": {},
   "source": [
    "## File mode - \"r\""
   ]
  },
  {
   "cell_type": "code",
   "execution_count": 20,
   "metadata": {},
   "outputs": [
    {
     "name": "stdout",
     "output_type": "stream",
     "text": [
      "Python is an interpreted, high-level and general-purpose programming language used worldwide. \n",
      "Python's design philosophy emphasizes code readability with its notable use of significant whitespace. \n",
      "Its language constructs and object-oriented approach aim to help programmers write clear, logical code for small and large-scale projects. \n",
      "Python is dynamically typed and garbage-collected. It supports multiple programming paradigms, including structured (particularly, procedural), object-oriented and functional programming. Python is often described as a \"batteries included\" language due to its comprehensive standard library. Python was created in the late 1980s, and first released in 1991, by Guido van Rossum as a successor to the ABC programming language.\n",
      " Python 2.0, released in 2000, introduced new features, such as list comprehensions, and a garbage collection system with reference counting, and was discontinued with version 2.7 in 2020.[29] Python 3.0, released in 2008, was a major revision of the language that is not completely backward-compatible and much Python 2 code does not run unmodified on Python 3. With Python 2's end-of-life, only Python 3.6.x[30] and later are supported, with older versions still supporting e.g. Windows 7 (and old installers not restricted to 64-bit Windows).\n"
     ]
    }
   ],
   "source": [
    "file = open(\"/home/milan/Documents/Innomatic_training/data/test_content.txt\",mode=\"r\")\n",
    "data_2 = file.read()\n",
    "print(data_2)\n",
    "file.close()"
   ]
  },
  {
   "cell_type": "markdown",
   "metadata": {},
   "source": [
    "## File mode - \"w\""
   ]
  },
  {
   "cell_type": "code",
   "execution_count": 23,
   "metadata": {},
   "outputs": [],
   "source": [
    "file = open(\"/home/milan/Documents/Innomatic_training/data/test_content_2.txt\",mode=\"w\")\n",
    "file.write(data_2)\n",
    "file.close()"
   ]
  },
  {
   "cell_type": "code",
   "execution_count": 28,
   "metadata": {},
   "outputs": [],
   "source": [
    "file = open(\"/home/milan/Documents/Innomatic_training/data/test_content_2.txt\",mode=\"w\")\n",
    "file.write(\"hello guys\\n\")\n",
    "file.close()"
   ]
  },
  {
   "cell_type": "markdown",
   "metadata": {},
   "source": [
    "## File mode - \"a\""
   ]
  },
  {
   "cell_type": "code",
   "execution_count": 29,
   "metadata": {},
   "outputs": [],
   "source": [
    "file = open(\"/home/milan/Documents/Innomatic_training/data/test_content_2.txt\",mode=\"a\")\n",
    "file.write(\"\\nhello guys 3\\n\")\n",
    "file.close()"
   ]
  },
  {
   "cell_type": "code",
   "execution_count": 30,
   "metadata": {},
   "outputs": [],
   "source": [
    "file = open(\"/home/milan/Documents/Innomatic_training/data/test_content_2.txt\",mode=\"a\")\n",
    "file.write(\"\\nhello guys 4\\n\")\n",
    "file.close()"
   ]
  },
  {
   "cell_type": "code",
   "execution_count": 31,
   "metadata": {},
   "outputs": [],
   "source": [
    "file = open(\"/home/milan/Documents/Innomatic_training/data/test_content_2.txt\",mode=\"a\")\n",
    "file.write(\"\\nhello guys 5\\n\")\n",
    "file.close()"
   ]
  },
  {
   "cell_type": "code",
   "execution_count": 32,
   "metadata": {},
   "outputs": [],
   "source": [
    "file = open(\"/home/milan/Documents/Innomatic_training/data/test_content_3.txt\",mode=\"a\")\n",
    "file.write(\"\\nhello guys 5\\n\")\n",
    "file.close()"
   ]
  },
  {
   "cell_type": "markdown",
   "metadata": {},
   "source": [
    "## File mode - \"x\""
   ]
  },
  {
   "cell_type": "markdown",
   "metadata": {},
   "source": [
    "### Example 1:"
   ]
  },
  {
   "cell_type": "code",
   "execution_count": 34,
   "metadata": {},
   "outputs": [],
   "source": [
    "file = open(\"/home/milan/Documents/Innomatic_training/data/test_content_4.txt\",mode=\"x\")\n",
    "file.write(data_2)\n",
    "file.close()"
   ]
  },
  {
   "cell_type": "code",
   "execution_count": 35,
   "metadata": {},
   "outputs": [
    {
     "ename": "FileExistsError",
     "evalue": "[Errno 17] File exists: '/home/milan/Documents/Innomatic_training/data/test_content_4.txt'",
     "output_type": "error",
     "traceback": [
      "\u001b[0;31m---------------------------------------------------------------------------\u001b[0m",
      "\u001b[0;31mFileExistsError\u001b[0m                           Traceback (most recent call last)",
      "\u001b[0;32m<ipython-input-35-bc4ce4e7072e>\u001b[0m in \u001b[0;36m<module>\u001b[0;34m\u001b[0m\n\u001b[0;32m----> 1\u001b[0;31m \u001b[0mfile\u001b[0m \u001b[0;34m=\u001b[0m \u001b[0mopen\u001b[0m\u001b[0;34m(\u001b[0m\u001b[0;34m\"/home/milan/Documents/Innomatic_training/data/test_content_4.txt\"\u001b[0m\u001b[0;34m,\u001b[0m\u001b[0mmode\u001b[0m\u001b[0;34m=\u001b[0m\u001b[0;34m\"x\"\u001b[0m\u001b[0;34m)\u001b[0m\u001b[0;34m\u001b[0m\u001b[0;34m\u001b[0m\u001b[0m\n\u001b[0m\u001b[1;32m      2\u001b[0m \u001b[0mfile\u001b[0m\u001b[0;34m.\u001b[0m\u001b[0mwrite\u001b[0m\u001b[0;34m(\u001b[0m\u001b[0mdata_2\u001b[0m\u001b[0;34m)\u001b[0m\u001b[0;34m\u001b[0m\u001b[0;34m\u001b[0m\u001b[0m\n\u001b[1;32m      3\u001b[0m \u001b[0mfile\u001b[0m\u001b[0;34m.\u001b[0m\u001b[0mclose\u001b[0m\u001b[0;34m(\u001b[0m\u001b[0;34m)\u001b[0m\u001b[0;34m\u001b[0m\u001b[0;34m\u001b[0m\u001b[0m\n",
      "\u001b[0;31mFileExistsError\u001b[0m: [Errno 17] File exists: '/home/milan/Documents/Innomatic_training/data/test_content_4.txt'"
     ]
    }
   ],
   "source": [
    "file = open(\"/home/milan/Documents/Innomatic_training/data/test_content_4.txt\",mode=\"x\")\n",
    "file.write(data_2)\n",
    "file.close()"
   ]
  },
  {
   "cell_type": "markdown",
   "metadata": {},
   "source": [
    "### Example 2:"
   ]
  },
  {
   "cell_type": "code",
   "execution_count": 38,
   "metadata": {},
   "outputs": [
    {
     "name": "stdout",
     "output_type": "stream",
     "text": [
      "File already present. No need for rewriting\n"
     ]
    }
   ],
   "source": [
    "try:\n",
    "    file = open(\"/home/milan/Documents/Innomatic_training/data/test_content_4.txt\",mode=\"x\")\n",
    "    file.write(data_2)\n",
    "    file.close()\n",
    "except FileExistsError as error:\n",
    "    print(\"File already present. No need for rewriting\")"
   ]
  },
  {
   "cell_type": "markdown",
   "metadata": {},
   "source": [
    "# Exception handling in file operation"
   ]
  },
  {
   "cell_type": "code",
   "execution_count": 39,
   "metadata": {},
   "outputs": [
    {
     "ename": "FileNotFoundError",
     "evalue": "[Errno 2] No such file or directory: '/home/milan/Documents/Innomatic_training/data/student_grade.txt'",
     "output_type": "error",
     "traceback": [
      "\u001b[0;31m---------------------------------------------------------------------------\u001b[0m",
      "\u001b[0;31mFileNotFoundError\u001b[0m                         Traceback (most recent call last)",
      "\u001b[0;32m<ipython-input-39-37fc24a44fc4>\u001b[0m in \u001b[0;36m<module>\u001b[0;34m\u001b[0m\n\u001b[0;32m----> 1\u001b[0;31m \u001b[0mfile\u001b[0m \u001b[0;34m=\u001b[0m \u001b[0mopen\u001b[0m\u001b[0;34m(\u001b[0m\u001b[0;34m\"/home/milan/Documents/Innomatic_training/data/student_grade.txt\"\u001b[0m\u001b[0;34m,\u001b[0m\u001b[0mmode\u001b[0m\u001b[0;34m=\u001b[0m\u001b[0;34m\"r\"\u001b[0m\u001b[0;34m)\u001b[0m\u001b[0;34m\u001b[0m\u001b[0;34m\u001b[0m\u001b[0m\n\u001b[0m\u001b[1;32m      2\u001b[0m \u001b[0mdata_2\u001b[0m \u001b[0;34m=\u001b[0m \u001b[0mfile\u001b[0m\u001b[0;34m.\u001b[0m\u001b[0mread\u001b[0m\u001b[0;34m(\u001b[0m\u001b[0;34m)\u001b[0m\u001b[0;34m\u001b[0m\u001b[0;34m\u001b[0m\u001b[0m\n\u001b[1;32m      3\u001b[0m \u001b[0mprint\u001b[0m\u001b[0;34m(\u001b[0m\u001b[0mdata_2\u001b[0m\u001b[0;34m)\u001b[0m\u001b[0;34m\u001b[0m\u001b[0;34m\u001b[0m\u001b[0m\n\u001b[1;32m      4\u001b[0m \u001b[0mfile\u001b[0m\u001b[0;34m.\u001b[0m\u001b[0mclose\u001b[0m\u001b[0;34m(\u001b[0m\u001b[0;34m)\u001b[0m\u001b[0;34m\u001b[0m\u001b[0;34m\u001b[0m\u001b[0m\n",
      "\u001b[0;31mFileNotFoundError\u001b[0m: [Errno 2] No such file or directory: '/home/milan/Documents/Innomatic_training/data/student_grade.txt'"
     ]
    }
   ],
   "source": [
    "file = open(\"/home/milan/Documents/Innomatic_training/data/student_grade.txt\",mode=\"r\")\n",
    "data_2 = file.read()\n",
    "print(data_2)\n",
    "file.close()"
   ]
  },
  {
   "cell_type": "code",
   "execution_count": 40,
   "metadata": {},
   "outputs": [
    {
     "name": "stdout",
     "output_type": "stream",
     "text": [
      "Please place in proper directory\n"
     ]
    }
   ],
   "source": [
    "try:\n",
    "    file = open(\"/home/milan/Documents/Innomatic_training/data/student_grade.txt\",mode=\"r\")\n",
    "    data_2 = file.read()\n",
    "    print(data_2)\n",
    "    file.close() \n",
    "except FileNotFoundError as error:\n",
    "    print(\"Please place in proper directory\")"
   ]
  },
  {
   "cell_type": "markdown",
   "metadata": {},
   "source": [
    "# Opening and closing a file using with command"
   ]
  },
  {
   "cell_type": "code",
   "execution_count": 42,
   "metadata": {},
   "outputs": [
    {
     "name": "stdout",
     "output_type": "stream",
     "text": [
      "100\n",
      "85\n",
      "78\n",
      "98\n",
      "54\n",
      "12\n",
      "45\n",
      "78\n",
      "78\n",
      "78\n"
     ]
    }
   ],
   "source": [
    "path = r\"/home/milan/Documents/Innomatic_training/data/student_marks.txt\"\n",
    "with open(path,mode=\"r\") as file:\n",
    "    data = file.read()\n",
    "    print(data)"
   ]
  },
  {
   "cell_type": "markdown",
   "metadata": {},
   "source": [
    "# file with read()"
   ]
  },
  {
   "cell_type": "code",
   "execution_count": 47,
   "metadata": {},
   "outputs": [
    {
     "name": "stdout",
     "output_type": "stream",
     "text": [
      "Python is an interpreted, high-level and general-purpose programming language used worldwide. \n",
      "Python's design philosophy emphasizes code readability with its notable use of significant whitespace. \n",
      "Its language constructs and object-oriented approach aim to help programmers write clear, logical code for small and large-scale projects. \n",
      "Python is dynamically typed and garbage-collected. It supports multiple programming paradigms, including structured (particularly, procedural), object-oriented and functional programming. Python is often described as a \"batteries included\" language due to its comprehensive standard library. Python was created in the late 1980s, and first released in 1991, by Guido van Rossum as a successor to the ABC programming language.\n",
      " Python 2.0, released in 2000, introduced new features, such as list comprehensions, and a garbage collection system with reference counting, and was discontinued with version 2.7 in 2020.[29] Python 3.0, released in 2008, was a major revision of the language that is not completely backward-compatible and much Python 2 code does not run unmodified on Python 3. With Python 2's end-of-life, only Python 3.6.x[30] and later are supported, with older versions still supporting e.g. Windows 7 (and old installers not restricted to 64-bit Windows).\n",
      "\n",
      "\n",
      "\n",
      "\n",
      " type of content ==> <class 'str'>\n"
     ]
    }
   ],
   "source": [
    "path = r\"/home/milan/Documents/Innomatic_training/data/file_handling_class_content.txt\"\n",
    "with open(path,mode=\"r\") as file:\n",
    "    data = file.read()\n",
    "    print(data)\n",
    "    print(f'\\n\\n\\n\\n type of content ==> {type(data)}')"
   ]
  },
  {
   "cell_type": "markdown",
   "metadata": {},
   "source": [
    "# file with readlines()"
   ]
  },
  {
   "cell_type": "code",
   "execution_count": 52,
   "metadata": {},
   "outputs": [
    {
     "name": "stdout",
     "output_type": "stream",
     "text": [
      "type of content ==> <class 'list'>\n",
      "\n",
      "\n",
      "\n",
      "Reading a content as each line from a file\n",
      "~~~~~~~~~~~~~~~~~~~~~~~~~~~~~~~~~~~~\n",
      "\n",
      "Python is an interpreted, high-level and general-purpose programming language used worldwide. \n",
      "\n",
      "\n",
      "\n",
      "\n",
      "Python's design philosophy emphasizes code readability with its notable use of significant whitespace. \n",
      "\n",
      "\n",
      "\n",
      "\n",
      "Its language constructs and object-oriented approach aim to help programmers write clear, logical code for small and large-scale projects. \n",
      "\n",
      "\n",
      "\n",
      "\n",
      "Python is dynamically typed and garbage-collected. It supports multiple programming paradigms, including structured (particularly, procedural), object-oriented and functional programming. Python is often described as a \"batteries included\" language due to its comprehensive standard library. Python was created in the late 1980s, and first released in 1991, by Guido van Rossum as a successor to the ABC programming language.\n",
      "\n",
      "\n",
      "\n",
      "\n",
      " Python 2.0, released in 2000, introduced new features, such as list comprehensions, and a garbage collection system with reference counting, and was discontinued with version 2.7 in 2020.[29] Python 3.0, released in 2008, was a major revision of the language that is not completely backward-compatible and much Python 2 code does not run unmodified on Python 3. With Python 2's end-of-life, only Python 3.6.x[30] and later are supported, with older versions still supporting e.g. Windows 7 (and old installers not restricted to 64-bit Windows).\n",
      "\n",
      "\n",
      "\n"
     ]
    }
   ],
   "source": [
    "path = r\"/home/milan/Documents/Innomatic_training/data/file_handling_class_content.txt\"\n",
    "with open(path,mode=\"r\") as file:\n",
    "    data = file.readlines()\n",
    "    print(f'type of content ==> {type(data)}\\n\\n\\n')\n",
    "    print(\"Reading a content as each line from a file\\n~~~~~~~~~~~~~~~~~~~~~~~~~~~~~~~~~~~~\\n\")\n",
    "    for line in data:\n",
    "        print(line,end=\"\\n\\n\\n\\n\")"
   ]
  },
  {
   "cell_type": "markdown",
   "metadata": {},
   "source": [
    "# File operation with readline"
   ]
  },
  {
   "cell_type": "code",
   "execution_count": 56,
   "metadata": {},
   "outputs": [
    {
     "name": "stdout",
     "output_type": "stream",
     "text": [
      "Python is an interpreted, high-level and general-purpose programming language used worldwide. \n",
      "\n",
      "Python's design philosophy emphasizes code readability with its notable use of significant whitespace. \n",
      "\n",
      "Its language constructs and object-oriented approach aim to help programmers write clear, logical code for small and large-scale projects. \n",
      "\n"
     ]
    }
   ],
   "source": [
    "file = open(\"/home/milan/Documents/Innomatic_training/data/test_content.txt\",mode=\"r\")\n",
    "count = 0\n",
    "while count <3:\n",
    "    \n",
    "    line = file.readline()\n",
    "    print(line)\n",
    "    \n",
    "    count += 1\n",
    "file.close()"
   ]
  },
  {
   "cell_type": "code",
   "execution_count": 68,
   "metadata": {},
   "outputs": [
    {
     "name": "stdout",
     "output_type": "stream",
     "text": [
      "Python is an interpreted, high-level and general-purpose programming language used worldwide. \n",
      "\n",
      "Python's design philosophy emphasizes code readability with its notable use of significant whitespace. \n",
      "\n",
      "Its language constructs and object-oriented approach aim to help programmers write clear, logical code for small and large-scale projects. \n",
      "\n"
     ]
    }
   ],
   "source": [
    "path = r\"/home/milan/Documents/Innomatic_training/data/test_content.txt\"\n",
    "with open(path,mode=\"r\") as file:\n",
    "    count = 0  \n",
    "\n",
    "    while count < 3:\n",
    "        line = file.readline()\n",
    "        print(line)\n",
    "        count +=1"
   ]
  },
  {
   "cell_type": "markdown",
   "metadata": {},
   "source": [
    "# Python packages"
   ]
  },
  {
   "cell_type": "markdown",
   "metadata": {},
   "source": [
    "## Time package"
   ]
  },
  {
   "cell_type": "code",
   "execution_count": 69,
   "metadata": {},
   "outputs": [
    {
     "name": "stdout",
     "output_type": "stream",
     "text": [
      "0\n",
      "1\n",
      "2\n",
      "3\n",
      "4\n",
      "5\n",
      "6\n",
      "7\n",
      "8\n",
      "9\n"
     ]
    }
   ],
   "source": [
    "for i in range(10):\n",
    "    print(i)"
   ]
  },
  {
   "cell_type": "code",
   "execution_count": 70,
   "metadata": {},
   "outputs": [
    {
     "name": "stdout",
     "output_type": "stream",
     "text": [
      "0\n",
      "1\n",
      "2\n",
      "3\n",
      "4\n",
      "5\n",
      "6\n",
      "7\n",
      "8\n",
      "9\n"
     ]
    }
   ],
   "source": [
    "import time \n",
    "\n",
    "for i in range(10):\n",
    "    print(i)\n",
    "    time.sleep(2)"
   ]
  },
  {
   "cell_type": "markdown",
   "metadata": {},
   "source": [
    "## OS packages"
   ]
  },
  {
   "cell_type": "code",
   "execution_count": 71,
   "metadata": {},
   "outputs": [],
   "source": [
    "import os"
   ]
  },
  {
   "cell_type": "code",
   "execution_count": 72,
   "metadata": {},
   "outputs": [
    {
     "data": {
      "text/plain": [
       "'/home/milan/Documents/Innomatic_training'"
      ]
     },
     "execution_count": 72,
     "metadata": {},
     "output_type": "execute_result"
    }
   ],
   "source": [
    "os.getcwd() # getting a current working dir"
   ]
  },
  {
   "cell_type": "code",
   "execution_count": 73,
   "metadata": {},
   "outputs": [
    {
     "data": {
      "text/plain": [
       "['4_function_and_exception_handling.ipynb',\n",
       " '2_Data_structures.ipynb',\n",
       " '4_function_and_exception_handling.pdf',\n",
       " '5_class_&_object_day_1.pdf',\n",
       " '3_Conditional_statements.ipynb',\n",
       " '7_file_handling_and_datetime.ipynb',\n",
       " '5_class_&_object_day_2.pdf',\n",
       " '1_intro_to_python_notes.pdf',\n",
       " '.ipynb_checkpoints',\n",
       " '2_set_tuple_dict.pdf',\n",
       " '5_class_&_object.ipynb',\n",
       " '1_Into_to_Python.ipynb',\n",
       " '2_List.pdf',\n",
       " '3_for_loop.pdf',\n",
       " '0_Introduction to jupyter notebook.ipynb',\n",
       " '3_string_control_structures.pdf',\n",
       " '0_Introduction to jupyter.pdf',\n",
       " 'Python.png',\n",
       " '0_Introduction to jupyter notebook.html',\n",
       " 'data',\n",
       " '6_Assigment_solution.ipynb']"
      ]
     },
     "execution_count": 73,
     "metadata": {},
     "output_type": "execute_result"
    }
   ],
   "source": [
    "os.listdir()"
   ]
  },
  {
   "cell_type": "code",
   "execution_count": 74,
   "metadata": {},
   "outputs": [],
   "source": [
    "os.chdir(\"/home/milan/Documents/Innomatic_training/data\")  # changing the working directory"
   ]
  },
  {
   "cell_type": "code",
   "execution_count": 75,
   "metadata": {},
   "outputs": [
    {
     "data": {
      "text/plain": [
       "'/home/milan/Documents/Innomatic_training/data'"
      ]
     },
     "execution_count": 75,
     "metadata": {},
     "output_type": "execute_result"
    }
   ],
   "source": [
    "os.getcwd() # getting a current working directory"
   ]
  },
  {
   "cell_type": "code",
   "execution_count": 76,
   "metadata": {},
   "outputs": [
    {
     "data": {
      "text/plain": [
       "['test_content_4.txt',\n",
       " 'test_content.txt',\n",
       " 'test_content_2.txt',\n",
       " 'file_handling_class_content.txt',\n",
       " 'student_marks.txt',\n",
       " 'test_content_3.txt']"
      ]
     },
     "execution_count": 76,
     "metadata": {},
     "output_type": "execute_result"
    }
   ],
   "source": [
    "os.listdir() # listing a content in directory"
   ]
  },
  {
   "cell_type": "code",
   "execution_count": 79,
   "metadata": {},
   "outputs": [],
   "source": [
    "os.mkdir(\"data_test_python_created\")"
   ]
  },
  {
   "cell_type": "markdown",
   "metadata": {},
   "source": [
    "## Date & time packages"
   ]
  },
  {
   "cell_type": "code",
   "execution_count": 80,
   "metadata": {},
   "outputs": [],
   "source": [
    "import datetime as dt"
   ]
  },
  {
   "cell_type": "code",
   "execution_count": 81,
   "metadata": {},
   "outputs": [
    {
     "data": {
      "text/plain": [
       "datetime.datetime(2021, 5, 31, 9, 20, 49, 780711)"
      ]
     },
     "execution_count": 81,
     "metadata": {},
     "output_type": "execute_result"
    }
   ],
   "source": [
    "dt.datetime.today()"
   ]
  },
  {
   "cell_type": "code",
   "execution_count": 82,
   "metadata": {},
   "outputs": [
    {
     "data": {
      "text/plain": [
       "datetime.datetime(2021, 5, 31, 9, 21, 0, 310881)"
      ]
     },
     "execution_count": 82,
     "metadata": {},
     "output_type": "execute_result"
    }
   ],
   "source": [
    "dt.datetime.now()"
   ]
  },
  {
   "cell_type": "code",
   "execution_count": 90,
   "metadata": {},
   "outputs": [
    {
     "data": {
      "text/plain": [
       "1622433284.342402"
      ]
     },
     "execution_count": 90,
     "metadata": {},
     "output_type": "execute_result"
    }
   ],
   "source": [
    "# conversion into linux timestamp\n",
    "now = dt.datetime.now()\n",
    "dt.datetime.timestamp(now)"
   ]
  },
  {
   "cell_type": "markdown",
   "metadata": {},
   "source": [
    "#### Exacting a date components"
   ]
  },
  {
   "cell_type": "code",
   "execution_count": 91,
   "metadata": {},
   "outputs": [],
   "source": [
    "from datetime import date, time, timedelta"
   ]
  },
  {
   "cell_type": "code",
   "execution_count": 92,
   "metadata": {},
   "outputs": [],
   "source": [
    "i = date.today()"
   ]
  },
  {
   "cell_type": "code",
   "execution_count": 93,
   "metadata": {},
   "outputs": [
    {
     "data": {
      "text/plain": [
       "datetime.date(2021, 5, 31)"
      ]
     },
     "execution_count": 93,
     "metadata": {},
     "output_type": "execute_result"
    }
   ],
   "source": [
    "i"
   ]
  },
  {
   "cell_type": "code",
   "execution_count": 94,
   "metadata": {},
   "outputs": [
    {
     "data": {
      "text/plain": [
       "2021"
      ]
     },
     "execution_count": 94,
     "metadata": {},
     "output_type": "execute_result"
    }
   ],
   "source": [
    "i.year"
   ]
  },
  {
   "cell_type": "code",
   "execution_count": 95,
   "metadata": {},
   "outputs": [
    {
     "data": {
      "text/plain": [
       "5"
      ]
     },
     "execution_count": 95,
     "metadata": {},
     "output_type": "execute_result"
    }
   ],
   "source": [
    "i.month"
   ]
  },
  {
   "cell_type": "code",
   "execution_count": 96,
   "metadata": {},
   "outputs": [
    {
     "data": {
      "text/plain": [
       "31"
      ]
     },
     "execution_count": 96,
     "metadata": {},
     "output_type": "execute_result"
    }
   ],
   "source": [
    "i.day"
   ]
  },
  {
   "cell_type": "markdown",
   "metadata": {},
   "source": [
    "#### Exacting a date & time components "
   ]
  },
  {
   "cell_type": "code",
   "execution_count": 98,
   "metadata": {},
   "outputs": [],
   "source": [
    "from datetime import datetime as dt\n",
    "i = dt.now()"
   ]
  },
  {
   "cell_type": "code",
   "execution_count": 99,
   "metadata": {},
   "outputs": [
    {
     "name": "stdout",
     "output_type": "stream",
     "text": [
      "2021-05-31\n",
      "09:26:32.328406\n",
      "9\n",
      "26\n",
      "32\n",
      "328406\n"
     ]
    }
   ],
   "source": [
    "print(i.date())\n",
    "print(i.time())\n",
    "print(i.hour)\n",
    "print(i.minute)\n",
    "print(i.second)\n",
    "print(i.microsecond)"
   ]
  },
  {
   "cell_type": "markdown",
   "metadata": {},
   "source": [
    "#### Formatting of date"
   ]
  },
  {
   "cell_type": "code",
   "execution_count": 103,
   "metadata": {},
   "outputs": [
    {
     "data": {
      "text/plain": [
       "datetime.datetime(2021, 5, 31, 9, 28, 2, 822745)"
      ]
     },
     "execution_count": 103,
     "metadata": {},
     "output_type": "execute_result"
    }
   ],
   "source": [
    "dt_1 = dt.now()\n",
    "dt_1"
   ]
  },
  {
   "cell_type": "code",
   "execution_count": 104,
   "metadata": {},
   "outputs": [
    {
     "data": {
      "text/plain": [
       "'21'"
      ]
     },
     "execution_count": 104,
     "metadata": {},
     "output_type": "execute_result"
    }
   ],
   "source": [
    "dt_1.strftime(\"%y\")"
   ]
  },
  {
   "cell_type": "code",
   "execution_count": 105,
   "metadata": {},
   "outputs": [
    {
     "data": {
      "text/plain": [
       "'2021'"
      ]
     },
     "execution_count": 105,
     "metadata": {},
     "output_type": "execute_result"
    }
   ],
   "source": [
    "dt_1.strftime(\"%Y\")"
   ]
  },
  {
   "cell_type": "code",
   "execution_count": 106,
   "metadata": {},
   "outputs": [
    {
     "name": "stdout",
     "output_type": "stream",
     "text": [
      "21\n",
      "2021\n",
      "May\n",
      "May\n",
      "05\n",
      "31\n",
      "Mon\n",
      "Monday\n"
     ]
    }
   ],
   "source": [
    "print(dt_1.strftime('%y')) # short year\n",
    "print(dt_1.strftime('%Y')) # full year\n",
    "print(dt_1.strftime('%b')) # short month name\n",
    "print(dt_1.strftime('%B')) # full month name\n",
    "print(dt_1.strftime('%m')) # month number\n",
    "print(dt_1.strftime('%d')) # day number in month\n",
    "print(dt_1.strftime('%a')) # short day name\n",
    "print(dt_1.strftime('%A')) # full day name"
   ]
  },
  {
   "cell_type": "code",
   "execution_count": 111,
   "metadata": {},
   "outputs": [
    {
     "name": "stdout",
     "output_type": "stream",
     "text": [
      "2021-05-31 09h:28m:02s\n"
     ]
    }
   ],
   "source": [
    "print(dt_1.strftime('%Y-%m-%d %Hh:%Mm:%Ss')) # short year # 24 hour format"
   ]
  },
  {
   "cell_type": "code",
   "execution_count": 112,
   "metadata": {},
   "outputs": [
    {
     "name": "stdout",
     "output_type": "stream",
     "text": [
      "2021-05-31 09h:28m:02s\n"
     ]
    }
   ],
   "source": [
    "print(dt_1.strftime('%Y-%m-%d %Ih:%Mm:%Ss')) # short year # 12 hour format"
   ]
  },
  {
   "cell_type": "code",
   "execution_count": 108,
   "metadata": {},
   "outputs": [
    {
     "name": "stdout",
     "output_type": "stream",
     "text": [
      "Monday, 31/May/2021\n",
      "31 May 2021, Mon\n",
      "31-May-2021, Mon\n",
      "31.May.2021, Mon\n",
      "Today's date is: 31.May.2021, Mon\n"
     ]
    }
   ],
   "source": [
    "print(dt_1.strftime('%A, %d/%B/%Y'))\n",
    "print(dt_1.strftime('%d %b %Y, %a'))\n",
    "print(dt_1.strftime('%d-%b-%Y, %a'))\n",
    "print(dt_1.strftime('%d.%b.%Y, %a'))\n",
    "print(dt_1.strftime('Today\\'s date is: %d.%b.%Y, %a'))"
   ]
  },
  {
   "cell_type": "markdown",
   "metadata": {},
   "source": [
    "##### Time Formatting options\n",
    "\n",
    "- %I/%H - 12/24 Hour\n",
    "- %M - Minute\n",
    "- %S - second\n",
    "- %p - local time AM/PM"
   ]
  },
  {
   "cell_type": "markdown",
   "metadata": {},
   "source": [
    "### Time delta (Important for DS)"
   ]
  },
  {
   "cell_type": "markdown",
   "metadata": {},
   "source": [
    "#### Example 1"
   ]
  },
  {
   "cell_type": "code",
   "execution_count": 114,
   "metadata": {},
   "outputs": [
    {
     "data": {
      "text/plain": [
       "datetime.datetime(2021, 5, 31, 9, 32, 11, 933403)"
      ]
     },
     "execution_count": 114,
     "metadata": {},
     "output_type": "execute_result"
    }
   ],
   "source": [
    "d1 = dt.now()\n",
    "d1"
   ]
  },
  {
   "cell_type": "code",
   "execution_count": 116,
   "metadata": {},
   "outputs": [
    {
     "data": {
      "text/plain": [
       "datetime.datetime(2021, 5, 31, 9, 32, 26, 264619)"
      ]
     },
     "execution_count": 116,
     "metadata": {},
     "output_type": "execute_result"
    }
   ],
   "source": [
    "d2 = dt.now()\n",
    "d2"
   ]
  },
  {
   "cell_type": "code",
   "execution_count": 117,
   "metadata": {},
   "outputs": [
    {
     "data": {
      "text/plain": [
       "datetime.timedelta(seconds=14, microseconds=331216)"
      ]
     },
     "execution_count": 117,
     "metadata": {},
     "output_type": "execute_result"
    }
   ],
   "source": [
    "d2-d1"
   ]
  },
  {
   "cell_type": "markdown",
   "metadata": {},
   "source": [
    "#### Example 2"
   ]
  },
  {
   "cell_type": "code",
   "execution_count": 118,
   "metadata": {},
   "outputs": [],
   "source": [
    "from datetime import timedelta"
   ]
  },
  {
   "cell_type": "code",
   "execution_count": 120,
   "metadata": {},
   "outputs": [],
   "source": [
    "d3 = dt.now()"
   ]
  },
  {
   "cell_type": "code",
   "execution_count": 123,
   "metadata": {},
   "outputs": [
    {
     "data": {
      "text/plain": [
       "datetime.datetime(2021, 5, 31, 9, 33, 46, 197626)"
      ]
     },
     "execution_count": 123,
     "metadata": {},
     "output_type": "execute_result"
    }
   ],
   "source": [
    "d3"
   ]
  },
  {
   "cell_type": "code",
   "execution_count": 124,
   "metadata": {},
   "outputs": [
    {
     "data": {
      "text/plain": [
       "datetime.datetime(2021, 6, 3, 9, 33, 46, 197626)"
      ]
     },
     "execution_count": 124,
     "metadata": {},
     "output_type": "execute_result"
    }
   ],
   "source": [
    "d3 + timedelta(days=3)"
   ]
  },
  {
   "cell_type": "code",
   "execution_count": 125,
   "metadata": {},
   "outputs": [
    {
     "data": {
      "text/plain": [
       "datetime.datetime(2021, 5, 28, 9, 33, 46, 197626)"
      ]
     },
     "execution_count": 125,
     "metadata": {},
     "output_type": "execute_result"
    }
   ],
   "source": [
    "d3 - timedelta(days=3)"
   ]
  },
  {
   "cell_type": "code",
   "execution_count": 126,
   "metadata": {},
   "outputs": [
    {
     "data": {
      "text/plain": [
       "datetime.datetime(2021, 5, 29, 5, 33, 46, 197626)"
      ]
     },
     "execution_count": 126,
     "metadata": {},
     "output_type": "execute_result"
    }
   ],
   "source": [
    "d3 - timedelta(days=2,hours=4)"
   ]
  },
  {
   "cell_type": "markdown",
   "metadata": {},
   "source": [
    "# Assignment question 2"
   ]
  },
  {
   "cell_type": "markdown",
   "metadata": {},
   "source": [
    "- Read a file which has 3 para and find word count\n",
    "- Write a Class for Bank and create 3 user(object) and call the function \n",
    "> Get customer (Constructor) <br>\n",
    "> deposit <br>\n",
    "> withdraw (negative , withdraw <= balance) <br> \n",
    "> balance check <br>\n",
    "> statement / history of transaction <br>\n",
    "- Class a sample class with all access modifier {Need explanation for each methods}"
   ]
  },
  {
   "cell_type": "code",
   "execution_count": null,
   "metadata": {},
   "outputs": [],
   "source": []
  }
 ],
 "metadata": {
  "kernelspec": {
   "display_name": "Python 3",
   "language": "python",
   "name": "python3"
  },
  "language_info": {
   "codemirror_mode": {
    "name": "ipython",
    "version": 3
   },
   "file_extension": ".py",
   "mimetype": "text/x-python",
   "name": "python",
   "nbconvert_exporter": "python",
   "pygments_lexer": "ipython3",
   "version": "3.7.6"
  }
 },
 "nbformat": 4,
 "nbformat_minor": 4
}
