{
 "cells": [
  {
   "cell_type": "markdown",
   "metadata": {},
   "source": [
    "# Control statements / control flow\n",
    "\n",
    "- Controls the flow of program\n",
    "- In python flow is handled by\n",
    " - Conditional statements \n",
    "   - If \n",
    "   - IF else\n",
    "   - If elif\n",
    "   - if elif else\n",
    " - Looping\n",
    "   - For \n",
    "   - While\n",
    " - Function\n",
    "   - Predefined function \n",
    "   - User defined function\n",
    "\n",
    "\n",
    "![](https://www.researchgate.net/profile/Kay_Smarsly/publication/322509045/figure/fig1/AS:583153716215809@1516046088625/Control-flow-of-elementary-control-structures.png)"
   ]
  },
  {
   "cell_type": "markdown",
   "metadata": {},
   "source": [
    "## Python Indentation\n",
    "    - In Python, the code blocks are defined by a set of common or consistent number of spaces. This is called Python Indentation.\n",
    "    - The block scope will end at the first un-indented line.\n",
    "    - The best practice is to use on Tab space."
   ]
  },
  {
   "cell_type": "markdown",
   "metadata": {},
   "source": [
    "# Conditional statement"
   ]
  },
  {
   "cell_type": "markdown",
   "metadata": {},
   "source": [
    "#### Example 1 (marks)"
   ]
  },
  {
   "cell_type": "code",
   "execution_count": 4,
   "metadata": {},
   "outputs": [
    {
     "name": "stdout",
     "output_type": "stream",
     "text": [
      "Please enter your marks15\n"
     ]
    }
   ],
   "source": [
    "# if \n",
    "marks = float(input(\"Please enter your marks\"))\n",
    "if marks > 50:\n",
    "    print(\"Hey you passed !!!!!\")"
   ]
  },
  {
   "cell_type": "code",
   "execution_count": 6,
   "metadata": {},
   "outputs": [
    {
     "name": "stdout",
     "output_type": "stream",
     "text": [
      "Please enter your marks15\n",
      "Oh man. better luck next time...!!!\n"
     ]
    }
   ],
   "source": [
    "# if - else\n",
    "marks = float(input(\"Please enter your marks\"))\n",
    "if marks > 50:\n",
    "    print(\"Hey you passed !!!!!\")\n",
    "else:\n",
    "    print(\"Oh man. better luck next time...!!!\")"
   ]
  },
  {
   "cell_type": "code",
   "execution_count": 8,
   "metadata": {},
   "outputs": [
    {
     "name": "stdout",
     "output_type": "stream",
     "text": [
      "Please enter your marks15\n",
      "Oh man. better luck next time...!!!\n"
     ]
    }
   ],
   "source": [
    "# if -elif- else\n",
    "marks = float(input(\"Please enter your marks\"))\n",
    "if marks > 50:\n",
    "    print(\"Hey you passed !!!!!\")\n",
    "elif markmarkss ==50:\n",
    "    print(\"You just passed it :P\")\n",
    "else:\n",
    "    print(\"Oh man. better luck next time...!!!\")"
   ]
  },
  {
   "cell_type": "markdown",
   "metadata": {},
   "source": [
    "#### Example 2 (even / odd)"
   ]
  },
  {
   "cell_type": "code",
   "execution_count": 11,
   "metadata": {},
   "outputs": [
    {
     "name": "stdout",
     "output_type": "stream",
     "text": [
      "its a even number\n"
     ]
    }
   ],
   "source": [
    "a = 6\n",
    "if a%2==0:\n",
    "    print(\"its a even number\")\n",
    "else:\n",
    "    print(\"its a odd number\")"
   ]
  },
  {
   "cell_type": "markdown",
   "metadata": {},
   "source": [
    "#### Example 3 (Nested if case) even -> number > 10 -> larger"
   ]
  },
  {
   "cell_type": "code",
   "execution_count": 13,
   "metadata": {},
   "outputs": [
    {
     "name": "stdout",
     "output_type": "stream",
     "text": [
      "Number is even and also larger\n"
     ]
    }
   ],
   "source": [
    "x = 14\n",
    "if x%2 ==0:\n",
    "    if x > 10:\n",
    "        print(\"Number is even and also larger\")\n",
    "    else:\n",
    "        print(\"its just a even\")\n",
    "else:\n",
    "    print(\"odd\")"
   ]
  },
  {
   "cell_type": "markdown",
   "metadata": {},
   "source": [
    "# Home work\n",
    "\n",
    "1) Get the marks from user and assign grade \n",
    "    - marks 0-100 (is its is lesser than zero or greater than 100 -> have to print its a invalid marks)\n",
    "    - greater 50 will assign grade + pass\n",
    "    - lesser than 50 -> fail\n",
    "    \n",
    "2) Find a given year is leap year or not\n",
    "\n",
    "3) Write a password check program\n",
    "    - store a passwords\n",
    "    - get password -> valid with stored password\n",
    "    - success print -> login success\n",
    "    - failed -> login failed"
   ]
  },
  {
   "cell_type": "code",
   "execution_count": null,
   "metadata": {},
   "outputs": [],
   "source": []
  }
 ],
 "metadata": {
  "kernelspec": {
   "display_name": "Python 3",
   "language": "python",
   "name": "python3"
  },
  "language_info": {
   "codemirror_mode": {
    "name": "ipython",
    "version": 3
   },
   "file_extension": ".py",
   "mimetype": "text/x-python",
   "name": "python",
   "nbconvert_exporter": "python",
   "pygments_lexer": "ipython3",
   "version": "3.7.6"
  }
 },
 "nbformat": 4,
 "nbformat_minor": 4
}
