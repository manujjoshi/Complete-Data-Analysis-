{
 "cells": [
  {
   "cell_type": "markdown",
   "metadata": {},
   "source": [
    "# Python\n",
    "\n",
    "Python is an interpreted, high-level and general-purpose programming language. Python's design philosophy emphasizes code readability with its notable use of significant whitespace. Its language constructs and object-oriented approach aim to help programmers write clear, logical code for small and large-scale projects\n",
    "\n",
    "Python is dynamically typed and garbage-collected. It supports multiple programming paradigms, including structured (particularly, procedural), object-oriented, and functional programming. Python is often described as a \"batteries included\" language due to its comprehensive standard library.\n",
    "\n",
    "Python was created in the late 1980s, and first released in 1991, by Guido van Rossum as a successor to the ABC programming language. Python 2.0, released in 2000, introduced new features, such as list comprehensions, and a garbage collection system with reference counting, and was discontinued with version 2.7 in 2020 Python 3.0, released in 2008, was a major revision of the language that is not completely backward-compatible and much Python 2 code does not run unmodified on Python 3. With Python 2's end-of-life, only Python 3.6.x and later are supported, with older versions still supporting e.g. Windows 7 (and old installers not restricted to 64-bit Windows).\n",
    "\n",
    "\n",
    "![](https://www.brsoftech.com/blog/wp-content/uploads/2019/11/most-in-demand-programming-languages-2020.png)"
   ]
  },
  {
   "cell_type": "markdown",
   "metadata": {},
   "source": [
    "![](Python.png)"
   ]
  },
  {
   "cell_type": "markdown",
   "metadata": {},
   "source": [
    "# Literals and Variables\n",
    "\n",
    "### Literals\n",
    "A literal is nothing but a data types which conveys information. there are many kinds of literals in python where the four main datatypes are:\n",
    "- integral values: `int`\n",
    "- decimal values: `float`\n",
    "- true or false statements: `bool`\n",
    "- text data: `str`   \n",
    "Apart from these, there are many other datas type which we'll we looking at later\n",
    "\n",
    "### Variable\n",
    "Variables are nothing but place holders to store the literal values. Variables can be accessed by their names and some rules have to be followed while naming variables\n",
    "\n",
    "Naming conventions for variables:\n",
    "- A variable name can only contain alphabets, numbers and under score\n",
    "- A variable name can only start with an underscore or an alphabet\n",
    "- A variable name can't be the same as any keyword(keywords are sequences of characters which have some special meaning to them)\n",
    "- A variable name can't have any spaces between the various parts of the variable. If we want to distinguish them, we can use and underscore or make the variable name CamelCase\n",
    "> variable_name\n",
    "> VariableName\n",
    "- It is suggested that we make our variable names as descriptive as possible\n",
    "> a = 21\n",
    "> age = 21\n",
    "\n",
    "\n",
    "Storing a literal into a variable is called as assigning the variable with a literal and is accomplished using the equality(`=`) symbol"
   ]
  },
  {
   "cell_type": "code",
   "execution_count": 14,
   "metadata": {},
   "outputs": [
    {
     "name": "stdout",
     "output_type": "stream",
     "text": [
      "Value of a = 50\n",
      "Type of a = <class 'int'>\n"
     ]
    }
   ],
   "source": [
    "# Defining a int a variable -> single line comment\n",
    "# Printing the value\n",
    "\n",
    "a = 50 # a -> variables / Identifier\n",
    "print(\"Value of a =\",a)\n",
    "print(\"Type of a =\",type(a))  # what datatype has been assigned"
   ]
  },
  {
   "cell_type": "code",
   "execution_count": 16,
   "metadata": {},
   "outputs": [
    {
     "name": "stdout",
     "output_type": "stream",
     "text": [
      "Value of b = 50.55\n",
      "Type of b = <class 'float'>\n"
     ]
    }
   ],
   "source": [
    "'''\n",
    "Doc string / multiline comments\n",
    "\n",
    "Defining float variable\n",
    "Printing the float variables\n",
    "\n",
    "'''\n",
    "\n",
    "b = 50.55\n",
    "print(\"Value of b =\",b)\n",
    "print(\"Type of b =\",type(b)) "
   ]
  },
  {
   "cell_type": "markdown",
   "metadata": {},
   "source": [
    "# Writing comments in python\n",
    "Comment is not a python statement and thus is ignored by python interpreter. But, it is plain text that documents what the program is and how it is constructed.\n",
    "\n",
    "It is always good to write a comment that describes purpose of each statement included in a program.\n",
    "\n",
    "It increases readability of the program.\n",
    "\n",
    "In Python, one can write comments as:\n",
    "1. Single line comment starting with a pound (#) sign\n",
    "2. Paragraph comment that starts and ends with three consecutive single quotes (''') or three consecutive double quotes (\"\"\")."
   ]
  },
  {
   "cell_type": "code",
   "execution_count": 22,
   "metadata": {},
   "outputs": [
    {
     "name": "stdout",
     "output_type": "stream",
     "text": [
      "Value of a = 55\n",
      "Type of a = <class 'int'>\n"
     ]
    }
   ],
   "source": [
    "## int variable \n",
    "\n",
    "a = int(55.100)\n",
    "print(\"Value of a =\",a)\n",
    "print(\"Type of a =\",type(a))"
   ]
  },
  {
   "cell_type": "code",
   "execution_count": 25,
   "metadata": {},
   "outputs": [
    {
     "name": "stdout",
     "output_type": "stream",
     "text": [
      "Value of a = 55.0\n",
      "Type of a = <class 'float'>\n"
     ]
    }
   ],
   "source": [
    "## float variable \n",
    "\n",
    "a = float(55)\n",
    "print(\"Value of a =\",a)\n",
    "print(\"Type of a =\",type(a))"
   ]
  },
  {
   "cell_type": "code",
   "execution_count": 28,
   "metadata": {},
   "outputs": [
    {
     "name": "stdout",
     "output_type": "stream",
     "text": [
      "Value of a = 100\n",
      "Value of b = 100.0\n",
      "Type of a = <class 'int'>\n",
      "Type of b = <class 'float'>\n"
     ]
    }
   ],
   "source": [
    "# typecasting / type conversion  (int to float)\n",
    "\n",
    "a = 100\n",
    "b = float(a)\n",
    "print(\"Value of a =\",a)\n",
    "print(\"Value of b =\",b)\n",
    "\n",
    "print(\"Type of a =\",type(a))\n",
    "print(\"Type of b =\",type(b))"
   ]
  },
  {
   "cell_type": "code",
   "execution_count": 27,
   "metadata": {},
   "outputs": [
    {
     "name": "stdout",
     "output_type": "stream",
     "text": [
      "Value of a = 55.889\n",
      "Value of b = 55\n",
      "Type of a = <class 'float'>\n",
      "Type of b = <class 'int'>\n"
     ]
    }
   ],
   "source": [
    "# typecasting / type conversion  (float to int)\n",
    "\n",
    "a = 55.889\n",
    "b = int(a)\n",
    "print(\"Value of a =\",a)\n",
    "print(\"Value of b =\",b)\n",
    "\n",
    "print(\"Type of a =\",type(a))\n",
    "print(\"Type of b =\",type(b))"
   ]
  },
  {
   "cell_type": "code",
   "execution_count": 29,
   "metadata": {},
   "outputs": [
    {
     "name": "stdout",
     "output_type": "stream",
     "text": [
      "Value of a = False\n",
      "Type of a = <class 'bool'>\n"
     ]
    }
   ],
   "source": [
    "# Defining a boolean variables\n",
    "a = False\n",
    "print(\"Value of a =\",a)\n",
    "print(\"Type of a =\",type(a))"
   ]
  },
  {
   "cell_type": "code",
   "execution_count": 30,
   "metadata": {},
   "outputs": [
    {
     "name": "stdout",
     "output_type": "stream",
     "text": [
      "Value of a = True\n",
      "Type of a = <class 'bool'>\n"
     ]
    }
   ],
   "source": [
    "# Defining a boolean variables\n",
    "a = True\n",
    "print(\"Value of a =\",a)\n",
    "print(\"Type of a =\",type(a))"
   ]
  },
  {
   "cell_type": "code",
   "execution_count": 35,
   "metadata": {},
   "outputs": [
    {
     "name": "stdout",
     "output_type": "stream",
     "text": [
      "Value of a = 0\n",
      "Value of b = False\n",
      "Type of a = <class 'int'>\n",
      "Type of b = <class 'bool'>\n"
     ]
    }
   ],
   "source": [
    "# type conversion from int to bool\n",
    "\n",
    "a = 0  # 0 -> false | anything greater that 0 is true\n",
    "b = bool(a)\n",
    "print(\"Value of a =\",a)\n",
    "print(\"Value of b =\",b)\n",
    "\n",
    "print(\"Type of a =\",type(a))\n",
    "print(\"Type of b =\",type(b))"
   ]
  },
  {
   "cell_type": "code",
   "execution_count": 39,
   "metadata": {},
   "outputs": [
    {
     "name": "stdout",
     "output_type": "stream",
     "text": [
      "Value of a = 0.1\n",
      "Value of b = True\n",
      "Type of a = <class 'float'>\n",
      "Type of b = <class 'bool'>\n"
     ]
    }
   ],
   "source": [
    "# type conversion from float to bool\n",
    "\n",
    "a = 0.1  # 0 -> false | anything greater that 0 is true\n",
    "b = bool(a)\n",
    "print(\"Value of a =\",a)\n",
    "print(\"Value of b =\",b)\n",
    "\n",
    "print(\"Type of a =\",type(a))\n",
    "print(\"Type of b =\",type(b))"
   ]
  },
  {
   "cell_type": "code",
   "execution_count": 41,
   "metadata": {},
   "outputs": [
    {
     "name": "stdout",
     "output_type": "stream",
     "text": [
      "Value of a = False\n",
      "Value of b = 0\n",
      "Type of a = <class 'bool'>\n",
      "Type of b = <class 'int'>\n"
     ]
    }
   ],
   "source": [
    "# type conversion from bool to int\n",
    "\n",
    "a = False \n",
    "b = int(a)\n",
    "print(\"Value of a =\",a)\n",
    "print(\"Value of b =\",b)\n",
    "\n",
    "print(\"Type of a =\",type(a))False\n",
    "print(\"Type of b =\",type(b))"
   ]
  },
  {
   "cell_type": "code",
   "execution_count": 43,
   "metadata": {},
   "outputs": [
    {
     "name": "stdout",
     "output_type": "stream",
     "text": [
      "Value of a = True\n",
      "Value of b = 1.0\n",
      "Type of a = <class 'bool'>\n",
      "Type of b = <class 'float'>\n"
     ]
    }
   ],
   "source": [
    "# type conversion from bool to float\n",
    "\n",
    "a = True \n",
    "b = float(a)\n",
    "print(\"Value of a =\",a)\n",
    "print(\"Value of b =\",b)\n",
    "\n",
    "print(\"Type of a =\",type(a))\n",
    "print(\"Type of b =\",type(b))"
   ]
  },
  {
   "cell_type": "code",
   "execution_count": 44,
   "metadata": {},
   "outputs": [
    {
     "name": "stdout",
     "output_type": "stream",
     "text": [
      "Value of a = \n",
      "Value of b = False\n",
      "Type of a = <class 'str'>\n",
      "Type of b = <class 'bool'>\n"
     ]
    }
   ],
   "source": [
    "# Defining a char/ string\n",
    "a = \"\"\n",
    "b = bool(a)\n",
    "print(\"Value of a =\",a)\n",
    "print(\"Value of b =\",b)\n",
    "\n",
    "print(\"Type of a =\",type(a))\n",
    "print(\"Type of b =\",type(b))"
   ]
  },
  {
   "cell_type": "code",
   "execution_count": 47,
   "metadata": {},
   "outputs": [
    {
     "name": "stdout",
     "output_type": "stream",
     "text": [
      "Value of a = sadf\n",
      "Value of b = True\n",
      "Type of a = <class 'str'>\n",
      "Type of b = <class 'bool'>\n"
     ]
    }
   ],
   "source": [
    "# Defining a char/ string -> bool\n",
    "a = \"sadf\"\n",
    "b = bool(a)\n",
    "print(\"Value of a =\",a)\n",
    "print(\"Value of b =\",b)\n",
    "\n",
    "print(\"Type of a =\",type(a))\n",
    "print(\"Type of b =\",type(b))"
   ]
  },
  {
   "cell_type": "code",
   "execution_count": 48,
   "metadata": {},
   "outputs": [
    {
     "name": "stdout",
     "output_type": "stream",
     "text": [
      "Value of a = (3+4j)\n",
      "Type of a = <class 'complex'>\n"
     ]
    }
   ],
   "source": [
    "# Complex variable \n",
    "\n",
    "a = 3+4j\n",
    "print(\"Value of a =\",a)\n",
    "print(\"Type of a =\",type(a))"
   ]
  },
  {
   "cell_type": "markdown",
   "metadata": {},
   "source": [
    "# Python Keywords\n",
    "**Keywords are the pre-defined or built-in words whose meaning is already known to python interpreter.**\n",
    "\n",
    "- Keywords are the reserved words in python\n",
    "- We can't use a keyword as variable name, function name or any other identifier\n",
    "- All the keywords except True, False and None are in lowercase and they must be written as is. "
   ]
  },
  {
   "cell_type": "code",
   "execution_count": 53,
   "metadata": {},
   "outputs": [
    {
     "name": "stdout",
     "output_type": "stream",
     "text": [
      "['False', 'None', 'True', 'and', 'as', 'assert', 'async', 'await', 'break', 'class', 'continue', 'def', 'del', 'elif', 'else', 'except', 'finally', 'for', 'from', 'global', 'if', 'import', 'in', 'is', 'lambda', 'nonlocal', 'not', 'or', 'pass', 'raise', 'return', 'try', 'while', 'with', 'yield']\n"
     ]
    }
   ],
   "source": [
    "import keyword\n",
    "print(keyword.kwlist)"
   ]
  },
  {
   "cell_type": "code",
   "execution_count": 64,
   "metadata": {},
   "outputs": [
    {
     "data": {
      "text/plain": [
       "['ArithmeticError',\n",
       " 'AssertionError',\n",
       " 'AttributeError',\n",
       " 'BaseException',\n",
       " 'BlockingIOError',\n",
       " 'BrokenPipeError',\n",
       " 'BufferError',\n",
       " 'BytesWarning',\n",
       " 'ChildProcessError',\n",
       " 'ConnectionAbortedError',\n",
       " 'ConnectionError',\n",
       " 'ConnectionRefusedError',\n",
       " 'ConnectionResetError',\n",
       " 'DeprecationWarning',\n",
       " 'EOFError',\n",
       " 'Ellipsis',\n",
       " 'EnvironmentError',\n",
       " 'Exception',\n",
       " 'False',\n",
       " 'FileExistsError',\n",
       " 'FileNotFoundError',\n",
       " 'FloatingPointError',\n",
       " 'FutureWarning',\n",
       " 'GeneratorExit',\n",
       " 'IOError',\n",
       " 'ImportError',\n",
       " 'ImportWarning',\n",
       " 'IndentationError',\n",
       " 'IndexError',\n",
       " 'InterruptedError',\n",
       " 'IsADirectoryError',\n",
       " 'KeyError',\n",
       " 'KeyboardInterrupt',\n",
       " 'LookupError',\n",
       " 'MemoryError',\n",
       " 'ModuleNotFoundError',\n",
       " 'NameError',\n",
       " 'None',\n",
       " 'NotADirectoryError',\n",
       " 'NotImplemented',\n",
       " 'NotImplementedError',\n",
       " 'OSError',\n",
       " 'OverflowError',\n",
       " 'PendingDeprecationWarning',\n",
       " 'PermissionError',\n",
       " 'ProcessLookupError',\n",
       " 'RecursionError',\n",
       " 'ReferenceError',\n",
       " 'ResourceWarning',\n",
       " 'RuntimeError',\n",
       " 'RuntimeWarning',\n",
       " 'StopAsyncIteration',\n",
       " 'StopIteration',\n",
       " 'SyntaxError',\n",
       " 'SyntaxWarning',\n",
       " 'SystemError',\n",
       " 'SystemExit',\n",
       " 'TabError',\n",
       " 'TimeoutError',\n",
       " 'True',\n",
       " 'TypeError',\n",
       " 'UnboundLocalError',\n",
       " 'UnicodeDecodeError',\n",
       " 'UnicodeEncodeError',\n",
       " 'UnicodeError',\n",
       " 'UnicodeTranslateError',\n",
       " 'UnicodeWarning',\n",
       " 'UserWarning',\n",
       " 'ValueError',\n",
       " 'Warning',\n",
       " 'ZeroDivisionError',\n",
       " '__IPYTHON__',\n",
       " '__build_class__',\n",
       " '__debug__',\n",
       " '__doc__',\n",
       " '__import__',\n",
       " '__loader__',\n",
       " '__name__',\n",
       " '__package__',\n",
       " '__spec__',\n",
       " 'abs',\n",
       " 'all',\n",
       " 'any',\n",
       " 'ascii',\n",
       " 'bin',\n",
       " 'bool',\n",
       " 'breakpoint',\n",
       " 'bytearray',\n",
       " 'bytes',\n",
       " 'callable',\n",
       " 'chr',\n",
       " 'classmethod',\n",
       " 'compile',\n",
       " 'complex',\n",
       " 'copyright',\n",
       " 'credits',\n",
       " 'delattr',\n",
       " 'dict',\n",
       " 'dir',\n",
       " 'display',\n",
       " 'divmod',\n",
       " 'enumerate',\n",
       " 'eval',\n",
       " 'exec',\n",
       " 'filter',\n",
       " 'float',\n",
       " 'format',\n",
       " 'frozenset',\n",
       " 'get_ipython',\n",
       " 'getattr',\n",
       " 'globals',\n",
       " 'hasattr',\n",
       " 'hash',\n",
       " 'help',\n",
       " 'hex',\n",
       " 'id',\n",
       " 'input',\n",
       " 'int',\n",
       " 'isinstance',\n",
       " 'issubclass',\n",
       " 'iter',\n",
       " 'len',\n",
       " 'license',\n",
       " 'list',\n",
       " 'locals',\n",
       " 'map',\n",
       " 'max',\n",
       " 'memoryview',\n",
       " 'min',\n",
       " 'next',\n",
       " 'object',\n",
       " 'oct',\n",
       " 'open',\n",
       " 'ord',\n",
       " 'pow',\n",
       " 'print',\n",
       " 'property',\n",
       " 'range',\n",
       " 'repr',\n",
       " 'reversed',\n",
       " 'round',\n",
       " 'set',\n",
       " 'setattr',\n",
       " 'slice',\n",
       " 'sorted',\n",
       " 'staticmethod',\n",
       " 'str',\n",
       " 'sum',\n",
       " 'super',\n",
       " 'tuple',\n",
       " 'type',\n",
       " 'vars',\n",
       " 'zip']"
      ]
     },
     "execution_count": 64,
     "metadata": {},
     "output_type": "execute_result"
    }
   ],
   "source": [
    "dir(__builtin__) # builtin function"
   ]
  },
  {
   "cell_type": "markdown",
   "metadata": {},
   "source": [
    "# Rules for varibales / Identifier\n",
    "\n",
    "**Rules for Writing Identifiers:**\n",
    "\n",
    "1. Identifiers can be a combination of letters in lowercase (a to z) or uppercase (A to Z) or digits (0 to 9) or an underscore (_).\n",
    "\n",
    "2. An identifier cannot start with a digit. 1variable is invalid, but variable1 is perfectly fine.\n",
    "\n",
    "3. Keywords cannot be used as identifiers.\n",
    "\n",
    "4. No special symbol can be used\n",
    "\n",
    "5. An identifier can be of any length.\n",
    "\n",
    "**Note**: \n",
    "* Python is a case-sensitive language. This means, the identifiers amount, AMOUNT, and aMouNT are not the same. \n",
    "* Always name identifiers that make sense. For example, num is meaningful compared to x\n",
    "* Multiple words can be separated using an underscore. Ex.,compound_interest\n",
    "* We can also use camel-case style of writing, i.e., capitalize every first letter of the word except the initial word without any spaces. For example: camelCaseExample"
   ]
  },
  {
   "cell_type": "markdown",
   "metadata": {},
   "source": [
    "# Operator and Expression"
   ]
  },
  {
   "cell_type": "markdown",
   "metadata": {},
   "source": [
    "Operator is a predefined symbol that performs operation using operands.\n",
    "e.g., + is an operator that performs addition using two operands.\n",
    "\n",
    "Expression is collection of operands (literals/variables) and operators that when evaluated gives some result.\n",
    "e.g., (2+3)-5 is an expression that returns result 0. \n",
    "\n",
    "For each operator, please know:\n",
    "1. arity: no.of operands an operator acts upon\n",
    "2. operation: activity\n",
    "3. precedence: priority of evaluation\n",
    "4. Associativity: Order of evaluation\n",
    "\n",
    "\n",
    "#### ***Operator***\n",
    "\n",
    "- Arithmetic operator\n",
    " - *+ : addition*\n",
    " - *- : sub*\n",
    " - ** : mul*\n",
    " - */ : div*\n",
    " - *% : reminder (modulus)*\n",
    " - *// : quo*\n",
    " - *** power*\n",
    "- Assigment operator\n",
    "- identity operatos --> is\n",
    "- Memebership operator --> in\n",
    "- Relationanl- ==, != , > , < >=, <= , <>\n",
    "- Logical (or, |) (and, &)\n",
    "- Bitwise &, |, ^, ~, <<, >>"
   ]
  },
  {
   "cell_type": "code",
   "execution_count": 69,
   "metadata": {},
   "outputs": [
    {
     "name": "stdout",
     "output_type": "stream",
     "text": [
      "Added value 30\n"
     ]
    }
   ],
   "source": [
    "a = 10\n",
    "b = 20\n",
    "c = a + b\n",
    "print(\"Added value\",c)"
   ]
  },
  {
   "cell_type": "code",
   "execution_count": 70,
   "metadata": {},
   "outputs": [
    {
     "name": "stdout",
     "output_type": "stream",
     "text": [
      "sub value -10\n"
     ]
    }
   ],
   "source": [
    "a = 10\n",
    "b = 20\n",
    "c = a - b\n",
    "print(\"sub value\",c)"
   ]
  },
  {
   "cell_type": "code",
   "execution_count": 71,
   "metadata": {},
   "outputs": [
    {
     "name": "stdout",
     "output_type": "stream",
     "text": [
      "mul value 200\n"
     ]
    }
   ],
   "source": [
    "a = 10\n",
    "b = 20\n",
    "c = a * b\n",
    "print(\"mul value\",c)"
   ]
  },
  {
   "cell_type": "code",
   "execution_count": 72,
   "metadata": {},
   "outputs": [
    {
     "data": {
      "text/plain": [
       "3.5"
      ]
     },
     "execution_count": 72,
     "metadata": {},
     "output_type": "execute_result"
    }
   ],
   "source": [
    "7/2"
   ]
  },
  {
   "cell_type": "code",
   "execution_count": 73,
   "metadata": {},
   "outputs": [
    {
     "data": {
      "text/plain": [
       "1"
      ]
     },
     "execution_count": 73,
     "metadata": {},
     "output_type": "execute_result"
    }
   ],
   "source": [
    "7%2 # -> reminder"
   ]
  },
  {
   "cell_type": "code",
   "execution_count": 75,
   "metadata": {},
   "outputs": [
    {
     "data": {
      "text/plain": [
       "3"
      ]
     },
     "execution_count": 75,
     "metadata": {},
     "output_type": "execute_result"
    }
   ],
   "source": [
    "7//2 # -> quo"
   ]
  },
  {
   "cell_type": "code",
   "execution_count": 77,
   "metadata": {},
   "outputs": [
    {
     "name": "stdout",
     "output_type": "stream",
     "text": [
      "Square of a 4\n",
      "Cube of a 8\n"
     ]
    }
   ],
   "source": [
    "# Power\n",
    "\n",
    "a = 2\n",
    "print(\"Square of a\",a**2)\n",
    "print(\"Cube of a\",a**3)"
   ]
  },
  {
   "cell_type": "markdown",
   "metadata": {},
   "source": [
    "### Arithmatics operators"
   ]
  },
  {
   "cell_type": "code",
   "execution_count": 79,
   "metadata": {},
   "outputs": [
    {
     "name": "stdout",
     "output_type": "stream",
     "text": [
      "x + y = 19\n",
      "x - y = 11\n",
      "x * y = 60\n",
      "x / y = 3.75\n",
      "x // y = 3\n",
      "x ** y = 50625\n",
      "x % y  = 3\n"
     ]
    }
   ],
   "source": [
    "x = 15\n",
    "y = 4\n",
    "print('x + y =',x+y) # -> add\n",
    "print('x - y =',x-y) # -> sub\n",
    "print('x * y =',x*y) # -> mul\n",
    "print('x / y =',x/y) # -> division\n",
    "print('x // y =',x//y) # -> quo\n",
    "print('x ** y =',x**y) # -> power\n",
    "print('x % y  =',x%y) # -> modulous / reminder"
   ]
  },
  {
   "cell_type": "markdown",
   "metadata": {},
   "source": [
    "###  Assignment operators"
   ]
  },
  {
   "cell_type": "code",
   "execution_count": 81,
   "metadata": {},
   "outputs": [
    {
     "name": "stdout",
     "output_type": "stream",
     "text": [
      "x= 15\n",
      "x += y = 19\n",
      "x -= y = 15\n",
      "x *= y = 60\n",
      "x /= y = 15.0\n",
      "x //= y = 3.0\n",
      "x **= y = 81.0\n"
     ]
    }
   ],
   "source": [
    "x = 15\n",
    "y = 4\n",
    "print('x=',x)\n",
    "\n",
    "x+=y # x = x+y\n",
    "print('x += y =',x)\n",
    "\n",
    "x-=y # x = x-y\n",
    "print('x -= y =',x)\n",
    "\n",
    "x*=y # x = x*y\n",
    "print('x *= y =',x)\n",
    "\n",
    "x/=y # x = x/y\n",
    "print('x /= y =',x)\n",
    "\n",
    "x//=y # x = x//y\n",
    "print('x //= y =',x)\n",
    "\n",
    "x**=y # x = x**y\n",
    "print('x **= y =',x)"
   ]
  },
  {
   "cell_type": "markdown",
   "metadata": {},
   "source": [
    "###  Identity operators"
   ]
  },
  {
   "cell_type": "code",
   "execution_count": 86,
   "metadata": {},
   "outputs": [
    {
     "name": "stdout",
     "output_type": "stream",
     "text": [
      "False\n"
     ]
    }
   ],
   "source": [
    "a = 5\n",
    "b = 6\n",
    "\n",
    "print(a is b)"
   ]
  },
  {
   "cell_type": "code",
   "execution_count": 87,
   "metadata": {},
   "outputs": [
    {
     "name": "stdout",
     "output_type": "stream",
     "text": [
      "True\n"
     ]
    }
   ],
   "source": [
    "a = 5\n",
    "b = [4,5,6]\n",
    "\n",
    "print(a in b)"
   ]
  },
  {
   "cell_type": "markdown",
   "metadata": {},
   "source": [
    "### Membership operator"
   ]
  },
  {
   "cell_type": "code",
   "execution_count": 88,
   "metadata": {},
   "outputs": [
    {
     "name": "stdout",
     "output_type": "stream",
     "text": [
      "False\n"
     ]
    }
   ],
   "source": [
    "a = 15\n",
    "b = [4,5,6]\n",
    "\n",
    "print(a in b)"
   ]
  },
  {
   "cell_type": "code",
   "execution_count": 89,
   "metadata": {},
   "outputs": [
    {
     "name": "stdout",
     "output_type": "stream",
     "text": [
      "True\n"
     ]
    }
   ],
   "source": [
    "a = 15\n",
    "b = [4,5,6]\n",
    "\n",
    "print(a not in b)"
   ]
  },
  {
   "cell_type": "markdown",
   "metadata": {},
   "source": [
    "### Relational operator / conditional operator\n",
    "\n",
    "![](https://image.slidesharecdn.com/pythonbasics-160315131241/95/python-basics-10-638.jpg?cb=1459776989)"
   ]
  },
  {
   "cell_type": "markdown",
   "metadata": {},
   "source": [
    "### Logical operator\n",
    "![](https://media.geeksforgeeks.org/wp-content/uploads/bool.png)"
   ]
  },
  {
   "cell_type": "code",
   "execution_count": 92,
   "metadata": {},
   "outputs": [
    {
     "name": "stdout",
     "output_type": "stream",
     "text": [
      "x > y  is False\n",
      "x < y  is True\n",
      "x == y is False\n",
      "x != y is True\n",
      "x >= y is False\n",
      "x <= y is True\n"
     ]
    }
   ],
   "source": [
    "x = 10\n",
    "y = 12\n",
    "print('x > y  is',x>y) # greater\n",
    "print('x < y  is',x<y) # lesser\n",
    "print('x == y is',x==y) # equal\n",
    "print('x != y is',x!=y) # not equal \n",
    "print('x >= y is',x>00 01 10 11=y) # greater than or equal\n",
    "print('x <= y is',x<=y) # lesser than or equal"
   ]
  },
  {
   "cell_type": "code",
   "execution_count": 93,
   "metadata": {},
   "outputs": [
    {
     "data": {
      "text/plain": [
       "True"
      ]
     },
     "execution_count": 93,
     "metadata": {},
     "output_type": "execute_result"
    }
   ],
   "source": [
    "a = 3\n",
    "b = 3\n",
    "c = 4\n",
    "\n",
    "(a==b) | (b>c) # -> or "
   ]
  },
  {
   "cell_type": "code",
   "execution_count": 97,
   "metadata": {},
   "outputs": [
    {
     "data": {
      "text/plain": [
       "True"
      ]
     },
     "execution_count": 97,
     "metadata": {},
     "output_type": "execute_result"
    }
   ],
   "source": [
    "(a==b) or (b>c)"
   ]
  },
  {
   "cell_type": "code",
   "execution_count": 95,
   "metadata": {},
   "outputs": [
    {
     "data": {
      "text/plain": [
       "False"
      ]
     },
     "execution_count": 95,
     "metadata": {},
     "output_type": "execute_result"
    }
   ],
   "source": [
    "(a==b) & (b>c) # -> and"
   ]
  },
  {
   "cell_type": "code",
   "execution_count": 98,
   "metadata": {},
   "outputs": [
    {
     "data": {
      "text/plain": [
       "False"
      ]
     },
     "execution_count": 98,
     "metadata": {},
     "output_type": "execute_result"
    }
   ],
   "source": [
    "(a==b) and (b>c) "
   ]
  },
  {
   "cell_type": "markdown",
   "metadata": {},
   "source": [
    "# Bitwise operator (Will explain again)"
   ]
  },
  {
   "cell_type": "code",
   "execution_count": 99,
   "metadata": {},
   "outputs": [
    {
     "data": {
      "text/plain": [
       "5"
      ]
     },
     "execution_count": 99,
     "metadata": {},
     "output_type": "execute_result"
    }
   ],
   "source": [
    "a = 5 \n",
    "b = 5\n",
    "\n",
    "a & b"
   ]
  },
  {
   "cell_type": "code",
   "execution_count": 100,
   "metadata": {},
   "outputs": [
    {
     "name": "stdout",
     "output_type": "stream",
     "text": [
      "x & y = 2\n",
      "x | y = 7\n",
      "x ^ y = 5\n",
      "~x = -3\n",
      "x<<2 = 8\n",
      "x >> 2 = 0\n"
     ]
    }
   ],
   "source": [
    "x = 2\n",
    "y = 7\n",
    "print('x & y =',x&y)\n",
    "print('x | y =',x|y)\n",
    "print('x ^ y =',x^y)\n",
    "print('~x =',~x)\n",
    "print('x<<2 =',x<<2)\n",
    "print('x >> 2 =',x>>2)"
   ]
  },
  {
   "cell_type": "markdown",
   "metadata": {},
   "source": [
    "# How to get a input from user"
   ]
  },
  {
   "cell_type": "code",
   "execution_count": 102,
   "metadata": {},
   "outputs": [
    {
     "name": "stdout",
     "output_type": "stream",
     "text": [
      "Enter the a value = 5\n"
     ]
    }
   ],
   "source": [
    "a = input(\"Enter the a value = \")"
   ]
  },
  {
   "cell_type": "code",
   "execution_count": 104,
   "metadata": {},
   "outputs": [
    {
     "name": "stdout",
     "output_type": "stream",
     "text": [
      "Value of a 5\n",
      "Type of a <class 'str'>\n"
     ]
    }
   ],
   "source": [
    "print(\"Value of a\",a)\n",
    "print(\"Type of a\",type(a))"
   ]
  },
  {
   "cell_type": "code",
   "execution_count": 106,
   "metadata": {},
   "outputs": [
    {
     "name": "stdout",
     "output_type": "stream",
     "text": [
      "Value of a 5\n",
      "Type of a <class 'int'>\n"
     ]
    }
   ],
   "source": [
    "a = int(a)\n",
    "print(\"Value of a\",a)\n",
    "print(\"Type of a\",type(a))"
   ]
  },
  {
   "cell_type": "code",
   "execution_count": 107,
   "metadata": {},
   "outputs": [
    {
     "name": "stdout",
     "output_type": "stream",
     "text": [
      "Enter the a value = 100\n",
      "Value of a 100.0\n",
      "Type of a <class 'float'>\n"
     ]
    }
   ],
   "source": [
    "a = float(input(\"Enter the a value = \"))\n",
    "print(\"Value of a\",a)\n",
    "print(\"Type of a\",type(a))"
   ]
  },
  {
   "cell_type": "markdown",
   "metadata": {},
   "source": [
    "# Formatting an output"
   ]
  },
  {
   "cell_type": "code",
   "execution_count": 119,
   "metadata": {},
   "outputs": [
    {
     "name": "stdout",
     "output_type": "stream",
     "text": [
      "value of a = 1000 and value for b = 2000\n"
     ]
    }
   ],
   "source": [
    "a = 1000\n",
    "b = 2000\n",
    "\n",
    "print(\"value of a = {} and value for b = {}\".format(a,b))"
   ]
  },
  {
   "cell_type": "code",
   "execution_count": 120,
   "metadata": {},
   "outputs": [
    {
     "name": "stdout",
     "output_type": "stream",
     "text": [
      "value of b = 2000 and value for a = 1000\n"
     ]
    }
   ],
   "source": [
    "a = 1000\n",
    "b = 2000\n",
    "\n",
    "print(\"value of b = {1} and value for a = {0}\".format(a,b))"
   ]
  },
  {
   "cell_type": "code",
   "execution_count": 121,
   "metadata": {},
   "outputs": [],
   "source": [
    "# %s -> string\n",
    "# %d -> int\n",
    "# %f -> float"
   ]
  },
  {
   "cell_type": "code",
   "execution_count": 124,
   "metadata": {},
   "outputs": [
    {
     "name": "stdout",
     "output_type": "stream",
     "text": [
      "Value of a=9.666 and types of a = <class 'float'>\n"
     ]
    }
   ],
   "source": [
    "a = 9.66584899\n",
    "print(\"Value of a=%.3f and types of a = %s\"%(a,type(a)))"
   ]
  },
  {
   "cell_type": "code",
   "execution_count": 123,
   "metadata": {},
   "outputs": [
    {
     "name": "stdout",
     "output_type": "stream",
     "text": [
      "Value of a=9 and types of a = <class 'float'>\n"
     ]
    }
   ],
   "source": [
    "print(\"Value of a=%d and types of a = %s\"%(a,type(a)))"
   ]
  },
  {
   "cell_type": "markdown",
   "metadata": {},
   "source": [
    "# Home work / Assigement - 1\n",
    "\n",
    "1) Get just 2 value for user and prepare calculator program [All assigment operator, no need for selection of operator]"
   ]
  },
  {
   "cell_type": "code",
   "execution_count": null,
   "metadata": {},
   "outputs": [],
   "source": []
  }
 ],
 "metadata": {
  "kernelspec": {
   "display_name": "Python 3",
   "language": "python",
   "name": "python3"
  },
  "language_info": {
   "codemirror_mode": {
    "name": "ipython",
    "version": 3
   },
   "file_extension": ".py",
   "mimetype": "text/x-python",
   "name": "python",
   "nbconvert_exporter": "python",
   "pygments_lexer": "ipython3",
   "version": "3.7.6"
  }
 },
 "nbformat": 4,
 "nbformat_minor": 4
}
