{
 "cells": [
  {
   "cell_type": "markdown",
   "id": "b7c1b058",
   "metadata": {},
   "source": [
    "# Regular expression\n",
    "\n",
    "A Regular Expression (RegEx) is a sequence of chararcters which describes a **textual pattern.**\n",
    "\n",
    "In Python, **re** package that provides a set of methods to perform various RegEx operations.\n",
    "\n",
    "### Major functions that are avaialble in re:\n",
    "\n",
    "* Compile - Returns a RegEx pattern object.\n",
    "* Search - Returns a match object if there is a match found.\n",
    "* findall - Returns a list of all matches.\n",
    "* sub - Replaces one or more matches within the text.\n",
    "* split - Returns a list where the text has been split at every match."
   ]
  },
  {
   "cell_type": "code",
   "execution_count": 1,
   "id": "e04fcd6d",
   "metadata": {},
   "outputs": [],
   "source": [
    "import re # import required regular expression package"
   ]
  },
  {
   "cell_type": "code",
   "execution_count": 2,
   "id": "ac402207",
   "metadata": {},
   "outputs": [],
   "source": [
    " a = \"\"\"\n",
    " A customer review is a review of a product or service made by a customer\n",
    " who has purchased and used, or had experience with, the product or service. \n",
    " Customer reviews are a form of customer feedback on electronic commerce and online shopping sites.\n",
    " my code = 8989 & 7895\n",
    " \"\"\""
   ]
  },
  {
   "cell_type": "markdown",
   "id": "93893013",
   "metadata": {},
   "source": [
    "### Compile the pattern"
   ]
  },
  {
   "cell_type": "code",
   "execution_count": 4,
   "id": "330b8d5c",
   "metadata": {},
   "outputs": [
    {
     "data": {
      "text/plain": [
       "re.Pattern"
      ]
     },
     "execution_count": 4,
     "metadata": {},
     "output_type": "execute_result"
    }
   ],
   "source": [
    "pattern_number = re.compile(\"\\d\\d\\d\\d\")\n",
    "type(pattern_number)"
   ]
  },
  {
   "cell_type": "markdown",
   "id": "eebee116",
   "metadata": {},
   "source": [
    "### Search"
   ]
  },
  {
   "cell_type": "code",
   "execution_count": 7,
   "id": "36d3fb1e",
   "metadata": {},
   "outputs": [
    {
     "name": "stdout",
     "output_type": "stream",
     "text": [
      "Code is 8989\n"
     ]
    }
   ],
   "source": [
    "mathed_items = pattern_number.search(a)\n",
    "extracted_number = mathed_items.group()\n",
    "print(f\"Code is {extracted_number}\")"
   ]
  },
  {
   "cell_type": "markdown",
   "id": "0a9a7474",
   "metadata": {},
   "source": [
    "### find all"
   ]
  },
  {
   "cell_type": "code",
   "execution_count": 8,
   "id": "9a28a2f1",
   "metadata": {},
   "outputs": [
    {
     "name": "stdout",
     "output_type": "stream",
     "text": [
      "Code is ['8989', '7895']\n"
     ]
    }
   ],
   "source": [
    "mathed_items = pattern_number.findall(a)\n",
    "print(f\"Code is {mathed_items}\")"
   ]
  },
  {
   "cell_type": "markdown",
   "id": "b4ea0abd",
   "metadata": {},
   "source": [
    "# Example 2:"
   ]
  },
  {
   "cell_type": "code",
   "execution_count": 9,
   "id": "fda527ef",
   "metadata": {},
   "outputs": [],
   "source": [
    "b = '''146.204.224.152 - feest6811 [21/Jun/2019:15:45:24 -0700] \"POST /incentivize HTTP/1.1\" 302 4622 '''"
   ]
  },
  {
   "cell_type": "code",
   "execution_count": 12,
   "id": "8f27ae0b",
   "metadata": {},
   "outputs": [
    {
     "name": "stdout",
     "output_type": "stream",
     "text": [
      "IP extracted from string 146.204.224.152\n"
     ]
    }
   ],
   "source": [
    "pattern = \"\\d\\d\\d.\\d\\d\\d.\\d\\d\\d.\\d\\d\\d\"\n",
    "pattern_number = re.compile(pattern)\n",
    "mathed_items = pattern_number.search(b)\n",
    "extracted_number = mathed_items.group()\n",
    "print(f\"IP extracted from string {extracted_number}\")"
   ]
  },
  {
   "cell_type": "markdown",
   "id": "6e40c6d3",
   "metadata": {},
   "source": [
    "# Example 3:"
   ]
  },
  {
   "cell_type": "code",
   "execution_count": 14,
   "id": "da6833f3",
   "metadata": {},
   "outputs": [],
   "source": [
    "text2 = '''JioCare\n",
    "\n",
    "Our experts are available for your assistance 24x7 (Monday - Sunday)\n",
    "\n",
    "Interested in Jio? Talk to us on\t1860-893-3333\n",
    "For recharge plans, data balance, validity, recharge confirmation & offers\t1991\n",
    "For Queries\t199\n",
    "For Complaints\t198\n",
    "For Other numbers\t1800-889-9999\n",
    "Tele-verification to activate both HD voice & data services\t1977\n",
    "Tele-verification to activate data services only\t1800-890-1977\n",
    "For support on International Roaming\n",
    "(accessible only when roaming abroad) +917018899999 (charges applicable)\n",
    "Device Care Helpline (JioPhone, LYF Mobile & JioFi)\n",
    "\n",
    "Our experts are available for your assistance on all Days, from 9am to 9pm\n",
    "Find\n",
    "Helpline 1800-890-9999\n",
    "Jio Enterprise Mobility & Business Solutions\n",
    "\n",
    "Our experts are available for your assistance 24x7 (Monday - Sunday)\n",
    "\n",
    "Enterprise Mobility Services 1800-889-9333\n",
    "Enterprise Connectivity Services & Business Solutions\t1800-889-9444\n",
    "New Business Connection\t1800-889-9555\n",
    "Care Helpline for JioFiber Customers\n",
    "\n",
    "Our experts are available for your assistance 24X7 (Monday – Sunday)\n",
    "\n",
    "Helpline 1800-896-9999\n",
    "Online shopping\n",
    "'''"
   ]
  },
  {
   "cell_type": "code",
   "execution_count": 26,
   "id": "f4cfb22d",
   "metadata": {},
   "outputs": [],
   "source": [
    "pattern = \"\\d\\d\\d\\d-\\d\\d\\d-\\d\\d\\d\\d\"\n",
    "pattern_number = re.compile(pattern)"
   ]
  },
  {
   "cell_type": "code",
   "execution_count": 27,
   "id": "7f5a06b9",
   "metadata": {},
   "outputs": [
    {
     "data": {
      "text/plain": [
       "<re.Match object; span=(112, 125), match='1860-893-3333'>"
      ]
     },
     "execution_count": 27,
     "metadata": {},
     "output_type": "execute_result"
    }
   ],
   "source": [
    "mathed_items = pattern_number.search(text2)\n",
    "mathed_items"
   ]
  },
  {
   "cell_type": "code",
   "execution_count": 28,
   "id": "0e891e79",
   "metadata": {},
   "outputs": [
    {
     "name": "stdout",
     "output_type": "stream",
     "text": [
      "Helpline numbers 1860-893-3333\n"
     ]
    }
   ],
   "source": [
    "extracted_number = mathed_items.group()\n",
    "print(f\"Helpline numbers {extracted_number}\")"
   ]
  },
  {
   "cell_type": "code",
   "execution_count": 29,
   "id": "e4906aeb",
   "metadata": {},
   "outputs": [
    {
     "ename": "IndexError",
     "evalue": "no such group",
     "output_type": "error",
     "traceback": [
      "\u001b[0;31m---------------------------------------------------------------------------\u001b[0m",
      "\u001b[0;31mIndexError\u001b[0m                                Traceback (most recent call last)",
      "\u001b[0;32m<ipython-input-29-349f75046f1a>\u001b[0m in \u001b[0;36m<module>\u001b[0;34m\u001b[0m\n\u001b[0;32m----> 1\u001b[0;31m \u001b[0mmathed_items\u001b[0m\u001b[0;34m.\u001b[0m\u001b[0mgroup\u001b[0m\u001b[0;34m(\u001b[0m\u001b[0;36m1\u001b[0m\u001b[0;34m)\u001b[0m\u001b[0;34m\u001b[0m\u001b[0;34m\u001b[0m\u001b[0m\n\u001b[0m",
      "\u001b[0;31mIndexError\u001b[0m: no such group"
     ]
    }
   ],
   "source": [
    "mathed_items.group(1)"
   ]
  },
  {
   "cell_type": "markdown",
   "id": "d569b600",
   "metadata": {},
   "source": [
    "### Subgroups - Parantheses ()"
   ]
  },
  {
   "cell_type": "code",
   "execution_count": 30,
   "id": "05cd8958",
   "metadata": {},
   "outputs": [],
   "source": [
    "pattern = \"(\\d\\d\\d\\d)-(\\d\\d\\d)-(\\d\\d\\d\\d)\"\n",
    "pattern_number = re.compile(pattern)"
   ]
  },
  {
   "cell_type": "code",
   "execution_count": 31,
   "id": "73a785f6",
   "metadata": {},
   "outputs": [
    {
     "data": {
      "text/plain": [
       "<re.Match object; span=(112, 125), match='1860-893-3333'>"
      ]
     },
     "execution_count": 31,
     "metadata": {},
     "output_type": "execute_result"
    }
   ],
   "source": [
    "mathed_items = pattern_number.search(text2)\n",
    "mathed_items"
   ]
  },
  {
   "cell_type": "code",
   "execution_count": 32,
   "id": "93a848be",
   "metadata": {},
   "outputs": [
    {
     "name": "stdout",
     "output_type": "stream",
     "text": [
      "Helpline numbers 1860-893-3333\n"
     ]
    }
   ],
   "source": [
    "extracted_number = mathed_items.group()\n",
    "print(f\"Helpline numbers {extracted_number}\")"
   ]
  },
  {
   "cell_type": "code",
   "execution_count": 33,
   "id": "fe68dd71",
   "metadata": {},
   "outputs": [
    {
     "data": {
      "text/plain": [
       "'1860'"
      ]
     },
     "execution_count": 33,
     "metadata": {},
     "output_type": "execute_result"
    }
   ],
   "source": [
    "mathed_items.group(1)"
   ]
  },
  {
   "cell_type": "code",
   "execution_count": 34,
   "id": "d76da52f",
   "metadata": {},
   "outputs": [
    {
     "data": {
      "text/plain": [
       "'893'"
      ]
     },
     "execution_count": 34,
     "metadata": {},
     "output_type": "execute_result"
    }
   ],
   "source": [
    "mathed_items.group(2)"
   ]
  },
  {
   "cell_type": "code",
   "execution_count": 35,
   "id": "6eb82677",
   "metadata": {},
   "outputs": [
    {
     "data": {
      "text/plain": [
       "'3333'"
      ]
     },
     "execution_count": 35,
     "metadata": {},
     "output_type": "execute_result"
    }
   ],
   "source": [
    "mathed_items.group(3)"
   ]
  },
  {
   "cell_type": "markdown",
   "id": "935463e9",
   "metadata": {},
   "source": [
    "### Find all number in string"
   ]
  },
  {
   "cell_type": "code",
   "execution_count": 36,
   "id": "d5c68431",
   "metadata": {},
   "outputs": [
    {
     "data": {
      "text/plain": [
       "['1860-893-3333',\n",
       " '1800-889-9999',\n",
       " '1800-890-1977',\n",
       " '1800-890-9999',\n",
       " '1800-889-9333',\n",
       " '1800-889-9444',\n",
       " '1800-889-9555',\n",
       " '1800-896-9999']"
      ]
     },
     "execution_count": 36,
     "metadata": {},
     "output_type": "execute_result"
    }
   ],
   "source": [
    "pattern = re.compile(\"\\d\\d\\d\\d-\\d\\d\\d-\\d\\d\\d\\d\")\n",
    "matched_case = pattern.findall(text2)\n",
    "matched_case"
   ]
  },
  {
   "cell_type": "code",
   "execution_count": 37,
   "id": "3b5310e7",
   "metadata": {},
   "outputs": [
    {
     "data": {
      "text/plain": [
       "[('1860', '893', '3333'),\n",
       " ('1800', '889', '9999'),\n",
       " ('1800', '890', '1977'),\n",
       " ('1800', '890', '9999'),\n",
       " ('1800', '889', '9333'),\n",
       " ('1800', '889', '9444'),\n",
       " ('1800', '889', '9555'),\n",
       " ('1800', '896', '9999')]"
      ]
     },
     "execution_count": 37,
     "metadata": {},
     "output_type": "execute_result"
    }
   ],
   "source": [
    "pattern = re.compile(\"(\\d\\d\\d\\d)-(\\d\\d\\d)-(\\d\\d\\d\\d)\")\n",
    "matched_case = pattern.findall(text2)\n",
    "matched_case"
   ]
  },
  {
   "cell_type": "code",
   "execution_count": 39,
   "id": "d54e38d1",
   "metadata": {},
   "outputs": [
    {
     "data": {
      "text/plain": [
       "['+917018899999']"
      ]
     },
     "execution_count": 39,
     "metadata": {},
     "output_type": "execute_result"
    }
   ],
   "source": [
    "# Extracting a mobile number\n",
    "pattern = re.compile(\"\\+\\d\\d\\d\\d\\d\\d\\d\\d\\d\\d\\d\\d\")\n",
    "pattern.findall(text2)"
   ]
  },
  {
   "cell_type": "code",
   "execution_count": 42,
   "id": "c31f15bd",
   "metadata": {},
   "outputs": [
    {
     "data": {
      "text/plain": [
       "[('+91', '7018899999')]"
      ]
     },
     "execution_count": 42,
     "metadata": {},
     "output_type": "execute_result"
    }
   ],
   "source": [
    "# Extracting a mobile number with subgroups\n",
    "pattern = re.compile(\"(\\+\\d\\d)(\\d\\d\\d\\d\\d\\d\\d\\d\\d\\d)\")\n",
    "pattern.findall(text2)"
   ]
  },
  {
   "cell_type": "markdown",
   "id": "010777c5",
   "metadata": {},
   "source": [
    "##### Matching specific repetitions with {}\n",
    "* The {} braces indicates the group () that precedes it has to be present n number of times, where n is specified in the {}."
   ]
  },
  {
   "cell_type": "code",
   "execution_count": 43,
   "id": "339d6205",
   "metadata": {},
   "outputs": [],
   "source": [
    "text3 = '(accessible only when roaming abroad) (+91)7018899999 (charges applicable)'"
   ]
  },
  {
   "cell_type": "code",
   "execution_count": 46,
   "id": "4743b9d0",
   "metadata": {},
   "outputs": [
    {
     "data": {
      "text/plain": [
       "['(+91)7018899999']"
      ]
     },
     "execution_count": 46,
     "metadata": {},
     "output_type": "execute_result"
    }
   ],
   "source": [
    "pattern = re.compile(\"\\(\\+\\d\\d\\)\\d\\d\\d\\d\\d\\d\\d\\d\\d\\d\")\n",
    "pattern.findall(text3)"
   ]
  },
  {
   "cell_type": "code",
   "execution_count": 48,
   "id": "4d0c0432",
   "metadata": {},
   "outputs": [
    {
     "data": {
      "text/plain": [
       "['(+91)7018899999']"
      ]
     },
     "execution_count": 48,
     "metadata": {},
     "output_type": "execute_result"
    }
   ],
   "source": [
    "pattern = re.compile(\"\\(\\+\\d{2}\\)\\d{10}\")\n",
    "pattern.findall(text3)"
   ]
  },
  {
   "cell_type": "code",
   "execution_count": 49,
   "id": "26a9c253",
   "metadata": {},
   "outputs": [
    {
     "data": {
      "text/plain": [
       "[('1860', '893', '3333'),\n",
       " ('1800', '889', '9999'),\n",
       " ('1800', '890', '1977'),\n",
       " ('1800', '890', '9999'),\n",
       " ('1800', '889', '9333'),\n",
       " ('1800', '889', '9444'),\n",
       " ('1800', '889', '9555'),\n",
       " ('1800', '896', '9999')]"
      ]
     },
     "execution_count": 49,
     "metadata": {},
     "output_type": "execute_result"
    }
   ],
   "source": [
    "# example\n",
    "pattern = re.compile(\"(\\d{4})-(\\d{3})-(\\d{4})\")\n",
    "matched_case = pattern.findall(text2)\n",
    "matched_case"
   ]
  },
  {
   "cell_type": "markdown",
   "id": "31b2dcca",
   "metadata": {},
   "source": [
    "##### Matching one or more with +\n",
    "* The + character indicates the group () that precedes it has to be present atleast once or repeated over and over again."
   ]
  },
  {
   "cell_type": "code",
   "execution_count": 50,
   "id": "63a1963e",
   "metadata": {},
   "outputs": [],
   "source": [
    "text4 = '''Interested in Jio? Talk to us on 1860--893--3333 \n",
    "Tele-verification to activate data services only 1800-890-1977'''"
   ]
  },
  {
   "cell_type": "code",
   "execution_count": 55,
   "id": "62a94e92",
   "metadata": {},
   "outputs": [
    {
     "data": {
      "text/plain": [
       "['1860--893--3333', '1800-890-1977']"
      ]
     },
     "execution_count": 55,
     "metadata": {},
     "output_type": "execute_result"
    }
   ],
   "source": [
    "pattern = re.compile(\"\\d{4}-+\\d{3}-+\\d{4}\")\n",
    "pattern.findall(text4)"
   ]
  },
  {
   "cell_type": "markdown",
   "id": "8d72a45d",
   "metadata": {},
   "source": [
    "##### Matching zero or more with *\n",
    "* The * character indicates the group () that precedes it can be absent or repeated over and over again."
   ]
  },
  {
   "cell_type": "code",
   "execution_count": 56,
   "id": "ea3b5ff6",
   "metadata": {},
   "outputs": [],
   "source": [
    "text4 = '''Interested in Jio? Talk to us on 18608933333 \n",
    "Tele-verification to activate data services only 1800-890-1977 1800--890--1977'''\n"
   ]
  },
  {
   "cell_type": "code",
   "execution_count": 57,
   "id": "fb878bfa",
   "metadata": {},
   "outputs": [
    {
     "data": {
      "text/plain": [
       "['18608933333', '1800-890-1977', '1800--890--1977']"
      ]
     },
     "execution_count": 57,
     "metadata": {},
     "output_type": "execute_result"
    }
   ],
   "source": [
    "pattern = re.compile(\"\\d{4}-*\\d{3}-*\\d{4}\")\n",
    "pattern.findall(text4)"
   ]
  },
  {
   "cell_type": "markdown",
   "id": "da6a1fa5",
   "metadata": {},
   "source": [
    "# Pattern in RE\n",
    "\n",
    "###### Character classes\n",
    "* \\d - Any numeric digit from 0 to 9.\n",
    "* \\D - Any character that is not a numeric digit (from 0 to 9).\n",
    "* \\w - Any character which is an alphabet or numeric digit or underscore (_).\n",
    "* \\W - Any character which is not an alphabet or numeric digit or underscore (_).\n",
    "* \\s - Any space or tab space or newline.\n",
    "* \\S - Any character which is not a space or tab space or newline.\n",
    "* \\b - Word boundary. This matches the beginning and end of a word."
   ]
  },
  {
   "cell_type": "code",
   "execution_count": 58,
   "id": "72a0ba5e",
   "metadata": {},
   "outputs": [
    {
     "data": {
      "text/plain": [
       "'JioCare\\n\\nOur experts are available for your assistance 24x7 (Monday - Sunday)\\n\\nInterested in Jio? Talk to us on\\t1860-893-3333\\nFor recharge plans, data balance, validity, recharge confirmation & offers\\t1991\\nFor Queries\\t199\\nFor Complaints\\t198\\nFor Other numbers\\t1800-889-9999\\nTele-verification to activate both HD voice & data services\\t1977\\nTele-verification to activate data services only\\t1800-890-1977\\nFor support on International Roaming\\n(accessible only when roaming abroad) +917018899999 (charges applicable)\\nDevice Care Helpline (JioPhone, LYF Mobile & JioFi)\\n\\nOur experts are available for your assistance on all Days, from 9am to 9pm\\nFind\\nHelpline 1800-890-9999\\nJio Enterprise Mobility & Business Solutions\\n\\nOur experts are available for your assistance 24x7 (Monday - Sunday)\\n\\nEnterprise Mobility Services 1800-889-9333\\nEnterprise Connectivity Services & Business Solutions\\t1800-889-9444\\nNew Business Connection\\t1800-889-9555\\nCare Helpline for JioFiber Customers\\n\\nOur experts are available for your assistance 24X7 (Monday – Sunday)\\n\\nHelpline 1800-896-9999\\nOnline shopping\\n'"
      ]
     },
     "execution_count": 58,
     "metadata": {},
     "output_type": "execute_result"
    }
   ],
   "source": [
    "text2"
   ]
  },
  {
   "cell_type": "code",
   "execution_count": 59,
   "id": "b324aabc",
   "metadata": {},
   "outputs": [
    {
     "name": "stdout",
     "output_type": "stream",
     "text": [
      "['2', '4', '7', '1', '8', '6', '0', '8', '9', '3', '3', '3', '3', '3', '1', '9', '9', '1', '1', '9', '9', '1', '9', '8', '1', '8', '0', '0', '8', '8', '9', '9', '9', '9', '9', '1', '9', '7', '7', '1', '8', '0', '0', '8', '9', '0', '1', '9', '7', '7', '9', '1', '7', '0', '1', '8', '8', '9', '9', '9', '9', '9', '9', '9', '1', '8', '0', '0', '8', '9', '0', '9', '9', '9', '9', '2', '4', '7', '1', '8', '0', '0', '8', '8', '9', '9', '3', '3', '3', '1', '8', '0', '0', '8', '8', '9', '9', '4', '4', '4', '1', '8', '0', '0', '8', '8', '9', '9', '5', '5', '5', '2', '4', '7', '1', '8', '0', '0', '8', '9', '6', '9', '9', '9', '9']\n"
     ]
    }
   ],
   "source": [
    "p1 = re.compile(\"\\d\")\n",
    "print(p1.findall(text2))"
   ]
  },
  {
   "cell_type": "code",
   "execution_count": 60,
   "id": "0d6ffe50",
   "metadata": {},
   "outputs": [
    {
     "name": "stdout",
     "output_type": "stream",
     "text": [
      "['24', '7', '1860', '893', '3333', '1991', '199', '198', '1800', '889', '9999', '1977', '1800', '890', '1977', '917018899999', '9', '9', '1800', '890', '9999', '24', '7', '1800', '889', '9333', '1800', '889', '9444', '1800', '889', '9555', '24', '7', '1800', '896', '9999']\n"
     ]
    }
   ],
   "source": [
    "p1 = re.compile(\"\\d+\")\n",
    "print(p1.findall(text2))"
   ]
  },
  {
   "cell_type": "code",
   "execution_count": 62,
   "id": "484be97e",
   "metadata": {},
   "outputs": [
    {
     "name": "stdout",
     "output_type": "stream",
     "text": [
      "['JioCare\\n\\nOur experts are available for your assistance ', 'x', ' (Monday - Sunday)\\n\\nInterested in Jio? Talk to us on\\t', '-', '-', '\\nFor recharge plans, data balance, validity, recharge confirmation & offers\\t', '\\nFor Queries\\t', '\\nFor Complaints\\t', '\\nFor Other numbers\\t', '-', '-', '\\nTele-verification to activate both HD voice & data services\\t', '\\nTele-verification to activate data services only\\t', '-', '-', '\\nFor support on International Roaming\\n(accessible only when roaming abroad) +', ' (charges applicable)\\nDevice Care Helpline (JioPhone, LYF Mobile & JioFi)\\n\\nOur experts are available for your assistance on all Days, from ', 'am to ', 'pm\\nFind\\nHelpline ', '-', '-', '\\nJio Enterprise Mobility & Business Solutions\\n\\nOur experts are available for your assistance ', 'x', ' (Monday - Sunday)\\n\\nEnterprise Mobility Services ', '-', '-', '\\nEnterprise Connectivity Services & Business Solutions\\t', '-', '-', '\\nNew Business Connection\\t', '-', '-', '\\nCare Helpline for JioFiber Customers\\n\\nOur experts are available for your assistance ', 'X', ' (Monday – Sunday)\\n\\nHelpline ', '-', '-', '\\nOnline shopping\\n']\n"
     ]
    }
   ],
   "source": [
    "p1 = re.compile(\"\\D+\")\n",
    "print(p1.findall(text2))"
   ]
  },
  {
   "cell_type": "code",
   "execution_count": 63,
   "id": "80fd8097",
   "metadata": {},
   "outputs": [
    {
     "name": "stdout",
     "output_type": "stream",
     "text": [
      "['JioCare', 'Our', 'experts', 'are', 'available', 'for', 'your', 'assistance', '24x7', 'Monday', 'Sunday', 'Interested', 'in', 'Jio', 'Talk', 'to', 'us', 'on', '1860', '893', '3333', 'For', 'recharge', 'plans', 'data', 'balance', 'validity', 'recharge', 'confirmation', 'offers', '1991', 'For', 'Queries', '199', 'For', 'Complaints', '198', 'For', 'Other', 'numbers', '1800', '889', '9999', 'Tele', 'verification', 'to', 'activate', 'both', 'HD', 'voice', 'data', 'services', '1977', 'Tele', 'verification', 'to', 'activate', 'data', 'services', 'only', '1800', '890', '1977', 'For', 'support', 'on', 'International', 'Roaming', 'accessible', 'only', 'when', 'roaming', 'abroad', '917018899999', 'charges', 'applicable', 'Device', 'Care', 'Helpline', 'JioPhone', 'LYF', 'Mobile', 'JioFi', 'Our', 'experts', 'are', 'available', 'for', 'your', 'assistance', 'on', 'all', 'Days', 'from', '9am', 'to', '9pm', 'Find', 'Helpline', '1800', '890', '9999', 'Jio', 'Enterprise', 'Mobility', 'Business', 'Solutions', 'Our', 'experts', 'are', 'available', 'for', 'your', 'assistance', '24x7', 'Monday', 'Sunday', 'Enterprise', 'Mobility', 'Services', '1800', '889', '9333', 'Enterprise', 'Connectivity', 'Services', 'Business', 'Solutions', '1800', '889', '9444', 'New', 'Business', 'Connection', '1800', '889', '9555', 'Care', 'Helpline', 'for', 'JioFiber', 'Customers', 'Our', 'experts', 'are', 'available', 'for', 'your', 'assistance', '24X7', 'Monday', 'Sunday', 'Helpline', '1800', '896', '9999', 'Online', 'shopping']\n"
     ]
    }
   ],
   "source": [
    "p1 = re.compile(\"\\w+\")\n",
    "print(p1.findall(text2))"
   ]
  },
  {
   "cell_type": "code",
   "execution_count": 64,
   "id": "d10c421a",
   "metadata": {},
   "outputs": [
    {
     "name": "stdout",
     "output_type": "stream",
     "text": [
      "['\\n', '\\n', ' ', ' ', ' ', ' ', ' ', ' ', ' ', ' ', '(', ' ', '-', ' ', ')', '\\n', '\\n', ' ', ' ', '?', ' ', ' ', ' ', ' ', '\\t', '-', '-', '\\n', ' ', ' ', ',', ' ', ' ', ',', ' ', ',', ' ', ' ', ' ', '&', ' ', '\\t', '\\n', ' ', '\\t', '\\n', ' ', '\\t', '\\n', ' ', ' ', '\\t', '-', '-', '\\n', '-', ' ', ' ', ' ', ' ', ' ', ' ', '&', ' ', ' ', '\\t', '\\n', '-', ' ', ' ', ' ', ' ', ' ', '\\t', '-', '-', '\\n', ' ', ' ', ' ', ' ', '\\n', '(', ' ', ' ', ' ', ' ', ')', ' ', '+', ' ', '(', ' ', ')', '\\n', ' ', ' ', ' ', '(', ',', ' ', ' ', ' ', '&', ' ', ')', '\\n', '\\n', ' ', ' ', ' ', ' ', ' ', ' ', ' ', ' ', ' ', ',', ' ', ' ', ' ', ' ', '\\n', '\\n', ' ', '-', '-', '\\n', ' ', ' ', ' ', '&', ' ', ' ', '\\n', '\\n', ' ', ' ', ' ', ' ', ' ', ' ', ' ', ' ', '(', ' ', '-', ' ', ')', '\\n', '\\n', ' ', ' ', ' ', '-', '-', '\\n', ' ', ' ', ' ', '&', ' ', ' ', '\\t', '-', '-', '\\n', ' ', ' ', '\\t', '-', '-', '\\n', ' ', ' ', ' ', ' ', '\\n', '\\n', ' ', ' ', ' ', ' ', ' ', ' ', ' ', ' ', '(', ' ', '–', ' ', ')', '\\n', '\\n', ' ', '-', '-', '\\n', ' ', '\\n']\n"
     ]
    }
   ],
   "source": [
    "p1 = re.compile(\"\\W\")\n",
    "print(p1.findall(text2))"
   ]
  },
  {
   "cell_type": "code",
   "execution_count": 65,
   "id": "f908b6ab",
   "metadata": {},
   "outputs": [
    {
     "name": "stdout",
     "output_type": "stream",
     "text": [
      "['\\n', '\\n', ' ', ' ', ' ', ' ', ' ', ' ', ' ', ' ', ' ', ' ', '\\n', '\\n', ' ', ' ', ' ', ' ', ' ', ' ', '\\t', '\\n', ' ', ' ', ' ', ' ', ' ', ' ', ' ', ' ', ' ', '\\t', '\\n', ' ', '\\t', '\\n', ' ', '\\t', '\\n', ' ', ' ', '\\t', '\\n', ' ', ' ', ' ', ' ', ' ', ' ', ' ', ' ', '\\t', '\\n', ' ', ' ', ' ', ' ', ' ', '\\t', '\\n', ' ', ' ', ' ', ' ', '\\n', ' ', ' ', ' ', ' ', ' ', ' ', ' ', '\\n', ' ', ' ', ' ', ' ', ' ', ' ', ' ', '\\n', '\\n', ' ', ' ', ' ', ' ', ' ', ' ', ' ', ' ', ' ', ' ', ' ', ' ', ' ', '\\n', '\\n', ' ', '\\n', ' ', ' ', ' ', ' ', ' ', '\\n', '\\n', ' ', ' ', ' ', ' ', ' ', ' ', ' ', ' ', ' ', ' ', '\\n', '\\n', ' ', ' ', ' ', '\\n', ' ', ' ', ' ', ' ', ' ', '\\t', '\\n', ' ', ' ', '\\t', '\\n', ' ', ' ', ' ', ' ', '\\n', '\\n', ' ', ' ', ' ', ' ', ' ', ' ', ' ', ' ', ' ', ' ', '\\n', '\\n', ' ', '\\n', ' ', '\\n']\n"
     ]
    }
   ],
   "source": [
    "p1 = re.compile(\"\\s\")\n",
    "print(p1.findall(text2))"
   ]
  },
  {
   "cell_type": "code",
   "execution_count": 67,
   "id": "280b6c2d",
   "metadata": {},
   "outputs": [
    {
     "name": "stdout",
     "output_type": "stream",
     "text": [
      "['JioCare', 'Our', 'experts', 'are', 'available', 'for', 'your', 'assistance', '24x7', '(Monday', '-', 'Sunday)', 'Interested', 'in', 'Jio?', 'Talk', 'to', 'us', 'on', '1860-893-3333', 'For', 'recharge', 'plans,', 'data', 'balance,', 'validity,', 'recharge', 'confirmation', '&', 'offers', '1991', 'For', 'Queries', '199', 'For', 'Complaints', '198', 'For', 'Other', 'numbers', '1800-889-9999', 'Tele-verification', 'to', 'activate', 'both', 'HD', 'voice', '&', 'data', 'services', '1977', 'Tele-verification', 'to', 'activate', 'data', 'services', 'only', '1800-890-1977', 'For', 'support', 'on', 'International', 'Roaming', '(accessible', 'only', 'when', 'roaming', 'abroad)', '+917018899999', '(charges', 'applicable)', 'Device', 'Care', 'Helpline', '(JioPhone,', 'LYF', 'Mobile', '&', 'JioFi)', 'Our', 'experts', 'are', 'available', 'for', 'your', 'assistance', 'on', 'all', 'Days,', 'from', '9am', 'to', '9pm', 'Find', 'Helpline', '1800-890-9999', 'Jio', 'Enterprise', 'Mobility', '&', 'Business', 'Solutions', 'Our', 'experts', 'are', 'available', 'for', 'your', 'assistance', '24x7', '(Monday', '-', 'Sunday)', 'Enterprise', 'Mobility', 'Services', '1800-889-9333', 'Enterprise', 'Connectivity', 'Services', '&', 'Business', 'Solutions', '1800-889-9444', 'New', 'Business', 'Connection', '1800-889-9555', 'Care', 'Helpline', 'for', 'JioFiber', 'Customers', 'Our', 'experts', 'are', 'available', 'for', 'your', 'assistance', '24X7', '(Monday', '–', 'Sunday)', 'Helpline', '1800-896-9999', 'Online', 'shopping']\n"
     ]
    }
   ],
   "source": [
    "p1 = re.compile(\"\\S+\")\n",
    "print(p1.findall(text2))"
   ]
  },
  {
   "cell_type": "markdown",
   "id": "fd56433a",
   "metadata": {},
   "source": [
    "##### Matching a set of chararcters using []"
   ]
  },
  {
   "cell_type": "code",
   "execution_count": 72,
   "id": "42a57e07",
   "metadata": {},
   "outputs": [
    {
     "data": {
      "text/plain": [
       "'JioCare Our experts are available for your assistance 24x7 Monday Sunday Interested in Jio Talk to us on 1860 893 3333 For recharge plans data balance validity recharge confirmation offers 1991 For Queries 199 For Complaints 198 For Other numbers 1800 889 9999 Tele verification to activate both HD voice data services 1977 Tele verification to activate data services only 1800 890 1977 For support on International Roaming accessible only when roaming abroad 917018899999 charges applicable Device Care Helpline JioPhone LYF Mobile JioFi Our experts are available for your assistance on all Days from 9am to 9pm Find Helpline 1800 890 9999 Jio Enterprise Mobility Business Solutions Our experts are available for your assistance 24x7 Monday Sunday Enterprise Mobility Services 1800 889 9333 Enterprise Connectivity Services Business Solutions 1800 889 9444 New Business Connection 1800 889 9555 Care Helpline for JioFiber Customers Our experts are available for your assistance 24X7 Monday Sunday Helpline 1800 896 9999 Online shopping'"
      ]
     },
     "execution_count": 72,
     "metadata": {},
     "output_type": "execute_result"
    }
   ],
   "source": [
    "regx = re.compile('[a-zA-Z0-9]+')\n",
    "sent = \" \".join(regx.findall(text2))\n",
    "sent"
   ]
  },
  {
   "cell_type": "code",
   "execution_count": 74,
   "id": "efb5916f",
   "metadata": {},
   "outputs": [
    {
     "name": "stdout",
     "output_type": "stream",
     "text": [
      "['3333\\nFor', '1991\\nFor', '199\\nFor', '198\\nFor', '9999\\nTele', '1977\\nTele', '1977\\nFor', '9999\\nJio', '9333\\nEnterprise', '9444\\nNew', '9555\\nCare', '9999\\nOnline']\n"
     ]
    }
   ],
   "source": [
    "regx = re.compile('\\d+\\s\\w+')\n",
    "print(regx.findall(text2))"
   ]
  },
  {
   "cell_type": "code",
   "execution_count": 75,
   "id": "52a2f26a",
   "metadata": {},
   "outputs": [
    {
     "name": "stdout",
     "output_type": "stream",
     "text": [
      "['\\t1991\\nFor ', '\\t199\\nFor ', '\\t198\\nFor ']\n"
     ]
    }
   ],
   "source": [
    "p1 = re.compile(\"\\s\\d+\\s\\w+\\s\")\n",
    "print(p1.findall(text2))"
   ]
  },
  {
   "cell_type": "markdown",
   "id": "b855bd6a",
   "metadata": {},
   "source": [
    "#### Example"
   ]
  },
  {
   "cell_type": "code",
   "execution_count": 88,
   "id": "303bdf99",
   "metadata": {},
   "outputs": [],
   "source": [
    "text5 = \"ioPhone LYF Mobile JioFi Our experts are available for your assistance on all Days from 9 am to 9 pm \""
   ]
  },
  {
   "cell_type": "code",
   "execution_count": 89,
   "id": "55e2bd30",
   "metadata": {},
   "outputs": [
    {
     "name": "stdout",
     "output_type": "stream",
     "text": [
      "['9 am', '9 pm']\n"
     ]
    }
   ],
   "source": [
    "p1 = re.compile(\"\\d{1,2}\\s\\w+\")\n",
    "print(p1.findall(text5))"
   ]
  },
  {
   "cell_type": "code",
   "execution_count": 96,
   "id": "0dd2ae21",
   "metadata": {},
   "outputs": [
    {
     "name": "stdout",
     "output_type": "stream",
     "text": [
      "['9 am', '9 pm']\n"
     ]
    }
   ],
   "source": [
    "p1 = re.compile(r\"\\b\\d{1,2}\\s\\w+\\b\")\n",
    "print(p1.findall(text5))"
   ]
  },
  {
   "cell_type": "markdown",
   "id": "5c677299",
   "metadata": {},
   "source": [
    "#### Example"
   ]
  },
  {
   "cell_type": "code",
   "execution_count": 97,
   "id": "784099ec",
   "metadata": {},
   "outputs": [
    {
     "data": {
      "text/plain": [
       "['assistance',\n",
       " 'Interested',\n",
       " 'confirmati',\n",
       " 'Complaints',\n",
       " 'verificati',\n",
       " 'verificati',\n",
       " 'Internatio',\n",
       " 'accessible',\n",
       " '9170188999',\n",
       " 'applicable',\n",
       " 'assistance',\n",
       " 'Enterprise',\n",
       " 'assistance',\n",
       " 'Enterprise',\n",
       " 'Enterprise',\n",
       " 'Connectivi',\n",
       " 'Connection',\n",
       " 'assistance']"
      ]
     },
     "execution_count": 97,
     "metadata": {},
     "output_type": "execute_result"
    }
   ],
   "source": [
    "regx = re.compile('[a-zA-Z0-9]{10}')\n",
    "regx.findall(text2)"
   ]
  },
  {
   "cell_type": "code",
   "execution_count": 95,
   "id": "3775559d",
   "metadata": {},
   "outputs": [
    {
     "data": {
      "text/plain": [
       "['assistance',\n",
       " 'Interested',\n",
       " 'Complaints',\n",
       " 'accessible',\n",
       " 'applicable',\n",
       " 'assistance',\n",
       " 'Enterprise',\n",
       " 'assistance',\n",
       " 'Enterprise',\n",
       " 'Enterprise',\n",
       " 'Connection',\n",
       " 'assistance']"
      ]
     },
     "execution_count": 95,
     "metadata": {},
     "output_type": "execute_result"
    }
   ],
   "source": [
    "regx = re.compile(r'\\b[a-zA-Z]{10}\\b')\n",
    "regx.findall(text2)"
   ]
  },
  {
   "cell_type": "markdown",
   "id": "4b892c00",
   "metadata": {},
   "source": [
    "##### ^ (Beginning) and $ (End)"
   ]
  },
  {
   "cell_type": "code",
   "execution_count": 98,
   "id": "524891cd",
   "metadata": {},
   "outputs": [
    {
     "data": {
      "text/plain": [
       "'JioCare\\n\\nOur experts are available for your assistance 24x7 (Monday - Sunday)\\n\\nInterested in Jio? Talk to us on\\t1860-893-3333\\nFor recharge plans, data balance, validity, recharge confirmation & offers\\t1991\\nFor Queries\\t199\\nFor Complaints\\t198\\nFor Other numbers\\t1800-889-9999\\nTele-verification to activate both HD voice & data services\\t1977\\nTele-verification to activate data services only\\t1800-890-1977\\nFor support on International Roaming\\n(accessible only when roaming abroad) +917018899999 (charges applicable)\\nDevice Care Helpline (JioPhone, LYF Mobile & JioFi)\\n\\nOur experts are available for your assistance on all Days, from 9am to 9pm\\nFind\\nHelpline 1800-890-9999\\nJio Enterprise Mobility & Business Solutions\\n\\nOur experts are available for your assistance 24x7 (Monday - Sunday)\\n\\nEnterprise Mobility Services 1800-889-9333\\nEnterprise Connectivity Services & Business Solutions\\t1800-889-9444\\nNew Business Connection\\t1800-889-9555\\nCare Helpline for JioFiber Customers\\n\\nOur experts are available for your assistance 24X7 (Monday – Sunday)\\n\\nHelpline 1800-896-9999\\nOnline shopping\\n'"
      ]
     },
     "execution_count": 98,
     "metadata": {},
     "output_type": "execute_result"
    }
   ],
   "source": [
    "text2"
   ]
  },
  {
   "cell_type": "code",
   "execution_count": 99,
   "id": "f8ee99f9",
   "metadata": {},
   "outputs": [
    {
     "data": {
      "text/plain": [
       "['JioCare']"
      ]
     },
     "execution_count": 99,
     "metadata": {},
     "output_type": "execute_result"
    }
   ],
   "source": [
    "myreqgx = re.compile(\"^\\w+\")\n",
    "\n",
    "myreqgx.findall(text2)"
   ]
  },
  {
   "cell_type": "code",
   "execution_count": 100,
   "id": "2c41f237",
   "metadata": {},
   "outputs": [
    {
     "data": {
      "text/plain": [
       "['shopping']"
      ]
     },
     "execution_count": 100,
     "metadata": {},
     "output_type": "execute_result"
    }
   ],
   "source": [
    "myreqgx = re.compile(\"\\w+$\")\n",
    "\n",
    "myreqgx.findall(text2)"
   ]
  },
  {
   "cell_type": "markdown",
   "id": "1a821e6e",
   "metadata": {},
   "source": [
    "##### Wildcard (.)"
   ]
  },
  {
   "cell_type": "code",
   "execution_count": 103,
   "id": "9911351a",
   "metadata": {},
   "outputs": [
    {
     "data": {
      "text/plain": [
       "['Monday', 'Sunday', 'Monday', 'Sunday', 'Monday', 'Sunday']"
      ]
     },
     "execution_count": 103,
     "metadata": {},
     "output_type": "execute_result"
    }
   ],
   "source": [
    "regx = re.compile(\"...day\")\n",
    "regx.findall(text2)"
   ]
  },
  {
   "cell_type": "code",
   "execution_count": 104,
   "id": "2264348a",
   "metadata": {},
   "outputs": [
    {
     "data": {
      "text/plain": [
       "['Monday', 'Sunday', 'Monday', 'Sunday', 'Monday', 'Sunday']"
      ]
     },
     "execution_count": 104,
     "metadata": {},
     "output_type": "execute_result"
    }
   ],
   "source": [
    "regx = re.compile(\".{3}day\")\n",
    "regx.findall(text2)"
   ]
  },
  {
   "cell_type": "markdown",
   "id": "9d99dce5",
   "metadata": {},
   "source": [
    "## Sub - re"
   ]
  },
  {
   "cell_type": "code",
   "execution_count": 112,
   "id": "11104a9f",
   "metadata": {},
   "outputs": [
    {
     "name": "stdout",
     "output_type": "stream",
     "text": [
      "['2', '4', '7', '1', '8', '6', '0', '8', '9', '3', '3', '3', '3', '3', '1', '9', '9', '1', '1', '9', '9', '1', '9', '8', '1', '8', '0', '0', '8', '8', '9', '9', '9', '9', '9', '1', '9', '7', '7', '1', '8', '0', '0', '8', '9', '0', '1', '9', '7', '7', '9', '1', '7', '0', '1', '8', '8', '9', '9', '9', '9', '9', '9', '9', '1', '8', '0', '0', '8', '9', '0', '9', '9', '9', '9', '2', '4', '7', '1', '8', '0', '0', '8', '8', '9', '9', '3', '3', '3', '1', '8', '0', '0', '8', '8', '9', '9', '4', '4', '4', '1', '8', '0', '0', '8', '8', '9', '9', '5', '5', '5', '2', '4', '7', '1', '8', '0', '0', '8', '9', '6', '9', '9', '9', '9']\n"
     ]
    }
   ],
   "source": [
    "myregex = re.compile('\\d')\n",
    "print(myregex.findall(text2))"
   ]
  },
  {
   "cell_type": "code",
   "execution_count": 113,
   "id": "007694b6",
   "metadata": {},
   "outputs": [
    {
     "data": {
      "text/plain": [
       "'JioCare\\n\\nOur experts are available for your assistance 24x7 (Monday - Sunday)\\n\\nInterested in Jio? Talk to us on\\t1860-893-3333\\nFor recharge plans, data balance, validity, recharge confirmation & offers\\t1991\\nFor Queries\\t199\\nFor Complaints\\t198\\nFor Other numbers\\t1800-889-9999\\nTele-verification to activate both HD voice & data services\\t1977\\nTele-verification to activate data services only\\t1800-890-1977\\nFor support on International Roaming\\n(accessible only when roaming abroad) +917018899999 (charges applicable)\\nDevice Care Helpline (JioPhone, LYF Mobile & JioFi)\\n\\nOur experts are available for your assistance on all Days, from 9am to 9pm\\nFind\\nHelpline 1800-890-9999\\nJio Enterprise Mobility & Business Solutions\\n\\nOur experts are available for your assistance 24x7 (Monday - Sunday)\\n\\nEnterprise Mobility Services 1800-889-9333\\nEnterprise Connectivity Services & Business Solutions\\t1800-889-9444\\nNew Business Connection\\t1800-889-9555\\nCare Helpline for JioFiber Customers\\n\\nOur experts are available for your assistance 24X7 (Monday – Sunday)\\n\\nHelpline 1800-896-9999\\nOnline shopping\\n'"
      ]
     },
     "execution_count": 113,
     "metadata": {},
     "output_type": "execute_result"
    }
   ],
   "source": [
    "text2"
   ]
  },
  {
   "cell_type": "code",
   "execution_count": 114,
   "id": "1134a911",
   "metadata": {},
   "outputs": [
    {
     "data": {
      "text/plain": [
       "'JioCare\\n\\nOur experts are available for your assistance **x* (Monday - Sunday)\\n\\nInterested in Jio? Talk to us on\\t****-***-****\\nFor recharge plans, data balance, validity, recharge confirmation & offers\\t****\\nFor Queries\\t***\\nFor Complaints\\t***\\nFor Other numbers\\t****-***-****\\nTele-verification to activate both HD voice & data services\\t****\\nTele-verification to activate data services only\\t****-***-****\\nFor support on International Roaming\\n(accessible only when roaming abroad) +************ (charges applicable)\\nDevice Care Helpline (JioPhone, LYF Mobile & JioFi)\\n\\nOur experts are available for your assistance on all Days, from *am to *pm\\nFind\\nHelpline ****-***-****\\nJio Enterprise Mobility & Business Solutions\\n\\nOur experts are available for your assistance **x* (Monday - Sunday)\\n\\nEnterprise Mobility Services ****-***-****\\nEnterprise Connectivity Services & Business Solutions\\t****-***-****\\nNew Business Connection\\t****-***-****\\nCare Helpline for JioFiber Customers\\n\\nOur experts are available for your assistance **X* (Monday – Sunday)\\n\\nHelpline ****-***-****\\nOnline shopping\\n'"
      ]
     },
     "execution_count": 114,
     "metadata": {},
     "output_type": "execute_result"
    }
   ],
   "source": [
    "myregex.sub(\"*\",text2)"
   ]
  },
  {
   "cell_type": "markdown",
   "id": "f7efcc3a",
   "metadata": {},
   "source": [
    "##### A quick summary:\n",
    "Major functions that are avaialble in re:\n",
    "* Compile - Returns a RegEx pattern object.\n",
    "* Search - Returns a match object if there is a match found.\n",
    "* findall - Returns a list of all matches.\n",
    "* sub - Replaces one or more matches within the text.\n",
    "* split - Returns a list where the text has been split at every match.\n",
    "* Braces - (), {}, []\n",
    "* Special characters - |, ?, *, +, ^, $, .\n",
    "* Character classes\n",
    "* \\d - Any numeric digit from 0 to 9.\n",
    "* \\D - Any character that is not a numeric digit (from 0 to 9).\n",
    "* \\w - Any character which is an alphabet or numeric digit or underscore (_).\n",
    "* \\W - Any character which is not an alphabet or numeric digit or underscore (_).\n",
    "* \\s - Any space or tab space or newline.\n",
    "* \\S - Any character which is not a space or tab space or newline.\n",
    "* \\b - Word boundary. This matches the beginning and end of a word.\n",
    "\n",
    "* reference  https://regex101.com/\n",
    "* reference  https://regexone.com/"
   ]
  },
  {
   "cell_type": "code",
   "execution_count": 131,
   "id": "95c9937e",
   "metadata": {},
   "outputs": [],
   "source": [
    "a = \"mail id  xxx@com  xxqwex124@com\""
   ]
  },
  {
   "cell_type": "code",
   "execution_count": 132,
   "id": "af7cf092",
   "metadata": {},
   "outputs": [
    {
     "data": {
      "text/plain": [
       "['xxx@com', 'xxqwex124@com']"
      ]
     },
     "execution_count": 132,
     "metadata": {},
     "output_type": "execute_result"
    }
   ],
   "source": [
    "myreqgx = re.compile(\"[a-zA-z0-9]+@com\")\n",
    "myreqgx.findall(a)"
   ]
  },
  {
   "cell_type": "code",
   "execution_count": 133,
   "id": "d924bc12",
   "metadata": {},
   "outputs": [
    {
     "data": {
      "text/plain": [
       "['@com', '@com']"
      ]
     },
     "execution_count": 133,
     "metadata": {},
     "output_type": "execute_result"
    }
   ],
   "source": [
    "myreqgx = re.compile(\"@[a-zA-z]+\")\n",
    "myreqgx.findall(a)"
   ]
  },
  {
   "cell_type": "code",
   "execution_count": 134,
   "id": "40fb4f66",
   "metadata": {},
   "outputs": [
    {
     "data": {
      "text/plain": [
       "['2020-01-25']"
      ]
     },
     "execution_count": 134,
     "metadata": {},
     "output_type": "execute_result"
    }
   ],
   "source": [
    "a = \"2020-01-25 04:05pm is the time patter\"\n",
    "myreqgx = re.compile(\"\\d{4}-\\d{2}-\\d{2}\")\n",
    "myreqgx.findall(a)"
   ]
  },
  {
   "cell_type": "code",
   "execution_count": null,
   "id": "1b8b59bf",
   "metadata": {},
   "outputs": [],
   "source": []
  }
 ],
 "metadata": {
  "kernelspec": {
   "display_name": "Python 3",
   "language": "python",
   "name": "python3"
  },
  "language_info": {
   "codemirror_mode": {
    "name": "ipython",
    "version": 3
   },
   "file_extension": ".py",
   "mimetype": "text/x-python",
   "name": "python",
   "nbconvert_exporter": "python",
   "pygments_lexer": "ipython3",
   "version": "3.8.8"
  }
 },
 "nbformat": 4,
 "nbformat_minor": 5
}
