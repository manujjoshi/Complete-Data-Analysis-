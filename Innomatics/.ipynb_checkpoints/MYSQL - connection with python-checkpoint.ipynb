{
 "cells": [
  {
   "cell_type": "markdown",
   "id": "1e291277",
   "metadata": {},
   "source": [
    "# `MYSQL - Connection with python (Pandas & vanilla python)`"
   ]
  },
  {
   "cell_type": "code",
   "execution_count": 3,
   "id": "cadb5b89",
   "metadata": {},
   "outputs": [
    {
     "name": "stdout",
     "output_type": "stream",
     "text": [
      "Collecting mysql-connector-python\n",
      "  Downloading mysql_connector_python-8.0.28-cp39-cp39-win_amd64.whl (7.2 MB)\n",
      "Requirement already satisfied: protobuf>=3.0.0 in c:\\users\\manuj\\anaconda3\\lib\\site-packages (from mysql-connector-python) (3.19.3)\n",
      "Installing collected packages: mysql-connector-python\n",
      "Successfully installed mysql-connector-python-8.0.28\n"
     ]
    }
   ],
   "source": [
    "!pip install mysql-connector-python   # installing mysql connector"
   ]
  },
  {
   "cell_type": "code",
   "execution_count": 4,
   "id": "2a7722f0",
   "metadata": {},
   "outputs": [],
   "source": [
    "import mysql.connector\n",
    "import pandas as pd"
   ]
  },
  {
   "cell_type": "code",
   "execution_count": 8,
   "id": "7798667a",
   "metadata": {},
   "outputs": [
    {
     "data": {
      "text/plain": [
       "{'host': '127.0.0.1',\n",
       " 'user': 'root',\n",
       " 'password': 'root',\n",
       " 'database': 'company'}"
      ]
     },
     "execution_count": 8,
     "metadata": {},
     "output_type": "execute_result"
    }
   ],
   "source": [
    "mysql_db_Config = {\n",
    "    \"host\":\"127.0.0.1\",\n",
    "    \"user\":\"root\",\n",
    "    \"password\":\"root\",\n",
    "    \"database\":\"company\"\n",
    "}\n",
    "mysql_db_Config"
   ]
  },
  {
   "cell_type": "code",
   "execution_count": 9,
   "id": "6525d13c",
   "metadata": {},
   "outputs": [],
   "source": [
    "mysqldb = mysql.connector.connect(**mysql_db_Config)"
   ]
  },
  {
   "cell_type": "code",
   "execution_count": 10,
   "id": "2f355e44",
   "metadata": {},
   "outputs": [],
   "source": [
    "sql = \"\"\"\n",
    "select \n",
    "\tdep.dept_name,\n",
    "    count(1) as number_of_emp,\n",
    "\tmin(salary) as min_salary,\n",
    "    avg(salary) as avg_salary,\n",
    "    max(salary) as max_salary\n",
    "from \n",
    "\tsalaries as sal\n",
    "join \n",
    "\tdept_emp as dept\n",
    "on \n",
    "\tsal.emp_no = dept.emp_no\n",
    "join \n",
    "\tdepartments as dep\n",
    "on \n",
    "\tdept.dept_no = dep.dept_no\n",
    "group by dep.dept_name;\n",
    "\"\"\""
   ]
  },
  {
   "cell_type": "code",
   "execution_count": 11,
   "id": "378f3354",
   "metadata": {},
   "outputs": [
    {
     "ename": "DatabaseError",
     "evalue": "Execution failed on sql '\nselect \n\tdep.dept_name,\n    count(1) as number_of_emp,\n\tmin(salary) as min_salary,\n    avg(salary) as avg_salary,\n    max(salary) as max_salary\nfrom \n\tsalaries as sal\njoin \n\tdept_emp as dept\non \n\tsal.emp_no = dept.emp_no\njoin \n\tdepartments as dep\non \n\tdept.dept_no = dep.dept_no\ngroup by dep.dept_name;\n': 1146 (42S02): Table 'company.salaries' doesn't exist",
     "output_type": "error",
     "traceback": [
      "\u001b[1;31m---------------------------------------------------------------------------\u001b[0m",
      "\u001b[1;31mMySQLInterfaceError\u001b[0m                       Traceback (most recent call last)",
      "\u001b[1;32m~\\Anaconda3\\lib\\site-packages\\mysql\\connector\\connection_cext.py\u001b[0m in \u001b[0;36mcmd_query\u001b[1;34m(self, query, raw, buffered, raw_as_string)\u001b[0m\n\u001b[0;32m    522\u001b[0m                 \u001b[0mquery\u001b[0m \u001b[1;33m=\u001b[0m \u001b[0mquery\u001b[0m\u001b[1;33m.\u001b[0m\u001b[0mencode\u001b[0m\u001b[1;33m(\u001b[0m\u001b[1;34m'utf-8'\u001b[0m\u001b[1;33m)\u001b[0m\u001b[1;33m\u001b[0m\u001b[1;33m\u001b[0m\u001b[0m\n\u001b[1;32m--> 523\u001b[1;33m             self._cmysql.query(query,\n\u001b[0m\u001b[0;32m    524\u001b[0m                                \u001b[0mraw\u001b[0m\u001b[1;33m=\u001b[0m\u001b[0mraw\u001b[0m\u001b[1;33m,\u001b[0m \u001b[0mbuffered\u001b[0m\u001b[1;33m=\u001b[0m\u001b[0mbuffered\u001b[0m\u001b[1;33m,\u001b[0m\u001b[1;33m\u001b[0m\u001b[1;33m\u001b[0m\u001b[0m\n",
      "\u001b[1;31mMySQLInterfaceError\u001b[0m: Table 'company.salaries' doesn't exist",
      "\nDuring handling of the above exception, another exception occurred:\n",
      "\u001b[1;31mProgrammingError\u001b[0m                          Traceback (most recent call last)",
      "\u001b[1;32m~\\Anaconda3\\lib\\site-packages\\pandas\\io\\sql.py\u001b[0m in \u001b[0;36mexecute\u001b[1;34m(self, *args, **kwargs)\u001b[0m\n\u001b[0;32m   2055\u001b[0m         \u001b[1;32mtry\u001b[0m\u001b[1;33m:\u001b[0m\u001b[1;33m\u001b[0m\u001b[1;33m\u001b[0m\u001b[0m\n\u001b[1;32m-> 2056\u001b[1;33m             \u001b[0mcur\u001b[0m\u001b[1;33m.\u001b[0m\u001b[0mexecute\u001b[0m\u001b[1;33m(\u001b[0m\u001b[1;33m*\u001b[0m\u001b[0margs\u001b[0m\u001b[1;33m,\u001b[0m \u001b[1;33m**\u001b[0m\u001b[0mkwargs\u001b[0m\u001b[1;33m)\u001b[0m\u001b[1;33m\u001b[0m\u001b[1;33m\u001b[0m\u001b[0m\n\u001b[0m\u001b[0;32m   2057\u001b[0m             \u001b[1;32mreturn\u001b[0m \u001b[0mcur\u001b[0m\u001b[1;33m\u001b[0m\u001b[1;33m\u001b[0m\u001b[0m\n",
      "\u001b[1;32m~\\Anaconda3\\lib\\site-packages\\mysql\\connector\\cursor_cext.py\u001b[0m in \u001b[0;36mexecute\u001b[1;34m(self, operation, params, multi)\u001b[0m\n\u001b[0;32m    268\u001b[0m         \u001b[1;32mtry\u001b[0m\u001b[1;33m:\u001b[0m\u001b[1;33m\u001b[0m\u001b[1;33m\u001b[0m\u001b[0m\n\u001b[1;32m--> 269\u001b[1;33m             result = self._cnx.cmd_query(stmt, raw=self._raw,\n\u001b[0m\u001b[0;32m    270\u001b[0m                                          \u001b[0mbuffered\u001b[0m\u001b[1;33m=\u001b[0m\u001b[0mself\u001b[0m\u001b[1;33m.\u001b[0m\u001b[0m_buffered\u001b[0m\u001b[1;33m,\u001b[0m\u001b[1;33m\u001b[0m\u001b[1;33m\u001b[0m\u001b[0m\n",
      "\u001b[1;32m~\\Anaconda3\\lib\\site-packages\\mysql\\connector\\connection_cext.py\u001b[0m in \u001b[0;36mcmd_query\u001b[1;34m(self, query, raw, buffered, raw_as_string)\u001b[0m\n\u001b[0;32m    527\u001b[0m         \u001b[1;32mexcept\u001b[0m \u001b[0mMySQLInterfaceError\u001b[0m \u001b[1;32mas\u001b[0m \u001b[0mexc\u001b[0m\u001b[1;33m:\u001b[0m\u001b[1;33m\u001b[0m\u001b[1;33m\u001b[0m\u001b[0m\n\u001b[1;32m--> 528\u001b[1;33m             raise errors.get_mysql_exception(exc.errno, msg=exc.msg,\n\u001b[0m\u001b[0;32m    529\u001b[0m                                              sqlstate=exc.sqlstate)\n",
      "\u001b[1;31mProgrammingError\u001b[0m: 1146 (42S02): Table 'company.salaries' doesn't exist",
      "\nThe above exception was the direct cause of the following exception:\n",
      "\u001b[1;31mDatabaseError\u001b[0m                             Traceback (most recent call last)",
      "\u001b[1;32m~\\AppData\\Local\\Temp/ipykernel_18008/4201155705.py\u001b[0m in \u001b[0;36m<module>\u001b[1;34m\u001b[0m\n\u001b[1;32m----> 1\u001b[1;33m \u001b[0mdata\u001b[0m \u001b[1;33m=\u001b[0m \u001b[0mpd\u001b[0m\u001b[1;33m.\u001b[0m\u001b[0mread_sql\u001b[0m\u001b[1;33m(\u001b[0m\u001b[0msql\u001b[0m\u001b[1;33m,\u001b[0m\u001b[0mmysqldb\u001b[0m\u001b[1;33m)\u001b[0m\u001b[1;33m\u001b[0m\u001b[1;33m\u001b[0m\u001b[0m\n\u001b[0m",
      "\u001b[1;32m~\\Anaconda3\\lib\\site-packages\\pandas\\io\\sql.py\u001b[0m in \u001b[0;36mread_sql\u001b[1;34m(sql, con, index_col, coerce_float, params, parse_dates, columns, chunksize)\u001b[0m\n\u001b[0;32m    600\u001b[0m \u001b[1;33m\u001b[0m\u001b[0m\n\u001b[0;32m    601\u001b[0m     \u001b[1;32mif\u001b[0m \u001b[0misinstance\u001b[0m\u001b[1;33m(\u001b[0m\u001b[0mpandas_sql\u001b[0m\u001b[1;33m,\u001b[0m \u001b[0mSQLiteDatabase\u001b[0m\u001b[1;33m)\u001b[0m\u001b[1;33m:\u001b[0m\u001b[1;33m\u001b[0m\u001b[1;33m\u001b[0m\u001b[0m\n\u001b[1;32m--> 602\u001b[1;33m         return pandas_sql.read_query(\n\u001b[0m\u001b[0;32m    603\u001b[0m             \u001b[0msql\u001b[0m\u001b[1;33m,\u001b[0m\u001b[1;33m\u001b[0m\u001b[1;33m\u001b[0m\u001b[0m\n\u001b[0;32m    604\u001b[0m             \u001b[0mindex_col\u001b[0m\u001b[1;33m=\u001b[0m\u001b[0mindex_col\u001b[0m\u001b[1;33m,\u001b[0m\u001b[1;33m\u001b[0m\u001b[1;33m\u001b[0m\u001b[0m\n",
      "\u001b[1;32m~\\Anaconda3\\lib\\site-packages\\pandas\\io\\sql.py\u001b[0m in \u001b[0;36mread_query\u001b[1;34m(self, sql, index_col, coerce_float, params, parse_dates, chunksize, dtype)\u001b[0m\n\u001b[0;32m   2114\u001b[0m \u001b[1;33m\u001b[0m\u001b[0m\n\u001b[0;32m   2115\u001b[0m         \u001b[0margs\u001b[0m \u001b[1;33m=\u001b[0m \u001b[0m_convert_params\u001b[0m\u001b[1;33m(\u001b[0m\u001b[0msql\u001b[0m\u001b[1;33m,\u001b[0m \u001b[0mparams\u001b[0m\u001b[1;33m)\u001b[0m\u001b[1;33m\u001b[0m\u001b[1;33m\u001b[0m\u001b[0m\n\u001b[1;32m-> 2116\u001b[1;33m         \u001b[0mcursor\u001b[0m \u001b[1;33m=\u001b[0m \u001b[0mself\u001b[0m\u001b[1;33m.\u001b[0m\u001b[0mexecute\u001b[0m\u001b[1;33m(\u001b[0m\u001b[1;33m*\u001b[0m\u001b[0margs\u001b[0m\u001b[1;33m)\u001b[0m\u001b[1;33m\u001b[0m\u001b[1;33m\u001b[0m\u001b[0m\n\u001b[0m\u001b[0;32m   2117\u001b[0m         \u001b[0mcolumns\u001b[0m \u001b[1;33m=\u001b[0m \u001b[1;33m[\u001b[0m\u001b[0mcol_desc\u001b[0m\u001b[1;33m[\u001b[0m\u001b[1;36m0\u001b[0m\u001b[1;33m]\u001b[0m \u001b[1;32mfor\u001b[0m \u001b[0mcol_desc\u001b[0m \u001b[1;32min\u001b[0m \u001b[0mcursor\u001b[0m\u001b[1;33m.\u001b[0m\u001b[0mdescription\u001b[0m\u001b[1;33m]\u001b[0m\u001b[1;33m\u001b[0m\u001b[1;33m\u001b[0m\u001b[0m\n\u001b[0;32m   2118\u001b[0m \u001b[1;33m\u001b[0m\u001b[0m\n",
      "\u001b[1;32m~\\Anaconda3\\lib\\site-packages\\pandas\\io\\sql.py\u001b[0m in \u001b[0;36mexecute\u001b[1;34m(self, *args, **kwargs)\u001b[0m\n\u001b[0;32m   2066\u001b[0m \u001b[1;33m\u001b[0m\u001b[0m\n\u001b[0;32m   2067\u001b[0m             \u001b[0mex\u001b[0m \u001b[1;33m=\u001b[0m \u001b[0mDatabaseError\u001b[0m\u001b[1;33m(\u001b[0m\u001b[1;34mf\"Execution failed on sql '{args[0]}': {exc}\"\u001b[0m\u001b[1;33m)\u001b[0m\u001b[1;33m\u001b[0m\u001b[1;33m\u001b[0m\u001b[0m\n\u001b[1;32m-> 2068\u001b[1;33m             \u001b[1;32mraise\u001b[0m \u001b[0mex\u001b[0m \u001b[1;32mfrom\u001b[0m \u001b[0mexc\u001b[0m\u001b[1;33m\u001b[0m\u001b[1;33m\u001b[0m\u001b[0m\n\u001b[0m\u001b[0;32m   2069\u001b[0m \u001b[1;33m\u001b[0m\u001b[0m\n\u001b[0;32m   2070\u001b[0m     \u001b[1;33m@\u001b[0m\u001b[0mstaticmethod\u001b[0m\u001b[1;33m\u001b[0m\u001b[1;33m\u001b[0m\u001b[0m\n",
      "\u001b[1;31mDatabaseError\u001b[0m: Execution failed on sql '\nselect \n\tdep.dept_name,\n    count(1) as number_of_emp,\n\tmin(salary) as min_salary,\n    avg(salary) as avg_salary,\n    max(salary) as max_salary\nfrom \n\tsalaries as sal\njoin \n\tdept_emp as dept\non \n\tsal.emp_no = dept.emp_no\njoin \n\tdepartments as dep\non \n\tdept.dept_no = dep.dept_no\ngroup by dep.dept_name;\n': 1146 (42S02): Table 'company.salaries' doesn't exist"
     ]
    }
   ],
   "source": [
    "data = pd.read_sql(sql,mysqldb)"
   ]
  },
  {
   "cell_type": "code",
   "execution_count": 48,
   "id": "4fbbad2f",
   "metadata": {},
   "outputs": [
    {
     "data": {
      "text/html": [
       "<div>\n",
       "<style scoped>\n",
       "    .dataframe tbody tr th:only-of-type {\n",
       "        vertical-align: middle;\n",
       "    }\n",
       "\n",
       "    .dataframe tbody tr th {\n",
       "        vertical-align: top;\n",
       "    }\n",
       "\n",
       "    .dataframe thead th {\n",
       "        text-align: right;\n",
       "    }\n",
       "</style>\n",
       "<table border=\"1\" class=\"dataframe\">\n",
       "  <thead>\n",
       "    <tr style=\"text-align: right;\">\n",
       "      <th></th>\n",
       "      <th>dept_name</th>\n",
       "      <th>number_of_emp</th>\n",
       "      <th>min_salary</th>\n",
       "      <th>avg_salary</th>\n",
       "      <th>max_salary</th>\n",
       "    </tr>\n",
       "  </thead>\n",
       "  <tbody>\n",
       "    <tr>\n",
       "      <th>0</th>\n",
       "      <td>Marketing</td>\n",
       "      <td>190861</td>\n",
       "      <td>39127</td>\n",
       "      <td>71913.2000</td>\n",
       "      <td>145128</td>\n",
       "    </tr>\n",
       "    <tr>\n",
       "      <th>1</th>\n",
       "      <td>Finance</td>\n",
       "      <td>165285</td>\n",
       "      <td>38812</td>\n",
       "      <td>70489.3649</td>\n",
       "      <td>142395</td>\n",
       "    </tr>\n",
       "    <tr>\n",
       "      <th>2</th>\n",
       "      <td>Human Resources</td>\n",
       "      <td>168490</td>\n",
       "      <td>38735</td>\n",
       "      <td>55574.8794</td>\n",
       "      <td>141953</td>\n",
       "    </tr>\n",
       "    <tr>\n",
       "      <th>3</th>\n",
       "      <td>Production</td>\n",
       "      <td>697158</td>\n",
       "      <td>38623</td>\n",
       "      <td>59605.4825</td>\n",
       "      <td>138273</td>\n",
       "    </tr>\n",
       "    <tr>\n",
       "      <th>4</th>\n",
       "      <td>Development</td>\n",
       "      <td>810026</td>\n",
       "      <td>38849</td>\n",
       "      <td>59478.9012</td>\n",
       "      <td>144434</td>\n",
       "    </tr>\n",
       "    <tr>\n",
       "      <th>5</th>\n",
       "      <td>Quality Management</td>\n",
       "      <td>189781</td>\n",
       "      <td>38786</td>\n",
       "      <td>57251.2719</td>\n",
       "      <td>132103</td>\n",
       "    </tr>\n",
       "    <tr>\n",
       "      <th>6</th>\n",
       "      <td>Sales</td>\n",
       "      <td>496235</td>\n",
       "      <td>39169</td>\n",
       "      <td>80667.6058</td>\n",
       "      <td>158220</td>\n",
       "    </tr>\n",
       "    <tr>\n",
       "      <th>7</th>\n",
       "      <td>Research</td>\n",
       "      <td>200615</td>\n",
       "      <td>38851</td>\n",
       "      <td>59665.1817</td>\n",
       "      <td>130211</td>\n",
       "    </tr>\n",
       "    <tr>\n",
       "      <th>8</th>\n",
       "      <td>Customer Service</td>\n",
       "      <td>223644</td>\n",
       "      <td>38836</td>\n",
       "      <td>58770.3665</td>\n",
       "      <td>144866</td>\n",
       "    </tr>\n",
       "  </tbody>\n",
       "</table>\n",
       "</div>"
      ],
      "text/plain": [
       "            dept_name  number_of_emp  min_salary  avg_salary  max_salary\n",
       "0           Marketing         190861       39127  71913.2000      145128\n",
       "1             Finance         165285       38812  70489.3649      142395\n",
       "2     Human Resources         168490       38735  55574.8794      141953\n",
       "3          Production         697158       38623  59605.4825      138273\n",
       "4         Development         810026       38849  59478.9012      144434\n",
       "5  Quality Management         189781       38786  57251.2719      132103\n",
       "6               Sales         496235       39169  80667.6058      158220\n",
       "7            Research         200615       38851  59665.1817      130211\n",
       "8    Customer Service         223644       38836  58770.3665      144866"
      ]
     },
     "execution_count": 48,
     "metadata": {},
     "output_type": "execute_result"
    }
   ],
   "source": [
    "data"
   ]
  },
  {
   "cell_type": "code",
   "execution_count": 49,
   "id": "f9574fcf",
   "metadata": {},
   "outputs": [
    {
     "data": {
      "text/plain": [
       "(9, 5)"
      ]
     },
     "execution_count": 49,
     "metadata": {},
     "output_type": "execute_result"
    }
   ],
   "source": [
    "data.shape"
   ]
  },
  {
   "cell_type": "code",
   "execution_count": 50,
   "id": "0c1622ce",
   "metadata": {},
   "outputs": [
    {
     "data": {
      "text/plain": [
       "<AxesSubplot:>"
      ]
     },
     "execution_count": 50,
     "metadata": {},
     "output_type": "execute_result"
    },
    {
     "data": {
      "image/png": "[encoded data removed]",
      "text/plain": [
       "<Figure size 432x288 with 1 Axes>"
      ]
     },
     "metadata": {
      "needs_background": "light"
     },
     "output_type": "display_data"
    }
   ],
   "source": [
    "data[[\"dept_name\",\"max_salary\"]].plot.bar()"
   ]
  },
  {
   "cell_type": "code",
   "execution_count": 51,
   "id": "795432cf",
   "metadata": {},
   "outputs": [],
   "source": [
    "mysqldb.close() # closing the connection to database"
   ]
  },
  {
   "cell_type": "markdown",
   "id": "3d6a7a7d",
   "metadata": {},
   "source": [
    "# `insert a record from python to mysql`"
   ]
  },
  {
   "cell_type": "code",
   "execution_count": 13,
   "id": "9169463b",
   "metadata": {},
   "outputs": [],
   "source": [
    "mysql_db_Config = {\n",
    "    \"host\":\"127.0.0.1\",\n",
    "    \"user\":\"root\",\n",
    "    \"password\":\"root\",\n",
    "    \"database\":\"company\"\n",
    "}"
   ]
  },
  {
   "cell_type": "code",
   "execution_count": 14,
   "id": "cd668d4a",
   "metadata": {},
   "outputs": [],
   "source": [
    "mysqldb = mysql.connector.connect(**mysql_db_Config)"
   ]
  },
  {
   "cell_type": "code",
   "execution_count": 55,
   "id": "62ecfade",
   "metadata": {},
   "outputs": [],
   "source": [
    "person = [4, 'vinay', 'H', 'ist floor india', 28, 'hyder']\n",
    "\n",
    "mycursor = mysqldb.cursor()\n",
    "\n",
    "sql = \"\"\"\n",
    "INSERT INTO person\n",
    "value (%s,%s,%s,%s,%s,%s)\n",
    "\"\"\"\n",
    "\n",
    "mycursor.execute(sql,person)"
   ]
  },
  {
   "cell_type": "code",
   "execution_count": 56,
   "id": "6885389f",
   "metadata": {},
   "outputs": [],
   "source": [
    "mysqldb.commit()"
   ]
  },
  {
   "cell_type": "code",
   "execution_count": 57,
   "id": "c72b9f91",
   "metadata": {},
   "outputs": [],
   "source": [
    "mysqldb.close()"
   ]
  },
  {
   "cell_type": "markdown",
   "id": "378bc991",
   "metadata": {},
   "source": [
    "# `Get a record from mysql to python`"
   ]
  },
  {
   "cell_type": "code",
   "execution_count": 26,
   "id": "9d80788b",
   "metadata": {},
   "outputs": [],
   "source": [
    "mysql_db_Config = {\n",
    "    \"host\":\"127.0.0.1\",\n",
    "    \"user\":\"root\",\n",
    "    \"password\":\"root\",\n",
    "    \"database\":\"company\"\n",
    "}"
   ]
  },
  {
   "cell_type": "code",
   "execution_count": 27,
   "id": "46406f52",
   "metadata": {},
   "outputs": [],
   "source": [
    "mysqldb = mysql.connector.connect(**mysql_db_Config)\n",
    "mycursor = mysqldb.cursor()"
   ]
  },
  {
   "cell_type": "code",
   "execution_count": 28,
   "id": "4ea7932f",
   "metadata": {},
   "outputs": [],
   "source": [
    "sql = \"\"\"\n",
    "SELECT * FROM company.department2;\n",
    "\"\"\"\n",
    "\n",
    "mycursor.execute(sql)"
   ]
  },
  {
   "cell_type": "code",
   "execution_count": 29,
   "id": "e14b7802",
   "metadata": {
    "scrolled": true
   },
   "outputs": [
    {
     "name": "stdout",
     "output_type": "stream",
     "text": [
      "(1, 'CS')\n",
      "(2, 'ECE')\n",
      "(3, 'ME')\n"
     ]
    }
   ],
   "source": [
    "for records in mycursor:\n",
    "    print(records)"
   ]
  },
  {
   "cell_type": "code",
   "execution_count": 19,
   "id": "109066eb",
   "metadata": {},
   "outputs": [],
   "source": [
    "mysqldb.close()"
   ]
  },
  {
   "cell_type": "code",
   "execution_count": null,
   "id": "cdc4345e",
   "metadata": {},
   "outputs": [],
   "source": []
  }
 ],
 "metadata": {
  "kernelspec": {
   "display_name": "Python 3 (ipykernel)",
   "language": "python",
   "name": "python3"
  },
  "language_info": {
   "codemirror_mode": {
    "name": "ipython",
    "version": 3
   },
   "file_extension": ".py",
   "mimetype": "text/x-python",
   "name": "python",
   "nbconvert_exporter": "python",
   "pygments_lexer": "ipython3",
   "version": "3.9.7"
  }
 },
 "nbformat": 4,
 "nbformat_minor": 5
}
