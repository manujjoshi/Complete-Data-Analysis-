{
 "cells": [
  {
   "cell_type": "markdown",
   "metadata": {},
   "source": [
    "# JupyterLab: Jupyter’s Next-Generation Notebook Interface\n",
    "JupyterLab is a web-based interactive development environment for Jupyter notebooks, code, and data. JupyterLab is flexible: configure and arrange the user interface to support a wide range of workflows in data science, scientific computing, and machine learning. JupyterLab is extensible and modular: write plugins that add new components and integrate with existing ones."
   ]
  },
  {
   "cell_type": "markdown",
   "metadata": {},
   "source": [
    "#### Reason to use Jupyter notebook\n",
    "\n",
    "There are two major reasons we're using Jupyter over other IDEs\n",
    "- Jupyter has the provision to include rich media(images, hyperlinks, plots, graphs, audio, text formatting etc..)\n",
    "- Debugging in Jupyter is much more easier compared to other IDEs/Editors"
   ]
  },
  {
   "cell_type": "markdown",
   "metadata": {},
   "source": [
    "## Shortcuts in notebook:\n",
    "- Short_cut to convert a cell into Markdown: **Esc - m**\n",
    "- Short_cut to convert a Markdonw into Cell: **Esc - y**\n",
    "- Short_cut to run a cell: **SHIFT + ENTER** (Run and move to next cell)\n",
    "- Short_cut to run a cell + stay in same cell: **CRTL + ENTER** (Run and move to next cell)\n",
    "- Short_cut to run a cell + insert cell below: **ALT + ENTER** (Run and move to next cell)\n",
    "- Short_cut to delete a Cell: **Esc - dd**\n",
    "- Short_cut to add a Cell above current cell: **Esc - a**\n",
    "- Short_cut to add a Cell below current cell: **Esc - b**\n",
    "- Short_cut to copy current cell: **Esc - c**\n",
    "- Short_cut to paste current cell: **Esc - x**\n",
    "- Short_cut to paste current cell: **Esc - v**\n",
    "- Short_cut to merge cell below: **SHIFT + M** (after Pressing ESC)\n",
    "- Short_cut to split cell below: **CTRL + SHIFT + -** "
   ]
  },
  {
   "cell_type": "markdown",
   "metadata": {},
   "source": [
    "## Styling in notebook:"
   ]
  },
  {
   "cell_type": "markdown",
   "metadata": {},
   "source": [
    "### Creaton of heading\n",
    "---\n",
    "\n",
    "# Heading 1\n",
    "## Heading 2\n",
    "### Heading 3\n",
    "#### Heading 4\n",
    "##### Heading 5\n",
    "###### Heading 6"
   ]
  },
  {
   "cell_type": "markdown",
   "metadata": {},
   "source": [
    "# Blockquote\n",
    "Blockquotes can be considered as sub-articles or specialized sections in the article where terms which need further explanantion are explained.\n",
    "\n",
    "Syntax:\n",
    "\n",
    "    > text"
   ]
  },
  {
   "cell_type": "markdown",
   "metadata": {},
   "source": [
    "Line1  \n",
    "Line2  \n",
    "> Term1  "
   ]
  },
  {
   "cell_type": "markdown",
   "metadata": {},
   "source": [
    "Line3  \n",
    "Line4  \n",
    "Line5  \n",
    "> Term21  \n",
    "> Term22"
   ]
  },
  {
   "cell_type": "markdown",
   "metadata": {},
   "source": [
    "#### First Law\n",
    "> A robot may not injure a human being or, through inaction, allow a human being to come to harm.\n",
    "#### Second Law\n",
    "> A robot must obey the orders given it by human beings except where such orders would conflict with the First Law.\n",
    "#### Third Law\n",
    "> A robot must protect its own existence as long as such protection does not conflict with the First or Second Law.[1]"
   ]
  },
  {
   "cell_type": "markdown",
   "metadata": {},
   "source": [
    "# Text Highlighting"
   ]
  },
  {
   "cell_type": "markdown",
   "metadata": {},
   "source": [
    "Text in jupyter can be highlighted by enclosing it in backticks(`)"
   ]
  },
  {
   "cell_type": "markdown",
   "metadata": {},
   "source": [
    "- the total of laptop is `RS.40000`\n",
    "- the total of laptop is **RS.40000**\n",
    "- the total of laptop is ~~RS.40000~~\n",
    "- the total of laptop is *RS.40000*\n",
    "- the total of laptop is ***RS.40000***\n",
    "- *+ add*"
   ]
  },
  {
   "cell_type": "markdown",
   "metadata": {},
   "source": [
    "# Text emphasis\n",
    "We can emphasize a text in jupyter by either putting it in bold or italics\n",
    "\n",
    "- **Bold** is bolded \n",
    "- *italics* is italicized\n",
    "- ~~strike~~"
   ]
  },
  {
   "cell_type": "markdown",
   "metadata": {},
   "source": [
    "# Lists\n",
    "Lists are collections which help us stay organised. There are two kinds of lists:\n",
    "- Ordered list\n",
    "- Unordered list"
   ]
  },
  {
   "cell_type": "markdown",
   "metadata": {},
   "source": [
    "### Unordered lists\n",
    "Unordered lists are collections of items where the ordering isn't important. We can put either `+`, `-` or `*` before an item to indicate that it belongs to an unordered list"
   ]
  },
  {
   "cell_type": "markdown",
   "metadata": {},
   "source": [
    "- item1\n",
    "- item2\n",
    "+ item3\n",
    "+ item4\n",
    "* item5\n",
    "* item6"
   ]
  },
  {
   "cell_type": "markdown",
   "metadata": {},
   "source": [
    "### Ordered lists\n",
    "Ordered lists are collections of items where the ordering is important. We have to give a number followed by a full-stop to indicate that it's an ordered list"
   ]
  },
  {
   "cell_type": "markdown",
   "metadata": {},
   "source": [
    "1. Items\n",
    "2. Items\n",
    "3. Items"
   ]
  },
  {
   "cell_type": "markdown",
   "metadata": {},
   "source": [
    "# Hypertext\n",
    "Hypertext is a text on internet which when clicked upon redirects us to a new web page\n",
    "\n",
    "Syntax:\n",
    "\n",
    "    [Text](url *tooltip)"
   ]
  },
  {
   "cell_type": "markdown",
   "metadata": {},
   "source": [
    "## Reference section:\n",
    "- [Python reference 1](https://en.wikipedia.org/wiki/Python_(programming_language))\n",
    "- [CFR](https://pdst.ie/sites/default/files/Fraction%20Manual.pdf)"
   ]
  },
  {
   "cell_type": "markdown",
   "metadata": {},
   "source": [
    "## Adding a image"
   ]
  },
  {
   "cell_type": "markdown",
   "metadata": {},
   "source": [
    "![Data science](https://miro.medium.com/max/2560/1*4oRB4tZrc4OLUeoc-p4wKQ.png)"
   ]
  },
  {
   "cell_type": "raw",
   "metadata": {},
   "source": [
    "### Image\n",
    "#### code for import the image into jupyter notebook\n",
    "\n",
    "![Innomatics](https://miro.medium.com/max/2560/1*4oRB4tZrc4OLUeoc-p4wKQ.png)"
   ]
  },
  {
   "cell_type": "markdown",
   "metadata": {},
   "source": [
    "![Python](Python.png)"
   ]
  },
  {
   "cell_type": "code",
   "execution_count": null,
   "metadata": {},
   "outputs": [],
   "source": []
  }
 ],
 "metadata": {
  "kernelspec": {
   "display_name": "Python 3",
   "language": "python",
   "name": "python3"
  },
  "language_info": {
   "codemirror_mode": {
    "name": "ipython",
    "version": 3
   },
   "file_extension": ".py",
   "mimetype": "text/x-python",
   "name": "python",
   "nbconvert_exporter": "python",
   "pygments_lexer": "ipython3",
   "version": "3.7.6"
  }
 },
 "nbformat": 4,
 "nbformat_minor": 4
}
